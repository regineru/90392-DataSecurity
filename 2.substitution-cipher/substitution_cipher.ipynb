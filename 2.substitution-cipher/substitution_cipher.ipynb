{
 "cells": [
  {
   "cell_type": "markdown",
   "id": "played-repair",
   "metadata": {},
   "source": [
    "# Substitution Ciphers"
   ]
  },
  {
   "cell_type": "markdown",
   "id": "juvenile-freeware",
   "metadata": {},
   "source": [
    "A substitution cipher is a method of encrypting in which every plaintext character (or group of characters) is replaced with a different ciphertext symbol. The receiver deciphers the text by performing the inverse substitution.\n",
    "\n",
    "<img src=\"images/substitution-cipher.png\" width=500px>\n",
    "<!-- ![substitution](images/substitution-cipher.png) -->\n",
    "\n",
    "- Substitution can consider single characters (simple substitution cipher) but also group of characters (e.g., pair, triplets, and so on).\n",
    "- Alphabet simple substitution Ciphers admits $26!\\sim 10^{26}\\sim 2^{88}$ possible encoding rules (not easy to try them all). Assuming 1ns for each try, it would take $>10^9$years.\n",
    "- However, substitution does not alter the statistics so plaintext can be deduced by analyzing the frequency distribution of the ciphertext."
   ]
  },
  {
   "cell_type": "code",
   "execution_count": 1,
   "id": "pharmaceutical-machine",
   "metadata": {},
   "outputs": [],
   "source": [
    "%matplotlib widget\n",
    "import matplotlib.pyplot as plt\n",
    "\n",
    "import numpy as np\n",
    "from scipy import io"
   ]
  },
  {
   "cell_type": "markdown",
   "id": "sitting-riding",
   "metadata": {},
   "source": [
    "## Caesar Cipher"
   ]
  },
  {
   "cell_type": "markdown",
   "id": "sharp-origin",
   "metadata": {},
   "source": [
    "The method is named after Julius Caesar, who used it in his private correspondence. Each letter in the plaintext is replaced by a letter some fixed number of positions down the alphabet.\n",
    "- Same characters for plaintext and ciphertext.\n",
    "- Very simple encoding rule. Only 26 possibilities!\n",
    "\n",
    "<img src=\"images/caesar-cipher.png\" width=500px>"
   ]
  },
  {
   "cell_type": "markdown",
   "id": "middle-trauma",
   "metadata": {},
   "source": [
    "Two easy way to break the cipher:\n",
    "- **Brute force**: Since alphabet is 26 letters long only 26 shifts are possible you can try all possibilities and check them all.\n",
    "- **Frequency analysis**: Knowing what is the frequency of letters (e.g., in English, letters «e», «t», «a», «i» are more common than others), it is possible to infer what shift was used by oserving the frequency of the characters in the ciphertext."
   ]
  },
  {
   "cell_type": "markdown",
   "id": "available-austria",
   "metadata": {},
   "source": [
    "### Decoder"
   ]
  },
  {
   "cell_type": "markdown",
   "id": "material-programmer",
   "metadata": {},
   "source": [
    "As first thing, we need to define the decoding procedure.\n",
    "\n",
    "Decoder needs two pieces of information:\n",
    "- the **alphabet**: it may seem trivial but substitution cipher assumes the decoder knows both plain and cipher alphabet. In case of Caesar cipher they are the same so we just need to define one.\n",
    "- the **shift** (the key): given the alphabet, the Caesar cipher is completely defined by the shift that must be applied to the plain alphabet to obtain the cipher alphabet.\n",
    "\n",
    "We choose to implement the decoder as a function that takes the `ciphertext`a and the `shift` as input and returns the `plaintext`. The alphabet is hard-coded in the function."
   ]
  },
  {
   "cell_type": "code",
   "execution_count": 22,
   "id": "documented-singapore",
   "metadata": {},
   "outputs": [],
   "source": [
    "def caesar_decoding(ciphertext, shift=0):\n",
    "    '''\n",
    "    Decode a ciphertext encrypted with a Caesar Cipher, considering the \n",
    "    26-letter English alphabet.\n",
    "    \n",
    "    Parameters\n",
    "    ----------\n",
    "    ciphertext: str,\n",
    "        ciphertext to be decoded\n",
    "    shift: int, optional (default=0)\n",
    "        alphabet shift that maps the English alphabet into the cipher alphabet.\n",
    "    \n",
    "    Return\n",
    "    ------\n",
    "    plaintext: str,\n",
    "        decoded ciphertext.\n",
    "    '''\n",
    "    # define hard-coded 26-letter English alphabet\n",
    "    alphabet = 'abcdefghijklmnopqrstuvwxyz'\n",
    "    \n",
    "    # build a dictionary that maps the plain alphabet into the cipher alphabet\n",
    "    cipher_alphabet = alphabet[-shift:] + alphabet[:-shift]\n",
    "    mapping = dict(zip(alphabet, cipher_alphabet))\n",
    "    \n",
    "    # iter over each charater of the ciphertext when apply substitution\n",
    "    # characters not in the alphabet are left unchanged\n",
    "    plaintext = ''.join([mapping[char] if char in alphabet else char\n",
    "                         for char in ciphertext.lower()])\n",
    "    return plaintext"
   ]
  },
  {
   "cell_type": "code",
   "execution_count": 23,
   "id": "boolean-somerset",
   "metadata": {},
   "outputs": [
    {
     "name": "stdout",
     "output_type": "stream",
     "text": [
      "lipps! -> hello!\n"
     ]
    }
   ],
   "source": [
    "# code snippet to test the implementation of the decoder\n",
    "ciphertext = 'lipps!' # 'hello!' encoded with shift=4\n",
    "plaintext = caesar_decoding(ciphertext, shift=4)\n",
    "\n",
    "print(ciphertext, '->', plaintext)"
   ]
  },
  {
   "cell_type": "markdown",
   "id": "freelance-backup",
   "metadata": {},
   "source": [
    "### Ciphertext"
   ]
  },
  {
   "cell_type": "markdown",
   "id": "contemporary-honolulu",
   "metadata": {},
   "source": [
    "Then, we need to load the ciphertext stored in the file `ciphertext_caesar.txt`.\n",
    "\n",
    "We know that:\n",
    "- ciphertext contains the text of a [Wikipedia](https://www.wikipedia.org/) page encrypted with a Caesar Cipher.\n",
    "- cipher consider the 26-letter English alphabet\n",
    "- characters that do not belong to the alphabet (such as numbers and special characters) are left unchanged."
   ]
  },
  {
   "cell_type": "code",
   "execution_count": 25,
   "id": "mighty-budget",
   "metadata": {},
   "outputs": [
    {
     "name": "stdout",
     "output_type": "stream",
     "text": [
      "qfmdhcufodvm, cf qfmdhczcum (tfca obqwsbh ufssy: κρυπτός, fcaobwnsr: yfmdhóg \"vwrrsb, gsqfsh\"; obr γράφειν ufodvswb, \"hc kfwhs\", cf -λογία -zcuwo, \"ghirm\", fsgdsqhwjszm), wg hvs dfoqhwqs obr ghirm ct hsqvbweisg tcf gsqifs qcaaibwqohwcb wb hvs dfsgsbqs ct hvwfr dofhwsg qozzsr orjsfgofwsg. acfs usbsfozzm, qfmdhcufodvm wg opcih qcbghfiqhwbu obr obozmnwbu dfchcqczg hvoh dfsjsbh hvwfr dofhwsg cf hvs dipzwq tfca fsorwbu dfwjohs asggousg; jofwcig ogdsqhg wb wbtcfaohwcb gsqifwhm giqv og roho qcbtwrsbhwozwhm, roho wbhsufwhm, oihvsbhwqohwcb, obr bcb-fsdirwohwcb ofs qsbhfoz hc acrsfb qfmdhcufodvm. acrsfb qfmdhcufodvm slwghg oh hvs wbhsfgsqhwcb ct hvs rwgqwdzwbsg ct aohvsaohwqg, qcadihsf gqwsbqs, szsqhfwqoz sbuwbssfwbu, qcaaibwqohwcb gqwsbqs, obr dvmgwqg. oddzwqohwcbg ct qfmdhcufodvm wbqzirs szsqhfcbwq qcaasfqs, qvwd-pogsr domasbh qofrg, rwuwhoz qiffsbqwsg, qcadihsf doggkcfrg, obr awzwhofm qcaaibwqohwcbg.\n",
      "qfmdhcufodvm dfwcf hc hvs acrsfb ous kog sttsqhwjszm gmbcbmacig kwhv sbqfmdhwcb, qcbjsfhwbu w\n"
     ]
    }
   ],
   "source": [
    "with open('ciphertext_caesar.txt', mode='r', encoding='utf8') as file:\n",
    "    ciphertext = file.read()\n",
    "    \n",
    "# print just first characters\n",
    "print(ciphertext[:1000])"
   ]
  },
  {
   "cell_type": "markdown",
   "id": "monetary-humidity",
   "metadata": {},
   "source": [
    "### letters distribution"
   ]
  },
  {
   "cell_type": "markdown",
   "id": "centered-tuesday",
   "metadata": {},
   "source": [
    "A piece of knowledge that can be useful to break a Caesar cipher is the distribution of the alphabet letters in English language. It is stored in `alphabet_distribution.mat`.\n",
    "\n",
    "The distribution of the letters in English language has been estimated by observing many different Wikipedia pages."
   ]
  },
  {
   "cell_type": "code",
   "execution_count": 26,
   "id": "selected-capability",
   "metadata": {},
   "outputs": [
    {
     "name": "stdout",
     "output_type": "stream",
     "text": [
      "a: 29158\n",
      "b: 5724\n",
      "c: 12570\n",
      "d: 13592\n",
      "e: 44376\n",
      "f: 6835\n",
      "g: 7067\n",
      "h: 15209\n",
      "i: 28203\n",
      "j: 875\n",
      "k: 4124\n",
      "l: 15094\n",
      "m: 9084\n",
      "n: 24554\n",
      "o: 27620\n",
      "p: 8505\n",
      "q: 454\n",
      "r: 21467\n",
      "s: 22771\n",
      "t: 34070\n",
      "u: 11987\n",
      "v: 3776\n",
      "w: 6113\n",
      "x: 883\n",
      "y: 6987\n",
      "z: 336\n"
     ]
    }
   ],
   "source": [
    "# loading the distribution from .mat file\n",
    "mdict = io.loadmat('alphabet_distribution.mat', squeeze_me=True)\n",
    "alphabet = mdict['alphabet']\n",
    "frequency = mdict['frequency']\n",
    "\n",
    "# print distribution\n",
    "for letter, freq in zip(alphabet, frequency):\n",
    "    print(f'{letter}: {freq}')"
   ]
  },
  {
   "cell_type": "code",
   "execution_count": 17,
   "id": "valuable-suggestion",
   "metadata": {},
   "outputs": [
    {
     "data": {
      "application/vnd.jupyter.widget-view+json": {
       "model_id": "79122ab7a0574fd0b6c5aac6a0e626f9",
       "version_major": 2,
       "version_minor": 0
      },
      "text/plain": [
       "Canvas(toolbar=Toolbar(toolitems=[('Home', 'Reset original view', 'home', 'home'), ('Back', 'Back to previous …"
      ]
     },
     "metadata": {},
     "output_type": "display_data"
    }
   ],
   "source": [
    "# plot distribution as bar plot\n",
    "fig, ax = plt.subplots(figsize=(5,3))\n",
    "probability = frequency/np.sum(frequency)\n",
    "ax.bar(alphabet, probability)\n",
    "ax.set(xlabel='letter', ylabel='probability')\n",
    "ax.grid(True)\n",
    "fig.tight_layout()"
   ]
  },
  {
   "cell_type": "code",
   "execution_count": 18,
   "id": "fuzzy-combination",
   "metadata": {},
   "outputs": [
    {
     "data": {
      "application/vnd.jupyter.widget-view+json": {
       "model_id": "09910134167949ae84c66154c4f5b979",
       "version_major": 2,
       "version_minor": 0
      },
      "text/plain": [
       "Canvas(toolbar=Toolbar(toolitems=[('Home', 'Reset original view', 'home', 'home'), ('Back', 'Back to previous …"
      ]
     },
     "metadata": {},
     "output_type": "display_data"
    }
   ],
   "source": [
    "# plot distribution by sorting letters by frequency in descending order\n",
    "fig, ax = plt.subplots(figsize=(5,3))\n",
    "idx = np.argsort(probability)[::-1]\n",
    "ax.bar(alphabet[idx], probability[idx])\n",
    "ax.set(xlabel='letter', ylabel='probability')\n",
    "ax.grid(True)\n",
    "fig.tight_layout()"
   ]
  },
  {
   "cell_type": "markdown",
   "id": "everyday-singapore",
   "metadata": {},
   "source": [
    "### Brute Force"
   ]
  },
  {
   "cell_type": "markdown",
   "id": "powerful-religion",
   "metadata": {},
   "source": [
    "Since alphabet is 26 letters long only 26 shifts are possible you can try all possibilities and check them all."
   ]
  },
  {
   "cell_type": "code",
   "execution_count": 27,
   "id": "herbal-volume",
   "metadata": {},
   "outputs": [
    {
     "name": "stdout",
     "output_type": "stream",
     "text": [
      " 0 -> qfmdhcufodvm, cf qfmdhczcum (tfca obqwsbh ufssy: κρυπτός, fcaobwnsr: yfmd\n",
      " 1 -> pelcgbtencul, be pelcgbybtl (sebz napvrag terrx: κρυπτός, ebznavmrq: xelc\n",
      " 2 -> odkbfasdmbtk, ad odkbfaxask (rday mzouqzf sdqqw: κρυπτός, daymzulqp: wdkb\n",
      " 3 -> ncjaezrclasj, zc ncjaezwzrj (qczx lyntpye rcppv: κρυπτός, czxlytkpo: vcja\n",
      " 4 -> mbizdyqbkzri, yb mbizdyvyqi (pbyw kxmsoxd qboou: κρυπτός, bywkxsjon: ubiz\n",
      " 5 -> lahycxpajyqh, xa lahycxuxph (oaxv jwlrnwc pannt: κρυπτός, axvjwrinm: tahy\n",
      " 6 -> kzgxbwozixpg, wz kzgxbwtwog (nzwu ivkqmvb ozmms: κρυπτός, zwuivqhml: szgx\n",
      " 7 -> jyfwavnyhwof, vy jyfwavsvnf (myvt hujplua nyllr: κρυπτός, yvthupglk: ryfw\n",
      " 8 -> ixevzumxgvne, ux ixevzurume (lxus gtioktz mxkkq: κρυπτός, xusgtofkj: qxev\n",
      " 9 -> hwduytlwfumd, tw hwduytqtld (kwtr fshnjsy lwjjp: κρυπτός, wtrfsneji: pwdu\n",
      "10 -> gvctxskvetlc, sv gvctxspskc (jvsq ergmirx kviio: κρυπτός, vsqermdih: ovct\n",
      "11 -> fubswrjudskb, ru fubswrorjb (iurp dqflhqw juhhn: κρυπτός, urpdqlchg: nubs\n",
      "12 -> etarvqitcrja, qt etarvqnqia (htqo cpekgpv itggm: κρυπτός, tqocpkbgf: mtar\n",
      "13 -> dszquphsbqiz, ps dszqupmphz (gspn bodjfou hsffl: κρυπτός, spnbojafe: lszq\n",
      "14 -> cryptography, or cryptology (from ancient greek: κρυπτός, romanized: kryp\n",
      "15 -> bqxosnfqzogx, nq bqxosnknfx (eqnl zmbhdms fqddj: κρυπτός, qnlzmhydc: jqxo\n",
      "16 -> apwnrmepynfw, mp apwnrmjmew (dpmk ylagclr epcci: κρυπτός, pmkylgxcb: ipwn\n",
      "17 -> zovmqldoxmev, lo zovmqlildv (colj xkzfbkq dobbh: κρυπτός, oljxkfwba: hovm\n",
      "18 -> ynulpkcnwldu, kn ynulpkhkcu (bnki wjyeajp cnaag: κρυπτός, nkiwjevaz: gnul\n",
      "19 -> xmtkojbmvkct, jm xmtkojgjbt (amjh vixdzio bmzzf: κρυπτός, mjhviduzy: fmtk\n",
      "20 -> wlsjnialujbs, il wlsjnifias (zlig uhwcyhn alyye: κρυπτός, liguhctyx: elsj\n",
      "21 -> vkrimhzktiar, hk vkrimhehzr (ykhf tgvbxgm zkxxd: κρυπτός, khftgbsxw: dkri\n",
      "22 -> ujqhlgyjshzq, gj ujqhlgdgyq (xjge sfuawfl yjwwc: κρυπτός, jgesfarwv: cjqh\n",
      "23 -> tipgkfxirgyp, fi tipgkfcfxp (wifd retzvek xivvb: κρυπτός, ifdrezqvu: bipg\n",
      "24 -> shofjewhqfxo, eh shofjebewo (vhec qdsyudj whuua: κρυπτός, hecqdyput: ahof\n",
      "25 -> rgneidvgpewn, dg rgneidadvn (ugdb pcrxtci vgttz: κρυπτός, gdbpcxots: zgne\n"
     ]
    }
   ],
   "source": [
    "# try every possible shift and print the corresponding plaintext\n",
    "for shift in range(len(alphabet)):\n",
    "    plaintext = caesar_decoding(ciphertext, shift=shift)\n",
    "    print(f'{shift:2d} -> {plaintext[:73]}')"
   ]
  },
  {
   "cell_type": "markdown",
   "id": "registered-empty",
   "metadata": {},
   "source": [
    "The only shift resulting in a plausible plaintext is `shift`=14."
   ]
  },
  {
   "cell_type": "code",
   "execution_count": 28,
   "id": "twelve-lloyd",
   "metadata": {},
   "outputs": [],
   "source": [
    "shift = 14"
   ]
  },
  {
   "cell_type": "code",
   "execution_count": 31,
   "id": "closed-intensity",
   "metadata": {},
   "outputs": [
    {
     "name": "stdout",
     "output_type": "stream",
     "text": [
      "cryptography, or cryptology (from ancient greek: κρυπτός, romanized: kryptós \"hidden, secret\"; and γράφειν graphein, \"to write\", or -λογία -logia, \"study\", respectively), is the practice and study of techniques for secure communication in the presence of third parties called adversaries. more generally, cryptography is about constructing and analyzing protocols that prevent third parties or the public from reading private messages; various aspects in information security such as data confidentiality, data integrity, authentication, and non-repudiation are central to modern cryptography. modern cryptography exists at the intersection of the disciplines of mathematics, computer science, electrical engineering, communication science, and physics. applications of cryptography include electronic commerce, chip-based payment cards, digital currencies, computer passwords, and military communications.\n",
      "cryptography prior to the modern age was effectively synonymous with encryption, converting i\n"
     ]
    }
   ],
   "source": [
    "plaintext = caesar_decoding(ciphertext, shift=shift)\n",
    "print(plaintext[:1000])"
   ]
  },
  {
   "cell_type": "markdown",
   "id": "knowing-package",
   "metadata": {},
   "source": [
    "It make sense!"
   ]
  },
  {
   "cell_type": "markdown",
   "id": "supreme-brake",
   "metadata": {},
   "source": [
    "#### Fitness Measure"
   ]
  },
  {
   "cell_type": "markdown",
   "id": "apparent-forwarding",
   "metadata": {},
   "source": [
    "The first attempt was successful. Each possible shift was tested and the correspondent plaintext was manually analyzed. Information about alphabet distribution was completely ignored.\n",
    "\n",
    "> Is it possible to use the alphabet distribution to assess the quality of the decoded plaintext?\n",
    "\n",
    "Yes, it is. We can use a metric that measures how the letter distribution in the decoded plaintext **fit** the actual letter distribution. The *fitness measure* measures how likely a given plaintext is the right one.\n",
    "\n",
    "Fitness measure $f$ for a given plaintext $\\mathcal{P}$ is defined as follow:\n",
    "$$ f(\\mathcal{P}) = \\sum_{a\\in \\mathcal{P}} a \\cdot p_x(a) $$\n",
    "where:\n",
    "- $a$ represents each single character of the plaintext $\\mathcal{P}$\n",
    "- $p_x$ identifies the probability distribution of generic letter $x$. Therefore, $p_x(a)$ is the probability to observe the character $a$."
   ]
  },
  {
   "cell_type": "code",
   "execution_count": 33,
   "id": "original-pointer",
   "metadata": {},
   "outputs": [],
   "source": [
    "def fitness(text):\n",
    "    ''' fitness measure '''\n",
    "    dist = dict(zip(alphabet, probability)) # hard-coded alphabet distribution\n",
    "    measure = np.sum([text.count(char)*dist[char] for char in alphabet])\n",
    "    return measure"
   ]
  },
  {
   "cell_type": "code",
   "execution_count": 34,
   "id": "better-software",
   "metadata": {},
   "outputs": [
    {
     "name": "stdout",
     "output_type": "stream",
     "text": [
      "best fitness: shift=14\n"
     ]
    },
    {
     "data": {
      "application/vnd.jupyter.widget-view+json": {
       "model_id": "c7761ea2efc9420d91409b65999a271a",
       "version_major": 2,
       "version_minor": 0
      },
      "text/plain": [
       "Canvas(toolbar=Toolbar(toolitems=[('Home', 'Reset original view', 'home', 'home'), ('Back', 'Back to previous …"
      ]
     },
     "metadata": {},
     "output_type": "display_data"
    }
   ],
   "source": [
    "# compute fitness for each possible plaintext\n",
    "fit = np.array([fitness(caesar_decoding(ciphertext, shift=shift))\n",
    "                for shift in range(len(alphabet))])\n",
    "\n",
    "# get shift with maximum fitness measure\n",
    "imax = np.argmax(fit)\n",
    "print(f'best fitness: shift={imax}')\n",
    "\n",
    "# plot fitness measure for all possible plaintext and mark maximum\n",
    "fig, ax = plt.subplots(figsize=(5,3))\n",
    "ax.bar(np.arange(len(alphabet)), fit)\n",
    "ax.plot(imax, fit[imax], '*', color='C3')\n",
    "ax.set(xlabel='shift', ylabel='fitness measure')\n",
    "ax.grid(True)\n",
    "fig.tight_layout()"
   ]
  },
  {
   "cell_type": "markdown",
   "id": "protective-supply",
   "metadata": {},
   "source": [
    "### Frequency Analysis"
   ]
  },
  {
   "cell_type": "markdown",
   "id": "large-battle",
   "metadata": {},
   "source": [
    "Knowing what is the typical frequency for each letter (e.g., in English, letters «e», «t», «a», «i» are more common than others), it is possible to infer what shift was used to encrypt the plaintext. We just need to oserve the frequency of the characters in the ciphertext and find what shift best match the two distribution."
   ]
  },
  {
   "cell_type": "code",
   "execution_count": 35,
   "id": "upset-debate",
   "metadata": {},
   "outputs": [
    {
     "name": "stdout",
     "output_type": "stream",
     "text": [
      "a:  1078 (0.023)\n",
      "b:  2541 (0.054)\n",
      "c:  2519 (0.053)\n",
      "d:  1268 (0.027)\n",
      "e:    83 (0.002)\n",
      "f:  2656 (0.056)\n",
      "g:  2595 (0.055)\n",
      "h:  3425 (0.072)\n",
      "i:   990 (0.021)\n",
      "j:   397 (0.008)\n",
      "k:   405 (0.009)\n",
      "l:   115 (0.002)\n",
      "m:  1141 (0.024)\n",
      "n:    33 (0.001)\n",
      "o:  3048 (0.064)\n",
      "p:   572 (0.012)\n",
      "q:  1881 (0.040)\n",
      "r:  1242 (0.026)\n",
      "s:  4614 (0.097)\n",
      "t:   758 (0.016)\n",
      "u:   757 (0.016)\n",
      "v:  1630 (0.034)\n",
      "w:  2947 (0.062)\n",
      "x:    21 (0.000)\n",
      "y:   314 (0.007)\n",
      "z:  1578 (0.033)\n"
     ]
    }
   ],
   "source": [
    "# computing alphabet distribution on the ciphertext\n",
    "freq_ciphertext = np.array([ciphertext.count(x) for x in alphabet])\n",
    "prob_ciphertext = freq_ciphertext/len(ciphertext)\n",
    "\n",
    "# print letters frequency and estimated probability\n",
    "for letter, freq, prob in zip(alphabet, freq_ciphertext, prob_ciphertext):\n",
    "    print(f'{letter}: {freq:5d} ({prob:.3f})')"
   ]
  },
  {
   "cell_type": "code",
   "execution_count": 36,
   "id": "twenty-broadcasting",
   "metadata": {},
   "outputs": [
    {
     "data": {
      "application/vnd.jupyter.widget-view+json": {
       "model_id": "004a6c807f0448e2999e3c74f13958a6",
       "version_major": 2,
       "version_minor": 0
      },
      "text/plain": [
       "Canvas(toolbar=Toolbar(toolitems=[('Home', 'Reset original view', 'home', 'home'), ('Back', 'Back to previous …"
      ]
     },
     "metadata": {},
     "output_type": "display_data"
    }
   ],
   "source": [
    "fig, ax = plt.subplots(2, 1, figsize=(5,4))\n",
    "\n",
    "ax[0].bar(alphabet, probability, label='plaintext')\n",
    "ax[0].set(xlabel='letter', ylabel='probability')\n",
    "ax[0].grid(True)\n",
    "ax[0].legend(loc='upper right')\n",
    "\n",
    "ax[1].bar(alphabet, prob_ciphertext, label='ciphertext')\n",
    "ax[1].set(xlabel='letter', ylabel='probability')\n",
    "ax[1].grid(True)\n",
    "ax[1].legend(loc='upper right')\n",
    "\n",
    "fig.tight_layout()\n"
   ]
  },
  {
   "cell_type": "markdown",
   "id": "comfortable-tumor",
   "metadata": {},
   "source": [
    "By comparing the two distribution plots, It is evident that the letter `e` (the most common) is mapped to the letter `s`, `f` to `t` and so on. The shift used by the Caesar cipher is therefore 14."
   ]
  },
  {
   "cell_type": "code",
   "execution_count": 37,
   "id": "composed-frontier",
   "metadata": {},
   "outputs": [],
   "source": [
    "shift = 14"
   ]
  },
  {
   "cell_type": "code",
   "execution_count": 38,
   "id": "ancient-franchise",
   "metadata": {},
   "outputs": [
    {
     "name": "stdout",
     "output_type": "stream",
     "text": [
      "cryptography, or cryptology (from ancient greek: κρυπτός, romanized: kryptós \"hidden, secret\"; and γράφειν graphein, \"to write\", or -λογία -logia, \"study\", respectively), is the practice and study of techniques for secure communication in the presence of third parties called adversaries. more generally, cryptography is about constructing and analyzing protocols that prevent third parties or the public from reading private messages; various aspects in information security such as data confidentiality, data integrity, authentication, and non-repudiation are central to modern cryptography. modern cryptography exists at the intersection of the disciplines of mathematics, computer science, electrical engineering, communication science, and physics. applications of cryptography include electronic commerce, chip-based payment cards, digital currencies, computer passwords, and military communications.\n",
      "cryptography prior to the modern age was effectively synonymous with encryption, converting i\n"
     ]
    }
   ],
   "source": [
    "plaintext = caesar_decoding(ciphertext, shift=shift)\n",
    "print(plaintext[:1000])"
   ]
  },
  {
   "cell_type": "markdown",
   "id": "controversial-mozambique",
   "metadata": {},
   "source": [
    "## Simple Substitution Cipher"
   ]
  },
  {
   "cell_type": "markdown",
   "id": "wooden-tanzania",
   "metadata": {},
   "source": [
    "In a simple substitution cipher, every plaintext character is replaced with a different ciphertext character. \n",
    "\n",
    "As for Caesar Cipher, plaintext and ciphertext share the same set of characters (the alphabet), but, mapping from plaintext to ciphertext can be any of the $26! \\sim 10^{26}\\sim 2^{88}$ possibilities\n",
    "\n",
    "Since nowadays machines cannot explore 26! candidates, **frequency analysis** must be exploited to narrow down their number."
   ]
  },
  {
   "cell_type": "markdown",
   "id": "interstate-property",
   "metadata": {},
   "source": [
    "### Decoder"
   ]
  },
  {
   "cell_type": "markdown",
   "id": "early-least",
   "metadata": {},
   "source": [
    "As for Caesar cipher the decoder must know the **alphabet**, but this time a bare shift is not sufficient to define a decoder but there is the need of a **mapping rule** that maps each character of the plaintext to the character of the ciphertext.\n",
    "\n",
    "Again, we can implement the decoder as a function that takes the `ciphertext`a and the mapping `rule` as input and returns the `plaintext`. The alphabet is hard-coded in the function."
   ]
  },
  {
   "cell_type": "code",
   "execution_count": 39,
   "id": "metric-bibliography",
   "metadata": {},
   "outputs": [],
   "source": [
    "def simple_decoding(ciphertext, rule):\n",
    "    '''\n",
    "    Decode a ciphertext encrypted with a Simple Substitution Cipher, \n",
    "    considering the 26-letter English alphabet.\n",
    "    \n",
    "    Parameters\n",
    "    ----------\n",
    "    ciphertext: str,\n",
    "        ciphertext to be decoded\n",
    "    rule: dict,\n",
    "        map from cipher alphabet to plaintext alphabet.\n",
    "    \n",
    "    Return\n",
    "    ------\n",
    "    plaintext: str,\n",
    "        decoded ciphertext.\n",
    "    '''\n",
    "    plaintext = ''.join([rule[char] if char in alphabet else char\n",
    "                         for char in ciphertext.lower()])\n",
    "    return plaintext"
   ]
  },
  {
   "cell_type": "markdown",
   "id": "disabled-compensation",
   "metadata": {},
   "source": [
    "### Ciphertext"
   ]
  },
  {
   "cell_type": "markdown",
   "id": "adequate-priority",
   "metadata": {},
   "source": [
    "Let us load the ciphertext stored in the file `ciphertext_simple.txt`.\n",
    "\n",
    "As before, we know that:\n",
    "- ciphertext contains the text of a [Wikipedia](https://www.wikipedia.org/) page encrypted with a Simple Substitution Cipher.\n",
    "- cipher consider the 26-letter English alphabet\n",
    "- characters that do not belong to the alphabet (such as numbers and special characters) are left unchanged."
   ]
  },
  {
   "cell_type": "code",
   "execution_count": 40,
   "id": "swiss-award",
   "metadata": {},
   "outputs": [
    {
     "name": "stdout",
     "output_type": "stream",
     "text": [
      "thycbr rhdffb wmyeefe (ynvxh 30, 1916 – iravcyvo 24, 2001) dyw ye ylrvxtye lyjmrlyjxtxye, rhrtjvxtyh resxerrv, yeb tvonjfsvynmrv qefde yw \"jmr iyjmrv fi xeifvlyjxfe jmrfvo\". wmyeefe xw efjrb ifv myzxes ifcebrb xeifvlyjxfe jmrfvo dxjm y hyeblyvq nynrv, \"y lyjmrlyjxtyh jmrfvo fi tfllcextyjxfe\", dmxtm mr ncahxwmrb xe 1948.\n",
      "mr xw yhwf drhh qefde ifv ifcebxes bxsxjyh txvtcxj brwxse jmrfvo xe 1937, dmre—yw y 21-oryv-fhb lywjrv'w brsvrr wjcbrej yj jmr lywwytmcwrjjw xewjxjcjr fi jrtmefhfso (lxj)—mr dvfjr mxw jmrwxw brlfewjvyjxes jmyj rhrtjvxtyh ynnhxtyjxfew fi affhrye yhsravy tfchb tfewjvctj yeo hfsxtyh eclrvxtyh vrhyjxfewmxn. wmyeefe tfejvxacjrb jf jmr ixrhb fi tvonjyeyhowxw ifv eyjxfeyh brirewr bcvxes dfvhb dyv xx, xethcbxes mxw icebylrejyh dfvq fe tfbravryqxes yeb wrtcvr jrhrtfllcextyjxfew.\n",
      "\n",
      "\n",
      "== axfsvynmo ==\n",
      "\n",
      "\n",
      "=== tmxhbmffb ===\n",
      "jmr wmyeefe iylxho hxzrb xe syohfvb, lxtmxsye, yeb thycbr dyw afve xe y mfwnxjyh xe eryvao nrjfwqro. mxw iyjmrv, thycbr wv. (1862–1934) dyw y acwxerwwlye yeb ifv y d\n"
     ]
    }
   ],
   "source": [
    "with open('ciphertext_simple.txt', mode='r', encoding='utf8') as file:\n",
    "    ciphertext = file.read()\n",
    "print(ciphertext[:1000])"
   ]
  },
  {
   "cell_type": "markdown",
   "id": "hydraulic-joshua",
   "metadata": {},
   "source": [
    "### Frequency Analysis"
   ]
  },
  {
   "cell_type": "markdown",
   "id": "broken-macedonia",
   "metadata": {},
   "source": [
    "For reasonably large pieces of text (with enough characters to be statistically relevant), a possible procedure can be:\n",
    " - to just replace the most common ciphertext character with the most common character in the plaintext (for English text is `e`). \n",
    " - to replace the second most common ciphertext character with the second most common character in the plaintext \n",
    " - and so on"
   ]
  },
  {
   "cell_type": "code",
   "execution_count": 41,
   "id": "moved-intro",
   "metadata": {},
   "outputs": [
    {
     "name": "stdout",
     "output_type": "stream",
     "text": [
      "thycbrrhdffbwmyeefeynvxhiravcyvodywyeylrvxtyelyjmrlyjxtxyerhrtjvxtyhresxerrvyebtvonjfsvynmrvqefdeywjmriyjmrvfixeifvlyjxfejmrfvowmyeefexwefjrbifvmyzxesifcebrbxeifvlyjxfejmrfvodxjmyhyeblyvqnynrvylyjmrlyjxtyhjmrfvofitfllcextyjxfedmxtmmrncahxwmrbxemrxwyhwfdrhhqefdeifvifcebxesbxsxjyhtxvtcxjbrwxsejmrfvoxedmreywyoryvfhblywjrvwbrsvrrwjcbrejyjjmrlywwytmcwrjjwxewjxjcjrfijrtmefhfsolxjmrdvfjrmxwjmrwxwbrlfewjvyjxesjmyjrhrtjvxtyhynnhxtyjxfewfiaffhryeyhsravytfchbtfewjvctjyeohfsxtyheclrvxtyhvrhyjxfewmxnwmyeefetfejvxacjrbjfjmrixrhbfitvonjyeyhowxwifveyjxfeyhbrirewrbcvxesdfvhbdyvxxxethcbxesmxwicebylrejyhdfvqfetfbravryqxesyebwrtcvrjrhrtfllcextyjxfewaxfsvynmotmxhbmffbjmrwmyeefeiylxhohxzrbxesyohfvblxtmxsyeyebthycbrdywafvexeymfwnxjyhxeeryvaonrjfwqromxwiyjmrvthycbrwvdywyacwxerwwlyeyebifvydmxhryucbsrfinvfayjrxesyohfvbmxwlfjmrvlyarhdfhiwmyeefedywyhyescysrjrytmrvdmfyhwfwrvzrbywjmrnvxetxnyhfisyohfvbmxsmwtmffhthycbrwvdywybrwtrebyejfierdurvwrowrjjhrvwdmxhrlyarhdywytmxhbfisrvlyexllxsvyejwlfwjfijmrixvwjoryvwfiwmyeefe\n"
     ]
    }
   ],
   "source": [
    "text = ''.join(filter(lambda x: x in alphabet, ciphertext))\n",
    "print(text[:1000])"
   ]
  },
  {
   "cell_type": "code",
   "execution_count": 42,
   "id": "insured-husband",
   "metadata": {},
   "outputs": [
    {
     "name": "stdout",
     "output_type": "stream",
     "text": [
      "a:   269 (0.015)\n",
      "b:   648 (0.037)\n",
      "c:   454 (0.026)\n",
      "d:   283 (0.016)\n",
      "e:  1571 (0.090)\n",
      "f:  1382 (0.080)\n",
      "g:    10 (0.001)\n",
      "h:   740 (0.043)\n",
      "i:   347 (0.020)\n",
      "j:  1410 (0.081)\n",
      "k:    16 (0.001)\n",
      "l:   504 (0.029)\n",
      "m:   847 (0.049)\n",
      "n:   354 (0.020)\n",
      "o:   289 (0.017)\n",
      "p:    23 (0.001)\n",
      "q:    82 (0.005)\n",
      "r:  1912 (0.110)\n",
      "s:   327 (0.019)\n",
      "t:   689 (0.040)\n",
      "u:    25 (0.001)\n",
      "v:  1001 (0.058)\n",
      "w:  1134 (0.065)\n",
      "x:  1388 (0.080)\n",
      "y:  1506 (0.087)\n",
      "z:   166 (0.010)\n"
     ]
    }
   ],
   "source": [
    "# computing alphabet distribution on the ciphertext\n",
    "freq_ciphertext = np.array([text.count(x) for x in alphabet])\n",
    "prob_ciphertext = freq_ciphertext/len(text)\n",
    "\n",
    "# print letters frequency and estimated probability\n",
    "for letter, freq, prob in zip(alphabet, freq_ciphertext, prob_ciphertext):\n",
    "    print(f'{letter}: {freq:5d} ({prob:.3f})')"
   ]
  },
  {
   "cell_type": "code",
   "execution_count": 43,
   "id": "sudden-turner",
   "metadata": {},
   "outputs": [
    {
     "data": {
      "application/vnd.jupyter.widget-view+json": {
       "model_id": "345d99ada6614e1fae49f68e475e5a12",
       "version_major": 2,
       "version_minor": 0
      },
      "text/plain": [
       "Canvas(toolbar=Toolbar(toolitems=[('Home', 'Reset original view', 'home', 'home'), ('Back', 'Back to previous …"
      ]
     },
     "metadata": {},
     "output_type": "display_data"
    }
   ],
   "source": [
    "fig, ax = plt.subplots(2, 1, figsize=(5,4))\n",
    "\n",
    "ax[0].bar(alphabet, probability, label='plaintext')\n",
    "ax[0].set(xlabel='letter', ylabel='probability')\n",
    "ax[0].grid(True)\n",
    "ax[0].legend(loc='upper right')\n",
    "\n",
    "ax[1].bar(alphabet, prob_ciphertext, label='ciphertext')\n",
    "ax[1].set(xlabel='letter', ylabel='probability')\n",
    "ax[1].grid(True)\n",
    "ax[1].legend(loc='upper right')\n",
    "\n",
    "fig.tight_layout()\n"
   ]
  },
  {
   "cell_type": "markdown",
   "id": "physical-vermont",
   "metadata": {},
   "source": [
    "Let us plot the two distribution in descending order so that we can match the ciphertext most common character with the one that is most common in a typical Eanglish Wikipedia page."
   ]
  },
  {
   "cell_type": "code",
   "execution_count": 44,
   "id": "metric-hudson",
   "metadata": {},
   "outputs": [
    {
     "data": {
      "application/vnd.jupyter.widget-view+json": {
       "model_id": "f5769cf7800e4b239935f5559dcb3f96",
       "version_major": 2,
       "version_minor": 0
      },
      "text/plain": [
       "Canvas(toolbar=Toolbar(toolitems=[('Home', 'Reset original view', 'home', 'home'), ('Back', 'Back to previous …"
      ]
     },
     "metadata": {},
     "output_type": "display_data"
    }
   ],
   "source": [
    "fig, ax = plt.subplots(2, 1, figsize=(5,4))\n",
    "\n",
    "idx_plain = np.argsort(probability)[::-1] # sorted indexes for plaintext\n",
    "ax[0].bar(alphabet[idx_plain], probability[idx_plain], label='plaintext')\n",
    "ax[0].set(xlabel='letter', ylabel='probability')\n",
    "ax[0].grid(True)\n",
    "ax[0].legend(loc='upper right')\n",
    "\n",
    "idx_cipher = np.argsort(prob_ciphertext)[::-1] # sorted indexes for ciphertext\n",
    "ax[1].bar(alphabet[idx_cipher], prob_ciphertext[idx_cipher], \n",
    "          label='ciphertext')\n",
    "ax[1].set(xlabel='letter', ylabel='probability')\n",
    "ax[1].grid(True)\n",
    "ax[1].legend(loc='upper right')\n",
    "\n",
    "fig.tight_layout()"
   ]
  },
  {
   "cell_type": "markdown",
   "id": "sharing-format",
   "metadata": {},
   "source": [
    "Let us define our first guess by matching the two distributions."
   ]
  },
  {
   "cell_type": "code",
   "execution_count": 45,
   "id": "satellite-candidate",
   "metadata": {},
   "outputs": [
    {
     "name": "stdout",
     "output_type": "stream",
     "text": [
      " plain alphabet: abcdefghijklmnopqrstuvwxyz\n",
      "cipher alphabet: yabtroimjpzhcfxnkvwelqdusg\n"
     ]
    }
   ],
   "source": [
    "rule = dict(zip(alphabet[idx_cipher], alphabet[idx_plain]))\n",
    "\n",
    "# visualize the mapping\n",
    "idx = np.argsort(list(rule.values()))\n",
    "print(' plain alphabet:', ''.join(np.array(list(rule.values()))[idx]))\n",
    "print('cipher alphabet:', ''.join(np.array(list(rule.keys()))[idx]))"
   ]
  },
  {
   "cell_type": "code",
   "execution_count": 46,
   "id": "imposed-subject",
   "metadata": {},
   "outputs": [
    {
     "name": "stdout",
     "output_type": "stream",
     "text": [
      "dlamce elwnnc shattnt (aprol 30, 1916 – gebrmarf 24, 2001) was at auerodat uaiheuaiodoat, eledirodal etyoteer, atc drfpinyrapher vtnwt as \"ihe gaiher ng otgnruaiont ihenrf\". shattnt os tniec gnr hakoty gnmtcec otgnruaiont ihenrf woih a latcuarv paper, \"a uaiheuaiodal ihenrf ng dnuumtodaiont\", whodh he pmbloshec ot 1948.\n",
      "he os alsn well vtnwt gnr gnmtcoty coyoial dordmoi cesoyt ihenrf ot 1937, whet—as a 21-fear-nlc uasier's ceyree simceti ai ihe uassadhmseiis otsioimie ng iedhtnlnyf (uoi)—he wrnie hos ihesos ceuntsiraioty ihai eledirodal applodaionts ng bnnleat alyebra dnmlc dntsirmdi atf lnyodal tmuerodal relaiontshop. shattnt dntirobmiec in ihe goelc ng drfpiatalfsos gnr taiontal cegetse cm\n"
     ]
    }
   ],
   "source": [
    "plaintext = simple_decoding(ciphertext, rule)\n",
    "print(plaintext[:700])"
   ]
  },
  {
   "cell_type": "markdown",
   "id": "super-nicaragua",
   "metadata": {},
   "source": [
    "As expected, the first guess is not perfect. However, we can start recognizing some words such as \"aprol\" as first word inside the parenthesis that probably is a \"april\". This means that the letter mapped to `o` should be mapped to `i`. \n",
    "\n",
    "Let us modify the rule and check again."
   ]
  },
  {
   "cell_type": "code",
   "execution_count": 47,
   "id": "interested-efficiency",
   "metadata": {},
   "outputs": [
    {
     "name": "stdout",
     "output_type": "stream",
     "text": [
      " plain alphabet: abcdefghijklmnopqrstuvwxyz\n",
      "cipher alphabet: yabtroimxpzhcfjnkvwelqdusg\n"
     ]
    }
   ],
   "source": [
    "rule['x'], rule['j'] = 'i', 'o'\n",
    "\n",
    "# visualize the mapping\n",
    "idx = np.argsort(list(rule.values()))\n",
    "print(' plain alphabet:', ''.join(np.array(list(rule.values()))[idx]))\n",
    "print('cipher alphabet:', ''.join(np.array(list(rule.keys()))[idx]))"
   ]
  },
  {
   "cell_type": "code",
   "execution_count": 48,
   "id": "loose-breath",
   "metadata": {},
   "outputs": [
    {
     "name": "stdout",
     "output_type": "stream",
     "text": [
      "dlamce elwnnc shattnt (april 30, 1916 – gebrmarf 24, 2001) was at aueridat uaoheuaoidiat, eledoridal etyiteer, atc drfponyrapher vtnwt as \"ohe gaoher ng itgnruaoint ohenrf\". shattnt is tnoec gnr hakity gnmtcec itgnruaoint ohenrf wioh a latcuarv paper, \"a uaoheuaoidal ohenrf ng dnuumtidaoint\", whidh he pmblishec it 1948.\n",
      "he is alsn well vtnwt gnr gnmtcity ciyioal dirdmio cesiyt ohenrf it 1937, whet—as a 21-fear-nlc uasoer's ceyree somceto ao ohe uassadhmseoos itsoiomoe ng oedhtnlnyf (uio)—he wrnoe his ohesis ceuntsoraoity ohao eledoridal applidaoints ng bnnleat alyebra dnmlc dntsormdo atf lnyidal tmueridal relaointship. shattnt dntoribmoec on ohe gielc ng drfpoatalfsis gnr taointal cegetse cm\n"
     ]
    }
   ],
   "source": [
    "plaintext = simple_decoding(ciphertext, rule)\n",
    "print(plaintext[:700])"
   ]
  },
  {
   "cell_type": "markdown",
   "id": "comparable-commonwealth",
   "metadata": {},
   "source": [
    "Assuming that inside the parenthesis there is a date, the word \"gebrmarf\" probably corresponds to \"february\". This means that `e`, `b`, `r`, `a` are correctly mapped but `g`, `m`, `f` are not.\n",
    "\n",
    "With this iterative and manual procedure we can get to the final solution."
   ]
  },
  {
   "cell_type": "code",
   "execution_count": 49,
   "id": "lesbian-sugar",
   "metadata": {},
   "outputs": [
    {
     "name": "stdout",
     "output_type": "stream",
     "text": [
      "abcdefghijklmnopqrstuvwxyz\n",
      "yatbrismxuqhlefngvwjczdpok\n"
     ]
    }
   ],
   "source": [
    "rule['x'], rule['j'] = 'i', 'o'\n",
    "rule['i'], rule['o'], rule['s'] = 'f', 'y', 'g'\n",
    "rule['c'], rule['l'] = 'u', 'm'\n",
    "rule['e'], rule['j'], rule['f'] = 'n', 't', 'o'\n",
    "rule['b'], rule['t'] = 'd', 'c'\n",
    "rule['z'], rule['q'] = 'v', 'k'\n",
    "rule['p'], rule['u'] = 'x', 'j'\n",
    "rule['k'], rule['g'] = 'z', 'q'\n",
    "\n",
    "idx = np.argsort(list(rule.values()))\n",
    "print(''.join(np.array(list(rule.values()))[idx]))\n",
    "print(''.join(np.array(list(rule.keys()))[idx]))"
   ]
  },
  {
   "cell_type": "code",
   "execution_count": 50,
   "id": "spread-greek",
   "metadata": {},
   "outputs": [
    {
     "name": "stdout",
     "output_type": "stream",
     "text": [
      "claude elwood shannon (april 30, 1916 – february 24, 2001) was an american mathematician, electrical engineer, and cryptographer known as \"the father of information theory\". shannon is noted for having founded information theory with a landmark paper, \"a mathematical theory of communication\", which he published in 1948.\n",
      "he is also well known for founding digital circuit design theory in 1937, when—as a 21-year-old master's degree student at the massachusetts institute of technology (mit)—he wrote his thesis demonstrating that electrical applications of boolean algebra could construct any logical numerical relationship. shannon contributed to the field of cryptanalysis for national defense during world war ii, including his fundamental work on codebreaking and secure telecommunications.\n",
      "\n",
      "\n",
      "== biography ==\n",
      "\n",
      "\n",
      "=== childhood ===\n",
      "the shannon family lived in gaylord, michigan, and claude was born in a hospital in nearby petoskey. his father, claude sr. (1862–1934) was a businessman and for a while, a judge of probate in gaylord. his mother, mabel wolf shannon (1890–1945), was a language teacher, who also served as the principal of gaylord high school. claude sr. was a descendant of new jer\n"
     ]
    }
   ],
   "source": [
    "plaintext = simple_decoding(ciphertext, rule)\n",
    "print(plaintext[:1200])"
   ]
  }
 ],
 "metadata": {
  "kernelspec": {
   "display_name": "Python 3",
   "language": "python",
   "name": "python3"
  },
  "language_info": {
   "codemirror_mode": {
    "name": "ipython",
    "version": 3
   },
   "file_extension": ".py",
   "mimetype": "text/x-python",
   "name": "python",
   "nbconvert_exporter": "python",
   "pygments_lexer": "ipython3",
   "version": "3.8.5"
  }
 },
 "nbformat": 4,
 "nbformat_minor": 5
}
