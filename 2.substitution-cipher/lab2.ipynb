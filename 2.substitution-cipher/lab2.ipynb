{
 "metadata": {
  "language_info": {
   "codemirror_mode": {
    "name": "ipython",
    "version": 3
   },
   "file_extension": ".py",
   "mimetype": "text/x-python",
   "name": "python",
   "nbconvert_exporter": "python",
   "pygments_lexer": "ipython3",
   "version": "3.8.5-final"
  },
  "orig_nbformat": 2,
  "kernelspec": {
   "name": "python3",
   "display_name": "Python 3.8.5 64-bit ('base': conda)",
   "metadata": {
    "interpreter": {
     "hash": "b83a1b8810e509e0f22ffa336c1f93bbcb9495d33a31411ff1c6e3813f0d29d6"
    }
   }
  }
 },
 "nbformat": 4,
 "nbformat_minor": 2,
 "cells": [
  {
   "source": [
    "# Task 2 - LFSR"
   ],
   "cell_type": "markdown",
   "metadata": {}
  },
  {
   "source": [
    "### 1. Define a generator that implements an LFSR. Given a polynomial and an initial state, it generates an infinite stream of bits. "
   ],
   "cell_type": "markdown",
   "metadata": {}
  },
  {
   "cell_type": "code",
   "execution_count": null,
   "metadata": {},
   "outputs": [],
   "source": [
    "def lfsr_generator(poly, state=None):\n",
    "    ''' generator docstring'''\n",
    "\n",
    "    #check inputs\n",
    "    # define variables storing the internal state\n",
    "\n",
    "    while True: \n",
    "        # LFSR iteration: \n",
    "        # - compute output from poly and state\n",
    "        # - update state\n",
    "        yield output"
   ]
  }
 ]
}