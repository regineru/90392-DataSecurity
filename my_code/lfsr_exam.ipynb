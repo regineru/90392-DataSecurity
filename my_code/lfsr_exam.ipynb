{
 "metadata": {
  "language_info": {
   "codemirror_mode": {
    "name": "ipython",
    "version": 3
   },
   "file_extension": ".py",
   "mimetype": "text/x-python",
   "name": "python",
   "nbconvert_exporter": "python",
   "pygments_lexer": "ipython3",
   "version": "3.8.5"
  },
  "orig_nbformat": 2,
  "kernelspec": {
   "name": "python385jvsc74a57bd0b83a1b8810e509e0f22ffa336c1f93bbcb9495d33a31411ff1c6e3813f0d29d6",
   "display_name": "Python 3.8.5 64-bit ('base': conda)"
  }
 },
 "nbformat": 4,
 "nbformat_minor": 2,
 "cells": [
  {
   "source": [
    "Kort forklaring om LFSR, hva det er og hva det brukes til? Kontekst. Hva er input og output?"
   ],
   "cell_type": "markdown",
   "metadata": {}
  },
  {
   "cell_type": "code",
   "execution_count": 3,
   "metadata": {},
   "outputs": [],
   "source": [
    "import math\n",
    "from functools import reduce\n",
    "from operator import xor\n",
    "from itertools import islice"
   ]
  },
  {
   "source": [
    "Forklare hjelpemetoder og check-metoder"
   ],
   "cell_type": "markdown",
   "metadata": {}
  },
  {
   "cell_type": "code",
   "execution_count": 17,
   "metadata": {},
   "outputs": [],
   "source": [
    "def check_input(polynomaial, state):\n",
    "    \n",
    "    if not (type(polynomaial) is int or type(polynomaial) is str or type(polynomaial) is list or type(polynomaial) is bin):\n",
    "        raise TypeError(\"[!] Polynomaial has to be either an int, string, list or binary\")\n",
    "    if not (type(state) is int or type(state) is str or type(state) is bin or type(state) is None): \n",
    "        raise TypeError(\"[!] State has to be either an int, string or binary\")\n",
    "    \n",
    "    #TODO sjekke at det kun er 0 og 1 i state\n",
    "    \"\"\"\n",
    "    else: \n",
    "        for digit in str(int(float(state))): \n",
    "            if digit != '1' and digit != '0':\n",
    "                raise TypeError(\"[!] State has to consist of only 0 and 1\")\n",
    "    \"\"\"\n",
    "    print(\"Inputs are ok!\")\n",
    "    "
   ]
  },
  {
   "source": [
    "Description of the implementation: WHat have i done through the code, reason my choices, show my \"path\" and explain why i did it like this. \n"
   ],
   "cell_type": "markdown",
   "metadata": {}
  },
  {
   "cell_type": "code",
   "execution_count": 43,
   "metadata": {},
   "outputs": [],
   "source": [
    "class LFSR(object): \n",
    "\n",
    "    def __init__(self, poly, state=None):\n",
    "\n",
    "        check_input(poly, state)\n",
    "\n",
    "        print('Poly: ', poly)\n",
    "        print('State: ', state)\n",
    "\n",
    "        self.length = max(poly) \n",
    "        self.output = None\n",
    "        self.feedback = 0\n",
    "        self.state = state\n",
    "\n",
    "        print(type(self.state))\n",
    "        \n",
    "        #convert poly to list of booleans\n",
    "        self.poly = [False for i in range(max(poly))]\n",
    "        for i in range(len(self.poly)):\n",
    "            if i+1 in poly: #+1 fordi inputen poly ikke er 0-indeksert men det er lista\n",
    "                self.poly[i] = True\n",
    "        self.poly.reverse() #reverse for enkelhets skyld fordi P3 XORes med S0\n",
    "\n",
    "        #convert state to list of booleans\n",
    "        if state is None: \n",
    "          self.state = [True for i in range(max(poly))] #default state is 111...\n",
    "        else: \n",
    "          if type(state) is int or type(state) is bin:\n",
    "            self.state = str(state)\n",
    "          self.state = [True if digit == '1' else False for digit in self.state]\n",
    "    \n",
    "    def __iter__(self): \n",
    "        return self\n",
    "\n",
    "    def __next__(self): \n",
    "        anded = []\n",
    "        for i in range(len(self.poly)):\n",
    "          anded.append(self.state[i] and self.poly[i])\n",
    "        self.feedback = reduce(xor, anded)\n",
    "        self.output = self.state[0]\n",
    "        self.state.pop(0)\n",
    "        self.state.append(self.feedback)\n",
    "        return self.output\n",
    "\n",
    "    def run_steps(self, N=1): \n",
    "        list_of_bool = []\n",
    "        for i in range(N):\n",
    "          list_of_bool.append(self.__next__())\n",
    "        return list_of_bool \n",
    "    \n",
    "    def cycle(self, state=None): \n",
    "        N = (2**self.length)-1\n",
    "        list_of_bool = self.run_steps(N)\n",
    "        return list_of_bool\n",
    "\n",
    "    def __str__(self, list):\n",
    "      for b in islice(list, 8):\n",
    "        print(f'{b:d}', end='')"
   ]
  },
  {
   "source": [
    "The cyphertext and the plain text. A proof/demonstration of the code"
   ],
   "cell_type": "markdown",
   "metadata": {}
  },
  {
   "cell_type": "code",
   "execution_count": 5,
   "metadata": {},
   "outputs": [
    {
     "output_type": "error",
     "ename": "SyntaxError",
     "evalue": "invalid syntax (<ipython-input-5-28fd337efec4>, line 1)",
     "traceback": [
      "\u001b[0;36m  File \u001b[0;32m\"<ipython-input-5-28fd337efec4>\"\u001b[0;36m, line \u001b[0;32m1\u001b[0m\n\u001b[0;31m    lfsr = LFSR([3, 1], state=)\u001b[0m\n\u001b[0m                              ^\u001b[0m\n\u001b[0;31mSyntaxError\u001b[0m\u001b[0;31m:\u001b[0m invalid syntax\n"
     ]
    }
   ],
   "source": [
    "lfsr = LFSR([3, 1], state=)\n",
    "print(lfsr.poly)\n",
    "#bitstream = lfsr.cycle()\n",
    "#print(bitstream)"
   ]
  },
  {
   "cell_type": "code",
   "execution_count": 13,
   "metadata": {},
   "outputs": [
    {
     "output_type": "stream",
     "name": "stdout",
     "text": [
      "11101001"
     ]
    }
   ],
   "source": [
    "lfsr = LFSR([3,1,0], state=\"111\")\n",
    "for b in islice(lfsr, 8):\n",
    "    print(f'{b:d}', end='')"
   ]
  },
  {
   "source": [
    "Conclusion: Just a few lines. \n",
    "What was the problem.\n",
    "How you faced it.\n",
    "How you solved it.\n",
    "How you proved that you have solved it.\n",
    "\n",
    "Drøfte litt? hva var utfordrende osv?"
   ],
   "cell_type": "markdown",
   "metadata": {}
  },
  {
   "cell_type": "code",
   "execution_count": 44,
   "metadata": {},
   "outputs": [
    {
     "output_type": "stream",
     "name": "stdout",
     "text": [
      "Final poly:  [3, 1]\n"
     ]
    }
   ],
   "source": [
    "import numpy as np\n",
    "from functools import reduce\n",
    "from operator import xor\n",
    "\n",
    "def berlekamp_massey(bits):\n",
    "  N = len(bits)\n",
    "  P = [0 for i in range(N)]\n",
    "  P[N-1] = 1\n",
    "  m = 0\n",
    "  Q = [0 for i in range(N)]\n",
    "  Q[N-1] = 1 \n",
    "  r = 1\n",
    "\n",
    "  \"\"\"\"\n",
    "  print('====Attributes====')\n",
    "  print('N: ', N)\n",
    "  print('P: ', P)\n",
    "  print('m: ', m)\n",
    "  print('Q: ', Q)\n",
    "  print('r: ', r)\n",
    "\n",
    "  print('=====start======')\n",
    "  \"\"\"\n",
    "\n",
    "  for t in range(N):\n",
    "    anded = []\n",
    "    x_r = [0 for i in range(N)]\n",
    "\n",
    "    #check negative indexing\n",
    "    for j in range(m+1):\n",
    "\n",
    "      P_inverted = P[::-1]\n",
    "      anded.append(P_inverted[j] and bits[t-j])\n",
    "      d = reduce(xor, np.array(anded))\n",
    "    \n",
    "    \"\"\"\n",
    "    print('bt:', bit[t])\n",
    "    print('P:', P)\n",
    "    print('m:', m)\n",
    "    print('Q:', Q)\n",
    "    print('r:', r)\n",
    "    \"\"\"\n",
    "\n",
    "    if d == 1: \n",
    "      if 2 * m <= t:\n",
    "        R = P\n",
    "        x_r[N-r-1] = 1\n",
    "        Qx_r = bin_to_int(Q) * bin_to_int(x_r)\n",
    "        P_int = bin_to_int(P)\n",
    "        P_int = np.bitwise_xor(P_int, Qx_r)\n",
    "\n",
    "        P = int_to_bin(P_int, N)\n",
    "        Q = R\n",
    "        m = t + 1 - m\n",
    "        r = 0\n",
    "      else: \n",
    "        x_r[N-r-1] = 1\n",
    "        Qx_r = bin_to_int(Q) * bin_to_int(x_r)\n",
    "        P_int = bin_to_int(P)\n",
    "        P_int = np.bitwise_xor(P_int, Qx_r)\n",
    "\n",
    "        P = int_to_bin(P_int, N)\n",
    "\n",
    "    r = r + 1\n",
    "\n",
    "  pol = P[::-1][:m+1]\n",
    "  return_poly = [i for i in range(1, len(pol)) if pol[i]==1]\n",
    "  return_poly.sort(reverse=True)\n",
    "  return return_poly\n",
    "\n",
    "\n",
    "def bin_to_int(fist_bin):\n",
    "  return int(\"\".join(str(x) for x in fist_bin), 2)\n",
    "\n",
    "def int_to_bin(int_numb, N):\n",
    "  binary = [1 if digit == '1' else 0 for digit in bin(int_numb)[2:]]\n",
    "  return [0 for i in range(N - len(binary))] + binary\n",
    "\n",
    "\n",
    "bit = [1, 0, 1, 0, 0, 1, 1, 1]\n",
    "poly = berlekamp_massey(bit)\n",
    "print('Final poly: ', poly)"
   ]
  },
  {
   "cell_type": "code",
   "execution_count": 25,
   "metadata": {},
   "outputs": [],
   "source": [
    "from itertools import islice\n",
    "import random\n",
    "\n",
    "class PseudoRandomByteGenerator(object):\n",
    "    ''' class docstring '''\n",
    "\n",
    "    def __init__(self, state=None, **kwargs):\n",
    "\n",
    "        \"\"\"\n",
    "        self.poly = kwargs['poly']\n",
    "        self.seed = seed\n",
    "        \"\"\"\n",
    "\n",
    "        \"\"\"\n",
    "        if self.seed == None: \n",
    "            self.seed = '0' * max(self.poly)\n",
    "        while len(self.seed) < max(self.poly): \n",
    "            self.seed = '0' + self.seed\n",
    "        \"\"\"\n",
    "        \n",
    "        self.bits = []\n",
    "        self.lfsr_inst = LFSR(poly=kwargs['poly'], state=state)\n",
    "\n",
    "    def __iter__(self):\n",
    "        return self\n",
    "\n",
    "    def bit_to_bytes(self, s):\n",
    "        return int(s, 2).to_bytes(len(s) // 8, byteorder='big')\n",
    "    \n",
    "    def __next__(self):\n",
    "        self.bits = self.lfsr_inst.run_steps(N=8)   #get a list of 8 bits represented as true and false\n",
    "        self.bits = ''.join(['1' if b==True else '0' for b in self.bits])   #convert the list of bits to a string of 0 and 1\n",
    "        byte = int(self.bits, 2)\n",
    "        return byte"
   ]
  },
  {
   "cell_type": "code",
   "execution_count": 50,
   "metadata": {},
   "outputs": [
    {
     "output_type": "stream",
     "name": "stdout",
     "text": [
      "b'\\xe9\\xd3\\xa7N\\x9d:t\\xe9\\xd3\\xa7'\n"
     ]
    }
   ],
   "source": [
    "prbg = PseudoRandomByteGenerator(poly=[3, 1]) # iterator\n",
    "digits = [byte for byte in islice(prbg, 10)]\n",
    "print(bytes(digits))"
   ]
  },
  {
   "cell_type": "code",
   "execution_count": 45,
   "metadata": {},
   "outputs": [],
   "source": [
    "class StreamCipher():\n",
    "    ''' class docstring '''\n",
    "    def __init__(self, key, **kwargs):\n",
    "        \n",
    "        self.byte_gen = PseudoRandomByteGenerator(state=key, **kwargs)\n",
    "    \n",
    "    def encrypt(self, plaintext):\n",
    "        N = len(plaintext)\n",
    "        digits = [byte for byte in islice(self.byte_gen, N)]\n",
    "        encrypted = [a ^ b for (a,b) in zip(bytes(digits), plaintext)]\n",
    "        ciphertext = bytes(encrypted)\n",
    "        return ciphertext\n",
    "    \n",
    "    def decrypt(self, ciphertext):\n",
    "        N = len(ciphertext)\n",
    "        digits = [byte for byte in islice(self.byte_gen, N)]\n",
    "        decrypted = [a ^ b for (a,b) in zip(bytes(digits), ciphertext)]\n",
    "        plaintext = bytes(decrypted)\n",
    "        return plaintext"
   ]
  },
  {
   "cell_type": "code",
   "execution_count": 66,
   "metadata": {},
   "outputs": [
    {
     "output_type": "stream",
     "name": "stdout",
     "text": [
      "Inputs are ok!\nPoly:  [7, 1, 0]\nState:  81985529216486895\n<class 'int'>\nInputs are ok!\nPoly:  [7, 1, 0]\nState:  81985529216486895\n<class 'int'>\nb'hello world!'\nb'(%DI\\x7f\\x90\\xe9$\\xf49m\\xaa'\nb'hello world!'\n"
     ]
    }
   ],
   "source": [
    "message = 'hello world!'\n",
    "key = 0x0123456789ABCDEF\n",
    "alice = StreamCipher(key, poly=[7, 1, 0])\n",
    "plaintextA = message.encode('utf-8')\n",
    "ciphertext = alice.encrypt(plaintextA)\n",
    "bob = StreamCipher(key, poly=[7, 1, 0])\n",
    "plaintextB = bob.encrypt(ciphertext)\n",
    "\n",
    "print(plaintextA) # -> b'hello world!'\n",
    "print(ciphertext) # -> b'\\x9f\\x03\\xbcf\\xfa\\xdb`\\xf6\\x17\\xce7\\x88'\n",
    "print(plaintextB) # -> b'hello world!'"
   ]
  },
  {
   "cell_type": "code",
   "execution_count": 69,
   "metadata": {
    "tags": [
     "outputPrepend"
    ]
   },
   "outputs": [
    {
     "output_type": "stream",
     "name": "stdout",
     "text": [
      "xb8X-\\x04u\\xaaPO\\xff\\xe4\\xdcd\\x9b\\x05\\x8d\\xe2Cw!\\xf4\\x87\\x8b\\x95/I\\x8b\\xfd5\\xc7\\x94\\x1b\\xdf\\x85\\xfa\\x8c\\xdc\\xea\\x97\\xf1\\x7f\\xack\\xb6c\\x95\\xfa\\xb14,\\x80\\xae\\x89\\x1b\\x04\\x9fI0\\x95\\xceL\\xb6\\x1b\\xde\\x16\\x1b+v\\xbd\\xb7\\x15\\xbe\\xa8\\x87@Jp\\x1f#\\x8f\\x83}*r\\r\\xdb\\xce\\x9c6e\\x1b\\x93\\xf5KU\\xaf\\xcc\\x1aH\\\\\\x82@\\\\\\x03\\xa7\\x9ba\\xdcnQ\\xd6\\xca\\xf1\\xc7M\\xdc^9\\xfc\\x1d+i\\xdc\\x18\\xa0\\\\\\xf0\\x88\\x7f\\xf5\\xf2c\\x13\\x10~V\\x0e\\x10\\xec\\xbc\\xf3\\xa0\\xf2\\xb9\\x077\\xfd0\\xb9ON\\xd3d\\xe1\\xb6T\\x8a\\x7f\\xef\\x9b\\xce\\xa5\\xac*Vq\\xfdm\\xd0\\xd7!\\x1e\\xffo*\\x12A\\xcd,\\x8a-7Z\\xbea)\\x86p\\x17\\xad\\x05\\x9e;\\x8e\\x01\\xf3x,\\xae\\xf8x3\\xc3R\\x85\\x87\\xddJ\\xe9pK\"\\xc8\\xab\\xff\\n\\xe2\\xc9\\x04f\\xd6\\xa8\\xc0\\xc2\\x8b0\\xdd\\xb7b\\xe2C\\'\\x0cB0x\\x98:4zmM\\xe0X\\xbc\\xab\\xa8\\xd85\\xa3\\xd7\\xfe|\\x82\\xad\\x8a\\xa7P;\\x14s\\xa6\\x11E\\xe4\\xf2\\xcd-\\x8f@\\xc1\\xe3\\x06`&\\xb5\\x80\\x96\\x95>L\\x8e\\xe2c\\xed\\x9e\\x19\\x93\\x8e\\xbc\\xcd\\x90\\xee\\x80\\xfby\\xa2%\\xb1&\\x9f\\xfb\\xbb\"3\\xff\\xd4\\xea\\x03\\x18\\x87E0\\x9d\\x8aD\\xb6\\x0b\\x96\\x0b\\x1d/\"\\xf8\\xa9\\x11\\xa8\\xa8\\x8bJ\\x1e#\\x1c/\\x8e\\xcd)5 \\n\\xdd\\xca\\x98{e\\x1f\\x93\\xb0\\x02R\\xaf\\xd0\\x1aN_\\xcc\\tVF\\xa5\\x96d\\xd4o\\\\\\xc0\\xca\\xf1\\xc7M\\xdc^9\\xfc\\x1fya\\xdc\\x0f\\xa1C\\xf7\\x99&\\xbd\\xf6x\\x13B{VB\\x1f\\xfb\\xb5\\xed\\xbf\\xb3\\xda\\x1b\\'\\xe5t\\xf6HN\\xd8l\\xfa\\xbbY\\xc4h\\xba\\x9a\\xca\\xbd\\xf6*zj\\xeb9\\xc6\\xd9d@\\xe0*\\x1f\\x18Z\\x81<\\xc2)7Z\\xb0q5\\xcf}\\x00\\xe8\\x06\\x8f>\\x91\\x01\\xa5|a\\xa8\\xe2?~\\xd7E\\xc0\\x8a\\x94\\\\\\xef$\\x04%\\xc7\\xf8\\xe8\\x06\\xf7\\xc5W|\\xd5\\xa7\\xc5\\x98\\xd8S\\xc6\\xad.\\xf2\\x0b#\\x0cC0l\\x83s5ymX\\xfaS\\xa0\\xac\\xae\\xc4`\\xa4\\xd3\\xe6(\\xc3\\xbe\\x91\\xa3\\\\+\\x0f\\'\\xacDQ\\xb6\\xf9\\xcdx\\x8aF\\xc3\\xfc\\x19\\x1eC\\xd6\\x86\\x97\\x8a?\\x00\\x85\\xbc \\xc6\\x98\\x02\\x9a\\x99\\xbc\\xc4\\xd1\\xf5\\x84\\xb8t\\xa6$\\xa0o\\x93\\xfa\\xa5x3\\xce\\xcb\\xea\\x1b\\x04\\x81\\ru\\x99\\x81U\\xbe\\x17\\xd8\\x0cU/8\\xbc\\xe1\\x1f\\xb9\\xfa\\xc5L\\x04w\\x1b&\\x87\\xc6j1!E\\xd8\\xdd\\x95yf\\x1d\\xd7\\xe4\\x04\\x1c\\xa8\\xdaJFY\\x8d\\x14]F\\xa7\\x9d\\x7f\\xc5`M\\xd1\\x98\\xb4\\xeaV\\xda\\x122\\xba\\\\dq\\xcf[\\xbbP\\xf2\\x9b:\\xee\\xac55_i_\\x06Y\\xe4\\xbb\\xe3\\xf7\\xbb\\x94\\r1\\xb16\\xfc\\x0e\\x0b\\xd0f\\xea\\xbfS\\x90\\x7f\\xab\\xd6\\xcd\\xb7\\xe9c_}\\xefj\\x9d\\x9c&\\x14\\xe0?\\x0c\\x12D\\xcd-\\x86luN\\xffm5\\x87{\\x00\\xad\\n\\x9a4\\x8f\\r\\xebx\\x7f\\xf8\\xac\\x1b1\\xd7Z\\x84\\x87\\xd9_\\xf98M;\\xc3\\xf8\\xbb\\r\\xe4\\x80\\x16{\\xcd\\xb4\\xd2\\x9e\\xdf\\x16\\xd6\\xe2z\\xe9C#ML9;\\x9f\\'2z?\\x04\\xb2L\\xb2\\xa9\\xa1\\x97)\\xbe\\x9b\\xeb3\\x95\\xbc\\xc1\\xf5n1\\x00s\\xe3FL\\xe3\\xfb\\xcc-\\x9aL\\x8d\\xfbNqi\\xe6\\x86\\x81\\x8f:L\\xc8\\xb3,\\xdc\\x9c\\x1f\\xdf\\x8c\\xf3\\xde\\x90\\xee\\x80\\xfby\\xa2%\\xb1u\\xdc\\xfd\\xb8g\\x7f\\xe5\\xd2\\xafKQ\\xa4Be\\x98\\x8a\\x01\\xa3\\x10\\xd3\\r\\x10n4\\xbd\\xe1\\x00\\xbe\\xe7\\x95@\\x18#\\x1f$\\x8f\\x83`(\"\\x17\\xd5\\xc8\\x9cd(\\x0e\\x8e\\xe0\\x0eO\\xfb\\xd0\\\\\\x07F\\x8d\\x03P\\x0f\\xaa\\x972\\xd9nI\\xc0\\xd5\\xb0\\xe2D\\xc8[/\\xafC+\\x0e\\xb78\\xa7@\\xf2\\x89\\x7f\\xfc\\xb3x\\x17StZ\\x0c\\x1c\\xa9\\xb8\\xe5\\xbf\\xb4\\x88\\x1d1\\xe5&\\xf8Z\\x0b\\xda%\\xe3\\xb0Y\\xc4i\\xba\\x90\\xc9\\xab\\xbb5\\x1b[\\xe1l\\xdd\\xd8d\\x0c\\xe0)\\x1b\\x08G\\xd5:\\xcb8rS\\xffo \\x8cv\\x1b\\xe3\\x02\\xdb%\\x82\\x08\\xe0|\\x7f\\xa2\\xac1*\\xd1\\x16\\x90\\xc2\\xdaJ\\xb7%Tu\\xc0\\xee\\xfe\\x03\\xe8\\xce\\x10|\\x99\\xa4\\xca\\xdd\\xcc\\x1c\\xdb\\xaci\\xa6\\x0c3XK>t\\x82 z~#L\\xb2Y\\xb6\\xa9\\xab\\xc72\\xbf\\xcb\\xe20\\x8f\\xb0\\x90\\xb2\\x19-\\x04i\\xe3\\\\J\\xfa\\xf2\\xdb2\\xd8j\\xc2\\xfaJpi\\xf4\\xc9\\x8f\\x878H\\x81\\xb3&\\x8e\\x9d\\t\\x9e\\x98\\xf2\\x8c\\xc4\\xec\\xc1\\xfd\\x7f\\xa1$\\xad&\\x88\\xfc\\xb3g`\\xfd\\xc1\\xaf\\x00Q\\x83Ly\\x9a\\xceN\\xb1X\\xdb\\x1e\\x07/\"\\xb0\\xae\\x1e\\xec\\xfa\\x90K\\x04j\\x10-\\xd4\\x83J*\\'\\t\\xde\\x98\\x986e\\x1b\\x94\\xf8\\x02R\\xbe\\x9fMN_\\x84@YF\\xb7\\x97w\\xd8hQ\\xc2\\xd5\\xab\\xe1Q\\xdd\\x12;\\xb3\\x0e+h\\xd4\\x1d\\xad\\x15\\xfa\\x88,\\xe9\\xe1z\\x0f\\x10uG\\x11\\x1c\\xe5\\xbc\\xa0\\xef\\xa7\\x88\\x18-\\xe21\\xff[\\x02\\xd2|\\xa2\\xb1S\\x81:\\xab\\x97\\xd6\\xe2\\xe9zWy\\xe0w\\xd8\\xd2#M\\xb4\\'\\x0c]Q\\xcf<\\xc3>r\\x17\\xbar(\\x9cq\\x16\\xe8G\\x888\\xc7\\x05\\xf6=x\\xa8\\xac>1\\xcdZ\\xc0\\xce\\xc0M\\xba=K!\\xce\\xee\\xe9O\\xec\\xc1\\x14g\\xd0\\xa8\\xd6\\xdd\\xc2\\x1d\\xc6\\xad.\\xa1\\x17.EA:r\\x9e4}?e_\\xfaC\\xb0\\xad\\xe1\\x97/\\xb6\\x9b\\xe43\\x96\\xab\\x8d\\xb0\\x15y\\x0cf\\xa0YJ\\xf8\\xf2\\xdb-\\x9bH\\xc3\\xe1I`i\\xf1\\x86\\xce\\xc6(I\\x86\\xbe&\\x8e\\x85\\x04\\x9a\\x93\\xbc\\xcd\\xc2\\xe6\\xc1\\xf5t\\xb9.\\xf4n\\x89\\xfa\\xbd43\\xe5\\xc2\\xea\\x1d\\x1f\\x9c_w\\x95\\x80H\\xb4X\\xdb\\x1e\\x01:3\\xaa\\xe8P\\xb8\\xe0\\x84QJj\\nj\\x83\\xc2me\"\\x00\\xc8\\xd1\\x8a~m\\x1e\\xd7\\xf2\\x12\\x1c\\xba\\xdcYNO\\x89\\x0eLY\\xce\\xf8F\\xdddL\\xc0\\xd5\\xb0\\xf6G\\x89F5\\xb9\\\\xk\\xcf\\x0f\\xbb\\x15\\xf1\\x8b\\x7f\\xec\\xe6p\\x05Du\\\\\\x0c\\n\\xa9\\xae\\xe8\\xfe\\xa6\\xda\\n7\\xe3:\\xfcJN\\xd7k\\xa2\\xaaU\\x81:\\xad\\x84\\xce\\xa7\\xa7*T~\\xaeX\\xdd\\xdd*M\\x8d.\\x1d\\x15]\\xd2\\'\\xc4lCB\\xadk/\\x882R\\xf9\\x0f\\x9ew\\x80\\x16\\xe0|x\\xe7\\xce*7\\xd6_\\x93\\xcf\\x94S\\xfb$L0\\xcb\\xea\\xef\\x06\\xe2\\xc9\\x16a\\x99\\xb1\\xdb\\x92\\x8b\\x00\\xc2\\xa7o\\xf4\\x0b#MK4\\x7f\\xd0\\'2zm[\\xf1C\\xb6\\xab\\xae\\xd2`\\xbf\\xdd\\xa7?\\x8c\\xb4\\x8e\\xa0M8\\x15n\\xac_\\x18\\xb6\\xee\\xcdy\\xd8@\\xcb\\xafR|,\\xec\\xc9\\x83\\x94>\\x00\\x9a\\xb8\"\\xca\\xd1\\r\\x8b\\xca\\xfd\\xc2\\xdf\\xf7\\x89\\xfdc\\xeb\\'\\xb1p\\x99\\xf8\\xfagg\\xe2\\xc1\\xb9\\x11Q\\x82Xu\\x87\\x9aH\\xb8\\x16\\xc5_\\x14\"%\\xb7\\xe1\\x02\\xa9\\xfe\\x80D\\x06#\\x16#\\x8c\\xcbe,5\\r\\xce\\xcb\\xd9ynZ\\xa3\\xe5\\x19U\\xb5\\xd8\\x1dT\\x0b\\x98\\x12W\\x13\\xa6\\x9ew\\xd1!S\\xcc\\x93\\xb4\\xaa\\x02\\xf2\\x1cs\\xf2!\\x01\\x0e\\xe6U\\xe6\\x1b\\xc3\\xe7U\\xdc\\xbd5;\\x1e<g\\x17\\x0b\\xe0\\xb4\\xe7\\xbf\\xa5\\x9b\\x1bb\\xf8:\\xb9B\\x0f\\xccb\\xe7\\xfeM\\x85h\\xbb\\xd6\\xdd\\xab\\xbazTv\\xfdp\\xd3\\xd0!M\\xae \\x1d][\\xcf$\\xd3lqX\\xad\"5\\x87{R\\xee\\x08\\x954\\x82\\x14\\xf1=c\\xa1\\xac;1\\xcfF\\x95\\xd3\\xd1L\\xe9|\\x04<\\xc8\\xe8\\xf2\\x1c\\xe8\\xd6\\x12/\\xcd\\xae\\xd6\\x92\\xd9\\x16\\xdf\\xb1.\\xe7\\x01)Y[qo\\x9863mmX\\xfd]\\xb6\\xb7\\xbe\\x9b`\\xb1\\xd5\\xe3|\\x82\\xf9\\x9d\\xb9\\\\8\\x13\\'\\xb5XP\\xff\\xf8\\xc6-\\x97O\\x8d\\xfbNqi\\xe5\\x86\\x91\\x952B\\x81\\xb1*\\xda\\x88L\\x90\\x8c\\xbc\\xcf\\xdf\\xee\\x91\\xede\\xae9\\xf4k\\x95\\xfa\\xb24?\\xaa\\xc6\\xbf\\x00Q\\x92Ac\\x9b\\xceG\\xb8\\n\\x96\\x0b\\x1d+v\\xbb\\xb3\\x11\\xaf\\xe3\\x8cK\\r#\\x11,\\xcb\\xe4l7?\\x04\\xd4\\x98\\x9a\\x7fx\\x12\\x92\\xe2\\x18\\x1c\\xbf\\xcaHNE\\x8b@L\\x0e\\xa1\\xd2A\\xd0bP\\xcb\\x91\\xf1\\xd3M\\xdb^9\\xfc+jv\\x93[\\x81A\\xbe\\x84,\\xbd\\xf5t\\x1fB<G\\rY\\xfa\\xbb\\xf9\\xbf\\xa6\\x92\\t6\\xb1#\\xfc\\x0e\\x01\\xc9`\\xa2\\xb3H\\x87r\\xef\\x82\\xc0\\xee\\x88fZv\\xaeM\\xc4\\xce-\\x03\\xa7o\\x0f\\x12F\\x81<\\xc2)7Q\\xbea5\\xcfj\\x1a\\xec\\x13\\xdb \\x82D\\xe4oi\\xe7\\xe27*\\x82C\\x8e\\xc3\\xd1L\\xba\\x1eE/\\xcf\\xab\\xe9\\x1a\\xed\\xc5W{\\xd6\\xa2\\xd2\\x84\\x85S\\xf3\\xacj\\xa6\\x1a#X\\x0f%s\\x99 zl,D\\xfbO\\xbd\\xb1\\xed\\xd1)\\xb7\\xce\\xf59\\xc3\\xb0\\x90\\xf5N6\\x13k\\xa7\\x11K\\xff\\xe4\\xdcb\\x8aP\\x8d\\xe7Ggi\\xe7\\x8c\\x8f\\x872N\\x8d\\xb9c\\xf5\\xdfB\\xd1\\xb7\\xbc\\xcd\\xde\\xa3\\x84\\xf6x\\xac&\\xb5(\\xf6\\x9e\\x8di=\\xa4\\xf9\\xc0~5\\x9cXw\\x98\\x8fR\\xf70\\xd9\\x19\\x06:7\\xbc\\xb5\\x15\\xbe'\n",
      "<class 'str'>\n",
      "<class 'int'>\n",
      "Key:  10101110010110100010111001011111110001110110001001110111101110110100100111100000000100101000010001111110011110101011101100101011011111101110011001001010111000101001101101110001011100010010110000010000000110100100010111100111100100100001010001110001101110010001100001100110111111001111000110101100010110000110011011100101000010111010011011101001010001100011101011001001000001010010000101100101100000100101001100001000011111000111111111010000101111001010001011010001001100000011101101000010010100011111001110111110000100111000110111101100110001000100100001111100011001101010100011110010001110111011010101101101101111011110000101110111010100101010110001001111010001101011000100110000011101100011100101001110000001010101001111111000101001010111000000110101110001011011000110110101111111110011110010011000001100000011010110011000010010110111100101100110100111100100011110110110110100100011110001101000101011011101010000010001100110001000010000101010111110110110100000101000111101110011110001100110000110111010001001110101100001100100110110100100110011011111110000110000100011111101111111110100010100101100011\n",
      "Inputs are ok!\n",
      "Poly:  [553, 552, 550, 549, 546, 545, 541, 540, 537, 536, 534, 532, 527, 526, 520, 515, 514, 513, 511, 509, 508, 504, 503, 501, 500, 498, 497, 494, 492, 490, 489, 487, 484, 480, 477, 476, 474, 473, 472, 471, 468, 467, 466, 465, 461, 460, 458, 457, 456, 455, 454, 449, 448, 447, 446, 440, 438, 436, 434, 433, 431, 428, 424, 420, 419, 416, 415, 414, 413, 412, 409, 408, 405, 404, 403, 402, 401, 399, 398, 397, 395, 393, 392, 391, 388, 387, 386, 385, 384, 383, 380, 379, 375, 374, 373, 372, 371, 370, 369, 367, 365, 363, 362, 361, 359, 358, 357, 356, 355, 353, 350, 346, 345, 343, 342, 340, 339, 338, 337, 336, 333, 330, 329, 328, 326, 323, 322, 321, 318, 316, 315, 313, 312, 310, 309, 307, 305, 304, 303, 300, 296, 293, 292, 290, 287, 286, 279, 277, 276, 273, 266, 265, 264, 263, 261, 259, 258, 257, 254, 253, 251, 250, 246, 244, 241, 240, 238, 235, 234, 232, 231, 230, 228, 227, 226, 225, 222, 221, 220, 216, 215, 213, 212, 210, 209, 207, 205, 204, 203, 202, 197, 196, 190, 187, 185, 183, 182, 181, 180, 178, 177, 174, 172, 171, 170, 166, 165, 163, 162, 161, 159, 157, 156, 154, 150, 147, 145, 142, 140, 136, 133, 132, 130, 129, 127, 120, 119, 118, 116, 112, 111, 108, 106, 103, 99, 98, 97, 96, 95, 94, 93, 92, 89, 86, 85, 84, 83, 82, 77, 74, 72, 69, 66, 65, 62, 60, 59, 58, 55, 53, 51, 48, 43, 41, 40, 38, 37, 36, 35, 33, 31, 30, 29, 28, 26, 23, 22, 21, 20, 18, 15, 14, 11, 10, 9, 7, 5, 2, 1]\n",
      "State:  10101110010110100010111001011111110001110110001001110111101110110100100111100000000100101000010001111110011110101011101100101011011111101110011001001010111000101001101101110001011100010010110000010000000110100100010111100111100100100001010001110001101110010001100001100110111111001111000110101100010110000110011011100101000010111010011011101001010001100011101011001001000001010010000101100101100000100101001100001000011111000111111111010000101111001010001011010001001100000011101101000010010100011111001110111110000100111000110111101100110001000100100001111100011001101010100011110010001110111011010101101101101111011110000101110111010100101010110001001111010001101011000100110000011101100011100101001110000001010101001111111000101001010111000000110101110001011011000110110101111111110011110010011000001100000011010110011000010010110111100101100110100111100100011110110110110100100011110001101000101011011101010000010001100110001000010000101010111110110110100000101000111101110011110001100110000110111010001001110101100001100100110110100100110011011111110000110000100011111101111111110100010100101100011\n",
      "<class 'str'>\n",
      "b'\\xb9\\xa0\\xfd\\xc4\\x1d2\\x9c\\x1bD\\x9a\\xae\\xc2\\xd2\\x89\\xc6\\x1d\\xd6\\xfbJ%\\xd2c\\x11\\x0f\\xdaE\\xb6\\xdfH\\xe0_V\\xcb\\xc0n`\\xe8t\\xac\\xee\\xafk\\xa9\\xb8c\\xdaT\\xbf\\xaa\\x84\\xa0\\x0c2\\x18\\xa0_\\x85\\x1cKu\\x03\\xea\\xa4\\xa7z\\xaaZ\\xdaV\\xce\\x7f\\xe4\\xe5*PZ\\xe4\\x8di\\xc2\\xd7\\xe1\\xd1\\xce\\x9b$\\xe3,\\xc0)\\x0c\\xf90iE\\xb5\\xc8\\xac\\x88\\xa9\\x14\\xd4\\xe6<\\xbb\\x16k\\xe2rRu\\xd8\\x8ct\\x8eFL\\xbd\\xee\\xfa\\xebB\\x0c]j\\xa32\\xab\\x01\\xfd\\x19\\x81\\x04\\xefP2$\\nZ\\xc0\\xc1\"\\x7f\\'Z\\n\\xc3*\\x1c\\x86\\xb8l]\\xf7\\x13\\xf4\\xaa\\x05\\xe7RO#\\xb9\\x83\\x19\\x05\\xfc\\xcfd\\x01\\xa6ZV\\xbc_\\x8d\\x08\\xa2\\xe2\\'=i\\x89y\\xc42r\\xb6\\xf4\\xa4p\\xdb^#t\\xa2\\xc3\\x07sN\\x0e \\xd8\\xd3g\\xd2=\\xc31t\\xdb\\x85)\\x04\\xc4\\x01\\xb2\\x97\\x1d&\\xdd\\xf1&M\\x1ev2BY\\xda\\x14\\xdc\\xc2\\x9a\\xc7yB\\x85\\x96\\x7f\\xa3w\\xe4\\xc8\\x99\\xc4\\x02\\x93D\\xce2\\x8e>l\\xda\\x04\\x13\\xb8\\xaab\\xb3\\xfen(a?\\xa0\\xb6\\xb3\\xde\\xe3\\x18V7zu\\xb3&\\xa1*\\x0c\\xc7\\xb6C\\xa5\\xd731p\\x9a\\x9e[~\\xb91\\x8f|<\\xfcQ\\x01\\xa3D\\xeb\\x1di<\\x1a\\x17\\x07\\x89\\xc6\\xd8\\tm\\x93Y\\xc9\\x94\\xa3\\xc9\\x11K\\x1a!w\\xe1_/\\xd2\\xb0A}Q\\xd4\\x84\\xf3\\x16\\xf6q\\x91\\xe9j\\xae\\xd2\\xb6\\xd0j\\x9e\\xea\\x83\\x0e\\x14XxKX\\xc2$N\\xfe<Gv~^\\x97\\x82\\'\\x1e\\x9c\\xc4\\xd3\\xb2\\xcf\\x17Q\\xf1Y\\x0b\\x07\\x12x:*\\xd9\\xef\\x81!\\x8e\\xaf\\xb1e\\xa1\\xadc\\xcb\\x7f\\xa6\\xcf\\xf9A\\xc7\\xa7\\x02\\xb9\\x9f\\xf2\\x86c<\\xac\\xadk%q\\x83V\\x1c\\xb9\\x9a6?\\xb4\\xc4\\xd7\\x07\\x83\\xd0\\x83\\xa7 \\xb7\\xdc\\xc0\\'~\\xb90\\x98\\r*\\x08\\xfa\\\\v3\\x11r\\\\\\x9a\\xd8\\x0b\\x10\\xea\\xbc\\xd5$\\xbe\\xc9\\xb5v\\x05\\xa4\\n\\xce/\\xd9\\xc1\\xfc\\xd6\\x86\\x18D\\xb6\\xd8\\xf5:7\\xb6UL\\xf9\\xfd\\xdc\\xad\\x88\\xd3\\xa3S)4\\x1fm\\n\\xd1o\\x87;\\x13i\\x15\\x1b\\xd7\\xb8\\x8aF\\xa3\\xc1\\r\\xc8\\xb8Y\\x1dH<R\\x1cz+\\x94\\x80\\x92\\xf1\\xfbW\\x7f\\xa8SW\\xcf@\\xfb\\x1c\\x06^\\x0f\\x9bp\\xa8\\xd2e\\x17\\r(Zqs\\xdba5\\xf3\\xde\\xa6(\\xe5\\xcd\\xb1\\x05\\xdfV\\xa9\\xcc\\r\\xb0\\x9dJ\\xb1\\x18\\x877|A\\x96\\xa1\\xab\\x19\\xcf\\xc4/}0\\x7f\\x9fi\\x83\\x95\\x05+\\x9fr\\xa4E\\xed\\xed\\x8e\\xa9N\\xd5\\xd2$\\x1e\\x1a>~\\xb8\\xb0+\\xc0\\x8b>9\\xae\\xfb\\xefp[3}8b\\\\\\xfb\\xb1\\x04j\\x8c\\xba\\xb0\\t{\\rU\\x8b\\x9eS\\x10\\xb4k@\\x0eu\\xee\\xfc,\\xa4\\xd7\\xe4\\x8a\\xc0\\x93\\xd0\\xba\\xe1:.s\\x18\\xfc265\\xd1\\x9b\\xfd\\xa4(e\\x16\\xf9`)\\xde\\xb4LzV\\xaf\\x8d\\x83\\xa6\\x00\\x8f\\xe2\\x18\\x87\\xc1\\xcc\\xc9\\x9a\\xd6G~\\x9b\\xad^\"2\\x1b\\xa0\"\\xab\\x91\\xee\\x1b\\x18K\\xbc\\xeaVs\\xa7\\xb0\\\\Q\\x8a\\x82\\xac\\xd3\\xd5gw\\xf9\\xf4+s\\x97\\x07Wl\\xc6%\\xe1\\xcb\\x1e\\xa0\\x17D\\xc6\\xdfw\\xfcl\\xce5>X\\xf3;k\\xf27`s\\x8ae\\xd2\\x11\\xd1\\x8fG\\x0b@dA\\x84+%\\xc2\\xc0\\xe4&Wg\\xea\\xa3iM\\tbp\\xf5\\xbb\\x91\\x12\\x90_o\\x80BB\\'O/*R\\x81\\x10\\x88[\\x94\\xe9\\x03\\x9e\\x04`\\xbf\\xd8\\x13\\xc5\\xfc\\x0c\\x19\\x03B\\xd0=HN\\xde,X\\x84\\x12K\\x1f\\xc7iy\\x07E+\\xb9\\xec\\xd2\\x02\\x98\\x0e\"!\\x02\\r,\\xf2\\xe3\\x15/E/\\\\b}\\xac\\xc2\\x88\\xc2j\\x0c\\xd5h\\x05\\x00\\x03Q\\x9cV\\xb2\\xb6\\x95zUW}\\x0fC\\xd1\\x12\\x1a\\xe6\\xac\\t\\xec\\x8f\\r\\xee\\xcf\\xfd\\x08H\\xf6\\x9b\\'\\xd5\\xf6\\x82\\xf8\\x07\\xc6\\x0c\\xe3\\xde\\x9e\\x84,A\\xfd\\xa3\\xf7\\xd5\\x8c\\xd6\\x89]z\\xca\\x1f*I\\xe9Vlo\\x13\\xe1\\xb4\\x82\\xcb\\x170\\x80&\\xbc\\xbe\\xe2\\xc1up08\\xc1\\xb6\\xbc_\\x8c\\xcd\\xc2P\\x03u\\xff\\x94\\xf7\\x00\\xe2KF\\xa1\\x10L\\xc8\\xb9\\xd1\\x99Ri03Q\\xe1\\x1c9\\xa4G\\x13\\xad\\xf6\\xc6\\xaa\\x16c\\xec\\xd9\\x8f!\\x85k\\xbf\\x06zX\\xe6\\x81\\x12\\xb1\\xeb\\xf2Q\\x1eH\\x06\\xe5\\xb9kx\\xde\\xaf\\xf5\\x01\\x99T\\xd6e\\x82\\x98\\xd3\\x01\\x17a\\n\\xf4\\x94\\x10V\\xfdO\\xc9\\xf8\\xd0\\ts\\xe65\\xba\\xcfz\\xeb\\x97P\\x1a\\xc8\\xca\\x81\\xedC{f\\xd2\\xcf\\x91\\xab..X\\x98\\'\\xb9U\\xe1x\\xce\\xd9\\x81\\xd4\\x894J\\xf03s[\\x1dp,\\xf2\\xcb\\x03X0\\xcd{\\xc8\\xe3X2sI\\xeaM\\x06\\t\\xabNI\\xbbE\\xb6\\xdf\"\\xf1\\xe3\\x1e\\x92\\x96*\\x1d\\xf6\\x11[o\\x8e\\xfb\\xb2&\\x91\\x0be\\x9a\\xeb5\\x0bZ\\'\\x8fe \\x8b\\xe8\\xf8R\\xea\\xadT\\x91\\nR\\x9d\\x13a\\xd0\\xb2\\xd9\\xe8\\x82\\x8cp\\xf9\\x9d\\x7fB\\x03\\x9e\\x10\\xa77\\xc7fZ=\\x10\\xf9\\xdd\\x92u:\\xe5\\x9d\\xe8}\\xd5\\x0e\\x9b\\xe8\\xd1}\\xf4OG\\xbb\\xbd\\x80\\\\\\x90\\x17\\x13\\xc9\\xdbSef\\x85\\xe0\\xf9\\xabj\\xb6\\xd4&\\xde\\xe7\\xf0\\x88\\xaa\\xcd\\xd7\\x96,\\xaf&\\x81b\\x98*t\\x94S\\x0c1}\\xf8\\xb3xB\\xd7\\'<\\xd6\\xe4O\\x1a\\x15\\xa7\\xa0\\x9b\\xc7\\x03\\x08\\x98\\x92\\xd8l&\\xa8\\x9e\\xae\\xc4\\xdf$\\xbeR\\x9d\\x88\\x14\\x96\\xbc\\x9ac\\xc68~\\xbe\\ty\\xea\\xe3\\x13\\'*\\xa3]\\xa2D\\xd3g\\x1b\\xf8:\\xd1GH\\xed\\xd4\\xa1\\xa1Dw\\x1f.\\'M\\x00\\xcf\\xa1\\x91\\x86G\\x85ZF1<\\x17\\xc9\\xbe{i\\xb4\\xda\\xbf\\xd6\\xe0#\\xa7{\\xd4%\\x03\\t\\\\\\r\\xe2\\x94\\xa0\\xa4\\x1f\\xe4\\xce\\xa3\\x90\\xc9\\x8e@\\x104\\x0c\\xa0\\xe2E\\xe5\\xa1\\xbd\\x1b\\x01_\\xfe\\xb2Bfu\\xd3\\xec\\xfcq\\xab\\x9b\\x1e\\xc0\\xd6{S\\xe3\\x9b\\xd9\\x03\\x94Y\\xf6\\xe1\\x14X\\xea\\xbc\\xf7\\xebl\\xc3\\xfc\\xe4lf\\xe3\\xdc\\xa5\\xb1Z\\x1fw\\xab\\xb2K\\xfa\\x86\\x80\\xe1\\xdf&\\xf2\\xd8\\xe9\\x90\\xa3l\\x8a\\x97EE\\xee\\x99j\\xe8\\xfe\\xff\\xf0\\x10\\xa2\\x06>Mhh\\xfflIF#\\xcd\\x9e\\xf5m\\x17\\xa0o\\xc1\\xc6\\r\\xab\\x18\\xa8mm<\\xae:\\xd6\\xd8\\xf8\\xa7\\xceab$\\xdc\\xf5c\\xb7\\xb4\\xe3\\xbbV\\xf6\\xf1O%9\\xf8\\xad\\x1dwE\\\\\\x87=\\xd2\\xa5o\\x87\\xdd\\xe3Kr\\xd9xC]\\xc1\\xda\\x16\\xc2\\xd1\\xf1\\xd3\\xbc\\x04\\x17n\\x8b-\\x86Z\\x97\\xa7t\\x17\\xe9T\\t2\\xfc/\\xc3\\xc6\\xa7\\xbahV\\xaa\\x8b\\xfd\\x16\\xca:\\xa5\\x1b\\xcb6y\\xbb\\xfe\\x01K\\x9fLD@vI\\xb5\\xb7\\xdc\\x97M\\xe7\\x1a\\xa5\\xcf\\n\\xce\\xe9\\x87\\x8eb\\xf2\\x96o\\x7f\\xdats\\xbbT\\xf8\\xfb\\xed=\\x11VM\\x04\\xe7omGQ\\xdew\\x04[Px\\xa7\\xa8\\x8bQ\\x0c\\x8dK\\xd6C2\\xdbE}\\x8e^L\\xc6\\xa6`RE#\\'\\xafH\\xe1\\xcb,d\\xef\\xaa\\n\\xbb\\xf7Ut\\xc3u0\\xcdc\\xfd<\\x0b\\xeb\\xe7\\x90\\xce\\x18]\\xa3\\xceu\\x07;8\\x9b\\x92\\xa7\\x81\\x9e\\xe26\\x91\\x986\\xd5\\x8a\\xe5\\x88\\x1d\\xf8\\x9d6XSg\\xd0\\'\\xe0\\xc4\\xb5\\t\\xdf<\\x04\\xd9l\\xe2\\x8f\\xdd\\xf4R\\xf7MD?\\x06\\xc4\\xc5\\xb4t\\xf1\\xc9Z\\x19\\xc1|a.A\\x87\\x03\\xff\\n\\xd0\\x93]P8\\x8c\\xb2\\xb2\\xecV\\xce\\x1cU\\xede\\x19\\xbf\\xbc\\n\\x12f\\x8f\\x9b\\x86\\x8e\\xc5K\\xb5\\xb1\\x9d\\x86\\xe9X\\xef\\xd6\\x8c$vi>r>t\\xa1\\xa7\\xacR\\xd60\\x85\\x9b\\x06\\x14\\xe5\\x16>\\xed\\x9b\\xb6X\\\\\\xb1\\x89\\xa3\\xf4\\x00Q\\xa6\\xe3\\xf6\\x0e\\xb0\\x13)\\xc9\\xb2\\x0cK\\xf3\\x1d\\xe1tb\\xa4\\x07E2x\\x95\\xcb\\xf3\\xd1\\x88g\\xd1\\x1a\\xf2\\xb6\\xdd\\xcc\\x91\\xd2G\\x93\\xd5_P\\x05n\\x10\\xf8\\xb9\\xec\\x97b\\xd6\\xdap\\x8e\\xcf\\x9c~3\\xd8\\xdb\\xf7ea\\x16qh\\x9e\\x83\\x00\\xb2\\\\\\x95c&\\xce<\\xad\\x17\\xa3x\\x1b3\\xbd \\x96\\xbb9\\xf89]c j\\xfc@m\\xfaF\\xe7\\xf4\\x10\\x88\\x02\\x8b$\\xc3\\xe2\\xd7\\xf8\\xf4\\x8d\\x88As[\\xa1\\xf1#\\xad\\xd6\\x12\\x07\\x02TU\\x05\\x15/\\x98\\xdf\\xad\\x82T\\'\\x15\\xc5J\\xc1\\x01\\x8a\\xc8`\\xd8\\n\\xd1hM\\t\\xe5\\xfe\\xddW\\xf7\\x8f\\x81\\r\\xdeU\\xe8\\x1c\\x89\\xc8)\\x9a\\xf3}\\xe9\\x0c)\\xac\\xc6i\\xed\\x9a\\xc2\\xceG\\xc7\\xec\\xa29\\x14\\xf4G\\xf6\\xf2z\\xfe/7_T\\x8e?\\x84F\\xf8\\xbe\\xa3\\xc7\\xc2\\x1dlhB\\xcfM\\xb6\\xbd\\x04P\\xf1\\xa9\\xb8_\\xa2\\x86\\x8e\\xdd\\xf7C{wK\\xa9\\n\\x08\\xfauf\\xa6\\xe5\\xce\\\\3\\xb6N+\\x1d\\\\V\\x16\\xb3\\x90f\\xa2\\xd1\\r\\x0f\\x13*\\x88\\x84~\\xa9\\x96g4\\xb3\\x17\\xf8\\xbf/\\xc8\\xb0\\xe7\\xb5|\\n\\xfe1\\xa4\\xd1\\x0e8\\xb2\\xb4\\xccS|\\x11n\\x9c\\x16\\xd9+QG}mv!zXL{\\xb8x(q\\x87@^\\xff\\x88k\\xae\\xd3\\x1a\\xf5\\xb0\\xe1\\xe6\\x9eI\\xf4\\xa1\\n\\xb0\\xd9\\xe6\\x94\\xa7r\\xd1w\\xbd\\rPfB\\xed\\r\\xf6r\\xc0\\x07\\x0en\\x8a\\x9b\\x96\\xa0\\t\\xcfz\\x0fX\\x04\\x9e\\x81\\x98P\\x82\\xba\\xde\\x8a\\x89B`\\x0ct\\x91\\xb3\\x94\\xda}\\xf7W[\\xda\\x8fbud?Z~\\x96s\\x82\\xdcf|\\xaaU\\xd9\\x8fK;\\xd7\\xd9N\\'\\xc0\\xf3\\xe6G\\x0e<\\xd4\\xef8*\\x16_\\xf1\\xbbp\\xc3[\\x10\\x8d\\xf4\\x89-\\xe6\\xa8\\xb5A\\xdc^\\xee[Fy\\x18#\\xf3\\xbf\\xc6\\x16\\xfb\\xd2\\xb6\\x14T\\xf5\\xcff\\x8e\\x00\\x8d}\\x02\\x0b\\x91\\xea\\xc9d$\\x03X\\xaf\\xe7\\xf0\\xfa\\xd3\\x05\\x95Z)\\xce\\xcf\\x17\\xcb\\x9c\\x89P\\xdb\\xd7\\x8a\\xf1@G\\xab\\xa3p`_\\x1b\\x91\\x7f8\\xdb\\xcc\\xe4@\"o\\xd0K\\xeaz\\xd0\\x1b7\\xfd\\x00\\x97w\\xb3\\xd8\\xc0\\xd5\\x15\\xdb3\\x08\\x85\\xa0\\x99G\\xf9\\xcbS\\xbd\\x13\\xdf\\xcd\\xabQ?\\x1eI\\xb1\\xd9y\\x04M\\x12\\xb9%Ys]\\xd1\\xea=\\xa1\\x83\\xfb\\xe8,E$\\xc3\\xe8 \\xde\\x8dR\\xe1\\xa6g\\xde\\xed\\x1f<\\x9e\\x86y\\'\\xeeO\\x06C\\xf5~P\\x18\\x9f\\xcf\\xb4\\xa5\\xaer3\\x0cf&\\x9a\\xf2\\xd9\\xe8\\xfc\\x92>\\xc8\\xf0c\\xdeB@f\\x04\\xf5\\n;\\xe3\\x0ez2\\xfd\\x87\\xf1\\xe2*V6bgr\\x99k\\x823\\xfcuz}\\xb5y\\x98\\xe5O/\\xa8\\x0el\\xe8\\n\\xc9\\x8bN@\\x1b\\xef\\xe8\\x9c\\x89\\xbaWg\\xcbp\\xa1I\\x04\\xdc\\xcai\\xbd#\\xbdH\\xe7\\xa1\\x03T\\x81F\\xefJ\\xbe\\xe1@\\xea\\x18\\x86\\xd3\\x0f\\x97\\xb1\\x83\\x17 &X\\x9d+\\x11G\\x94GE\\xb5\\xb7\\xb7\\xff\\x19\\xc8JX\\xae\\xa2|\\r\\x03\\xd1\\xcc\\xdc\\xf3\\xe0\\xa0\\xd1~H\\xc3O$\\x0cy\\x82Y\\x89\\xfcm\\xe6\\xe8\\xe3\\xbau\\x99w\\xfe\\x87\\xc0zX28\\x87\\x93\\xa9\\x01,\\xb5\\x9e\\xb4O\\x82v\\xfd8+jp\\x9a\\xd2\\x94)Q~\\xc3\\xd5\\x92\\xdf\\r\\xe3k\\xc7D]9\\x17\\x9b\\x97\\x07\\xcd\\xb9\\xe9^\\x18\\xc1\\xb6\\x12\\x9d\\xb4\\xc2\\xed\\xcc\\xbb$\\xaa90\\x80\\x0c\"\\xf2\\xaa\\t^\\\\\\xcf|\\xe5\\xaa\\xc0\\xa0\\xc7h\\xf1\\xd6\\xeb\\x028\\x00~\\xe2\\xb1@1\\x91\\xceG\\xf3\\xab\\xed\\xec(\\x87\\xec\\xcb\\xdd}\\xceZ)\\x00;B\\xe9\\x83-\\xbdi\\xb1\\xa3\\xffRr\\x01\\x81t\\x88v \\xc7=\\xa1\\xec>\\xe0\\x95vd\\x9fs\\x04\\x9c\\xba\\xe8\\x82E\\x91\\x18\\xaaw\\xcb\\x83X9\\xe9\\xd5z1\\x132\\xe2\\xd6\\xa0\\xafKw2\\x88\\x0e\\xd6\\xff\\xfc\\x95;N->\\xcf\\xfb\\xc0\\xe1\\xf0\\x90\\xa7\\xc0\\x01j\\xa8h\\x97\\xa4\\x9b\\xb2\\xd2s>\\x0b\\x86hP\\r\\x84\\xf6Q\\xd3\\xd3\\x8cq.\\x1f\\x97\\tD\\xb6o\\xa1\\x1b\\xbf\\xc4\\xb3\\xac\\xb8\\xc0\\x00\\xa1W>\\xf1ip\\xcf\\x06M\\xbfPD\\xc8\\xa2t\\x92\\x02\\x0e\\xa4\\xab\\x1bK?\\xb2Z\\x16\\xd7r\\xe4W\\xd6\\xfa\\xa1\\xfe7\\xb6\\x16\\x8a\\xd4 X\\x98:\\xf6\\x98\\x1c\\xa3\\xc9\\xcdE\\xd2\\xca\\xa2S\\xa4\\x83\\xde\\xdeI\\x8c\\x94\\xe37#\\x96\\xce\\xc17 z\\r\\x1e\\x8c\\x953\\x15\\xe2\\xed\\xcciaw\\xfc\\x9f\\xb2\\xbf\\x81\\xda\\x15\\xdez3\\x08\\xda\\x1c\\xa1\\xcf\\xc2\\x01fhlz\\x85\\'}y\\x92\\xec\\x07\\x96I\\xd9|rO\\x93\\x9b\\x93\\xf1\\t,\\x11\\x07Pl\\xf8 s\\xd3\\x9f\\x10X\\xbf\\xaf`k\\xfa\\x8d\\xe6#&\\xc5\\x0f\\xc6\\x9c8\\x8b\\xc3\\xc2c\\xf4\\xeau\\xa0\\x8d`h\\x13\\x1d\\xc0\\xc9@\\'\\xb1H- \\xdf\\x8d&\\xf1\\xa2\\xc1F\\xdf\\x9eB\\x1a|\\x8cMhD0\\x1c\\x91\\xa8\\xd48\\xb1t\\x1d\\x85\\xbeR\\xa1\\xabB\\xbe\\xc2f\\xf5s- ^\\xe3 -\\x82\\x10\\x8c9\\xd5\\xfc\\xbf\\x1cK\\x84\\x92\\xd1\\x9b\\x16\\xbeo\\xf9\\xec\\x17\\xfa\\x0f\\x16\\xde@\\xff!\\xd3\\xf9\\x96\\xb2!E\\xcc\\xfe\\xc2\"\\x14\\x9e\\xb0a\\x00sT\\xdf3\\xb8\\xa0\\x88mw\\xa6+d^\\x8b\\xbc\\xbb\\xc5\\xd7\\xdc-\\x7f3\\xfe\\t$xQ\\xf7k\\xaa\\xeaw\\x02N\\\\\\xbcd\\x88)@\\xcc\\x16\\x1c\\x91\\x13sN\\x1614(\\x01\\x00d0\\xe9.\\xeb\\x8aPo\\x83\\xe4/L\\x1e\\xfaa\\xcfP\\xca\\xe2\\xb4V\\xf3\\xc0\\xc5i\\xbc:\\x19\\xde\\xce\\x18\\x06fHyCN\\xf0\\xca\\xf8\\xc8\\xbf\\x8c\\x82\\x87a\\x89I\\xb6z\\xf7\\xe1\\x02=\\x0fo\\xb7\\xbc\\x8a\\x8f\\xed-\\xf1S\\x1d{\\x96?\\xa8\\xc1\\x01\\x16\\xbe\\x97\\xeb\\xac\\xb9\\xdd-8\\xac\\xe3t\\xa5\\xe9qFE\\xc8\\x88\\xc5~l\\x93hTy\\xa6\\x04\\xa4\\xb3\\xda\\xbe\\xc8\\xcb\\xccb\\r\\xdc\\xa8\\xed\\xe6\\xb6m\\xa0\\xdc.\\x92\\xec3\\xe3\\xda\\x15NAdl\\x1cv\\x10\\xad\\xe6\\x0b\\xf5\\xb0\\xcd:=\\xdcw\\x82\\xbe\\xf1dm\\x07`uBU]\\xa7\\xf2\\xa2h\\xc1\\x89\\x1dR\\xad\\x1aM~0\\xed\\x9eJio\\x08\\x12}w\\x93\\xce\\xc5\\xcfH\\xb8\\xccnc\\xf5\\xf0\\xb8\\x94\\xb9\\xac\\xbd\\x95\\x08S\\xe0\\xc7\\x89,\\xb4\\xef\\x04]\\nR\\x9e\\xce\\xfe\\xf3$b\\x10\\x96\\xe0\\x17\\xe1/\\xf4K&~\\xc1}\\xd0\\xcd\\xcdQ\\xe5\\x0f.\\x94c=Gf\\x92rW\\x17\\x11<f1\\x97\\x84e\\xfa\\xf20\\x11\\xfc\\xbb\\x95\\x0f\\xf8gf\\xf9\\xfaE#\\x7f\\xdck\\x8b]\\x10\\xdb\\xc1I\\xd5#z\\xf4\\x9ap_\\xe3\\xc1b\\x1f\\xa7\\x9c\\x05K\\xdb\\x01\\x03\\xde\\x10\\xfa\\xac\\xf4gv\\x1dj\\xf4Q\\x06ln@/\\x86\\x81\\x9f>\\xb4\\x86\\xa0q\\xce7iAu\\xc2;o \\xde;3\\x80\\xcc\\n\\\\\\xa2-\\xcd\\x04\\xff|\\x9f\\xeeP\\xa4\\xc1\\x1c\\x17\\xff\\xcb\\xf6ji(\\x12\\x92}\\xf9_0\\xca+,H\\x8c\\xcb}\\xed~\\xac\\xe7[4\\'\\x7f\\x1b\\x87\\xd3\\x97V\\xdc\\xdeo\\x8b\\xbb\\xe6\\x1e\\xf6\\x902\\x8a\\xd9M\\xc3\\x8f\\x0e\\xe4\\xf3y\\xcd+\\x04wxt\\x16\\r~n\\x85\\x9dF.D\\x18 $w~\\x15\\xa1@\\xcb\\xb56\\x87F`\\x00\\x15\\xeb\\xf1<^\\xaa\\xda\\x92As\\x13\\x7fs\\x9chE\\xfa\\xafg5s\\xac2\\x14\\x88\\x9aJ\\xb5\\xcd\\x88\\x92\\xe2\\xddSR\\xfc5+\\xb4\\x9f\\x04\\x1a^\\xe2;X\\xbe\\x1dBq\\x89]\\xf2\\xbeJ\\x85\\x0eG\\x83\\xae\\xb9#\\x84\\xdd/\\xe4Z\\tk+(\\xa2\\xb1i\\xc1\\x10Bjf\\x8d\\xdc\\xd2\\x01\\xafX\\x82\\x8a\\x82\\xee\\xf0\\x1c^\\xc94\\x95\\x9e?\\x18\\xd1R\\xd3}I\\xabD\\xd2\\xa7\\x1f-\\xd9mB\\xac*h\\x9cL\\\\?u\\xcb~|\\xdd\\xa9\\xd9\\xcc7\\x08\\x82\\xc5\\xca\\xd5\\xb8q\\xd3\\x81Q\\xfb\\x99<\\xec\\xa0\\xec\\xd3\\x1eLkea\\xc0\\xec'\n"
     ]
    }
   ],
   "source": [
    "from bitarray import bitarray\n",
    "import binascii \n",
    "import codecs\n",
    "\n",
    "def access_bit(data, num):\n",
    "    base = int(num // 8)\n",
    "    shift = int(num % 8)\n",
    "    return (data[base] & (1<<shift)) >> shift\n",
    "\n",
    "with open(\"proj1_ciphertext.bin\", \"rb\") as ciphertext:\n",
    "    cipher_data = ciphertext.read()\n",
    "    print(cipher_data)\n",
    "    cipher_bitstream = [access_bit(cipher_data,i) for i in range(len(cipher_data)*8)]\n",
    "    #print(cipher_bitstream)\n",
    "    #bitstream = ''.join(bits)\n",
    "\n",
    "with open(\"proj1_known-plaintext.txt\", 'r') as plaintext:\n",
    "    ba = bitarray()\n",
    "    plain_data = plaintext.read()\n",
    "    plain_bitstream = bin(int(binascii.hexlify(bytearray(plain_data, 'utf-8')),16))\n",
    "    plain_bits = [int(plain_bitstream[i]) for i in range(2, len(plain_bitstream))]\n",
    "    #print(plain_bits)\n",
    "\n",
    "    \"\"\"\n",
    "    bytearrayy = bytearray(data, 'utf-8')\n",
    "    print(bytearrayy)\n",
    "\n",
    "    plain_bits = [format(x, 'b') for x in bytearray(data, 'utf-8')]\n",
    "    print(plain_bits)\n",
    "    plain_bitstream = [int(i) for i in plain_bits]\n",
    "    print(plain_bitstream)\n",
    "\"\"\"\n",
    "    \n",
    "def xor_texts():   \n",
    "    key = []\n",
    "    print(type(plain_bitstream[0]))\n",
    "    print(type(cipher_bitstream[0]))\n",
    "    for i in range(len(plain_bits)): \n",
    "        #print(xor(plain_bits[i], cipher_bitstream[i]))\n",
    "        key.append(xor(plain_bits[i], cipher_bitstream[i]))\n",
    "    return_key = [int(i) for i in key]\n",
    "    #print(return_key)\n",
    "    return return_key\n",
    "\n",
    "keyy = xor_texts()  \n",
    "poly = berlekamp_massey(keyy)\n",
    "ke = [str(i) for i in keyy]\n",
    "key = ''.join(ke)\n",
    "print('Key: ', key)\n",
    "bob = StreamCipher(key=key, poly=poly)\n",
    "\n",
    "#plaintextA = plain_data.encode('utf-8')\n",
    "#ciphertext = streamcipher.encrypt(plaintextA)\n",
    "#a = streamcipher.encrypt(ciphertext)\n",
    "\n",
    "\"\"\"\n",
    "alice = StreamCipher(key, poly=poly)\n",
    "plaintextA = plain_data.encode('utf-8')\n",
    "ciphertext = alice.encrypt(plaintextA)\n",
    "bob = StreamCipher(key, poly=poly)\n",
    "plaintextB = bob.encrypt(ciphertext)\n",
    "\n",
    "print('Plaintext', plaintextA)\n",
    "print('Ciphertext: ', ciphertext)\n",
    "print('Plain text: ', plaintextB)\n",
    "\"\"\"\n",
    "\n",
    "plaintextB= streamcipher.encrypt(cipher_data)\n",
    "#answer = bytearray.fromhex(decoded).decode()\n",
    "print(plaintextB)\n"
   ]
  },
  {
   "cell_type": "code",
   "execution_count": null,
   "metadata": {},
   "outputs": [],
   "source": []
  }
 ]
}