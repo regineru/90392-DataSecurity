{
 "cells": [
  {
   "cell_type": "markdown",
   "metadata": {
    "toc-hr-collapsed": false
   },
   "source": [
    "# Linear-Feedback Shift Register (LFSR)"
   ]
  },
  {
   "cell_type": "markdown",
   "metadata": {
    "heading_collapsed": "false"
   },
   "source": [
    "In an LFSR, the output from a standard shift register is fed back into its\n",
    "input causing an endless cycle. The feedback bit is the result of a linear\n",
    "combination of the shift register content and the feedback coefficients.\n",
    "\n",
    "<img src=\"images/LFSR.png\" width=500px>\n",
    "\n",
    "The foolowing are the equation ruling the LFSR block scheme:\n",
    "$$\n",
    "\\begin{align}\n",
    "    b[t]       = &\\; s_0[t] \\\\\n",
    "    s_j[t]     = &\\; s_{j+1}[t-1] \\\\\n",
    "    s_{m-1}[t] = &\\; \\oplus_{j=0}^{m-1} p_{m-j} \\otimes s_{j}[t-1] \\\\\n",
    "\\end{align}\n",
    "$$"
   ]
  },
  {
   "cell_type": "markdown",
   "metadata": {
    "heading_collapsed": "false"
   },
   "source": [
    "**Example**:\n",
    "- LFSR length: 3\n",
    "- feeedback polynomial: $x^3 + x + 1$\n",
    "- initial state: 0b111\n",
    "- LFSR cycle:\n",
    "|     state | output | feedback |\n",
    "|:---------:|:------:|:--------:|\n",
    "| 0b111 (7) |    1   |     0    |\n",
    "| 0b011 (3) |    1   |     1    |\n",
    "| 0b101 (5) |    1   |     0    |\n",
    "| 0b010 (2) |    0   |     0    |\n",
    "| 0b001 (1) |    1   |     1    |\n",
    "| 0b100 (4) |    0   |     1    |\n",
    "| 0b110 (6) |    0   |     1    |\n",
    "| 0b111 (7) |    1   |     0    |"
   ]
  },
  {
   "cell_type": "code",
   "execution_count": 1,
   "metadata": {
    "heading_collapsed": "false"
   },
   "outputs": [],
   "source": [
    "import math\n",
    "from operator import xor\n",
    "from functools import reduce\n",
    "from itertools import compress\n",
    "from itertools import islice"
   ]
  },
  {
   "cell_type": "markdown",
   "metadata": {
    "heading_collapsed": "false",
    "toc-hr-collapsed": false
   },
   "source": [
    "## LFSR generator"
   ]
  },
  {
   "cell_type": "markdown",
   "metadata": {},
   "source": [
    "As first step, we implement an LFSR as a generator."
   ]
  },
  {
   "cell_type": "markdown",
   "metadata": {
    "heading_collapsed": "false"
   },
   "source": [
    "**Inputs**:\n",
    " - **Feedback Polynomial**: `list` of `int` representing the degrees of the non-zeros coefficients. Example: [12, 6, 4, 1, 0] represents the polynomial $x^{12}+x^6+x^4+x+1$.\n",
    " - **shift-register initial state** (optional, default all bits to 1): `int` or `list` of bits representing the LFSR initial state. Example: 0xA65 for 0b101001100101.\n",
    " \n",
    "**Yield**:\n",
    "- **Output bit**: `bool` representing the LFSR output bit\n",
    "\n",
    "**Template**:\n",
    "```python\n",
    "def lfsr_generator(poly, state=None):\n",
    "    ''' generator docstring '''\n",
    "    \n",
    "    # check inputs validity\n",
    "    # define variables storing the internal state\n",
    "    \n",
    "    while True:\n",
    "        # LFSR iteration:\n",
    "        # - update state\n",
    "        # - compute output\n",
    "        yield output\n",
    "```"
   ]
  },
  {
   "cell_type": "markdown",
   "metadata": {},
   "source": [
    "### implentation with lists"
   ]
  },
  {
   "cell_type": "markdown",
   "metadata": {},
   "source": [
    "In this first implementation both the shift register `state` and the feedback polynomial `poly` are `list` of `bool`. This is the most straightforward choice as it directly maps the LFSR block scheme.\n",
    "\n",
    "| variable/<br>operation | definition | implementation |\n",
    "|:-:|:-:|:--|\n",
    "| feeedback polynomial | $$x^3 + x + 1$$ | `poly = [True, True, False, True]` |\n",
    "| initial state | 0b111 | `state = [True, True, True]` |\n",
    "| state update | $$s_j[t] = s_{j+1}[t-1]$$ | `state = state[1:] + [feedback]` |\n",
    "| output bit | $$s_0[t]$$ | `output = state[0]` |\n",
    "| feedback bit | $$\\oplus_{j=0}^{m-1} p_{m-j} \\otimes s_{j}[t]$$ | `feedback = reduce(xor, compress(state[::-1], poly[1:]))` |"
   ]
  },
  {
   "cell_type": "markdown",
   "metadata": {},
   "source": [
    "For debugging purposes, a `verbose` flag is added as argument to enable the print of the internal state at each iteration."
   ]
  },
  {
   "cell_type": "code",
   "execution_count": 2,
   "metadata": {
    "heading_collapsed": "false"
   },
   "outputs": [],
   "source": [
    "def lfsr_generator(poly, state=None, verbose=False):\n",
    "    '''\n",
    "    Generator implementing a Linear Feedback Shift Register (LFSR)\n",
    "    \n",
    "    Parameters\n",
    "    ----------\n",
    "    poly: list of int,\n",
    "        feedback polynomial expressed as list of integers corresponding to\n",
    "        the degrees of the non-zero coefficients.\n",
    "    state: int, optional (default=None),\n",
    "        shift register initial state. If None, all bits of state are set to 1.\n",
    "    verbose: bool, optional (default=False),\n",
    "        If True, the internal state is printed at each iteration\n",
    "    \n",
    "    Return\n",
    "    ------\n",
    "    bool, LFSR output bit\n",
    "    '''\n",
    "    \n",
    "    # ==== check inputs ====\n",
    "    # ==> verbose\n",
    "    if verbose:\n",
    "        # define a function to print the lfsr internal state\n",
    "        def print_lfsr(state, output, feedback):\n",
    "            state_bits = ''.join(str(int(s)) for s in state)[::-1]\n",
    "            state_int = int(state_bits, 2)\n",
    "            print(f'{state_bits} ({state_int})  {int(output)}  {int(feedback)}')\n",
    "    \n",
    "    # ==> poly\n",
    "    length = max(poly) # LFSR length as the max degree of the polynomial\n",
    "    poly = [i in poly for i in range(length+1)] # turn poly into a list of bool\n",
    "    \n",
    "    # ==> state\n",
    "    if state is None: # default value for state is all ones (True)\n",
    "        state = [True for _ in range(length)]\n",
    "    else: # convert integer into list of bool\n",
    "        state = [bool(int(s)) for s in (f'{state:0{length}b}')[::-1]]\n",
    "    \n",
    "    # ==== initial state ====\n",
    "    # compute output bit and feedback bit\n",
    "    output = state[0]\n",
    "    feedback = reduce(xor, compress(state[::-1], poly[1:]))\n",
    "    if verbose: # print initial state\n",
    "        print(' state   b fb')\n",
    "        print_lfsr(state, output, feedback)\n",
    "    \n",
    "    # ==== infinite loop ====\n",
    "    while True: \n",
    "        state = state[1:] + [feedback]                          # update state \n",
    "        output = state[0]                                       # output bit\n",
    "        feedback = reduce(xor, compress(state[::-1], poly[1:])) # feedback bit \n",
    "        if verbose: # print current state\n",
    "            print_lfsr(state, output, feedback)\n",
    "        \n",
    "        yield output # return current output"
   ]
  },
  {
   "cell_type": "markdown",
   "metadata": {},
   "source": [
    "Here we check the generator functioning, by replication the example showed above where the feedback polynomial is $x^3+x+1$ and the initial state is `0x7`=`0b111`"
   ]
  },
  {
   "cell_type": "code",
   "execution_count": 3,
   "metadata": {
    "heading_collapsed": "false"
   },
   "outputs": [
    {
     "name": "stdout",
     "output_type": "stream",
     "text": [
      " state   b fb\n",
      "111 (7)  1  0\n",
      "011 (3)  1  1\n",
      "101 (5)  1  0\n",
      "010 (2)  0  0\n",
      "001 (1)  1  1\n",
      "100 (4)  0  1\n",
      "110 (6)  0  1\n",
      "111 (7)  1  0\n"
     ]
    }
   ],
   "source": [
    "poly = [3, 1, 0] # feedback polynomial x^3 + x + 1\n",
    "state = 0x7      # initial state\n",
    "niter = 7        # number of iterations\n",
    "\n",
    "# lfsr definition\n",
    "lfsr = lfsr_generator(poly, state, verbose=True) \n",
    "\n",
    "# just iter over the LFSR generator\n",
    "for b in islice(lfsr, niter):\n",
    "    # do nothing, just let the generator print its internal state\n",
    "    pass"
   ]
  },
  {
   "cell_type": "markdown",
   "metadata": {},
   "source": [
    "### implentation with integers"
   ]
  },
  {
   "cell_type": "markdown",
   "metadata": {
    "heading_collapsed": "false"
   },
   "source": [
    "In this implementation both the shift register `state` and the feedback polynomial `poly` are `int`. With this choice, bit-wise logical operation, as well as bit-shift, are easy to perform, while XOR of multiple bits or reversing the bit order are less straightforward.\n",
    "\n",
    "For efficiency reasons, it is choosen to store the bits of the state in reverse order. At each iteration, the computation of the feedback bit requires a bit-wise AND between the current state and the polynomial feedback. Since these quantities are defined with inverted index, it is convinient to keep stored the bits of either state or poly in reverse order. To be compliant with common implementation in other programming languages (like C/C++) we choose to store the bits of the state in reverse order.\n",
    "\n",
    "| variable/<br>operation | &nbsp; &nbsp; &nbsp; &nbsp; definition &nbsp; &nbsp; &nbsp; &nbsp; | implementation |\n",
    "|:-:|:-:|:--|\n",
    "| feeedback <br> polynomial | &nbsp; $x^3 + x + 1 $ | `poly = 0b1011`, `length = 3` |\n",
    "| initial state | 0b111 | `state = 0b111` |\n",
    "| state update | &nbsp; $s_j[t] = s_{j+1}[t-1] $ | `statemask = (1 << length) - 1` <br> `state = ((state << 1) \\| feedback) & statemask` |\n",
    "| output bit | &nbsp; $s_0[t] $ | `outmask = 1 << (length-1)` <br> `output = bool(state & outmask)` |\n",
    "| feedback bit | &nbsp; $\\oplus_{j=0}^{m-1} p_{m-j} \\otimes s_{j}[t] $ &nbsp; | `feedback = parity(state & poly)` |"
   ]
  },
  {
   "cell_type": "markdown",
   "metadata": {},
   "source": [
    "Let us define a function `reverse` to reverse the bit order of an integer"
   ]
  },
  {
   "cell_type": "code",
   "execution_count": 4,
   "metadata": {},
   "outputs": [],
   "source": [
    "def reverse(x, nbit=None):\n",
    "    ''' reverse the bit order of the input `x` (int) represented with `nbit` \n",
    "    (int) bits (e.g., nbit: 5, x: 13=0b01101 -> output: 22=0b10110) '''\n",
    "    if nbit is None:\n",
    "        nbit = math.ceil(math.log2(x))\n",
    "    return int(f'{x:0{nbit}b}'[::-1][:nbit], 2)"
   ]
  },
  {
   "cell_type": "code",
   "execution_count": 5,
   "metadata": {},
   "outputs": [
    {
     "name": "stdout",
     "output_type": "stream",
     "text": [
      "1101011000101010 -> 0101010001101011\n"
     ]
    }
   ],
   "source": [
    "x, nbit = 0b1101011000101010, 16\n",
    "y = reverse(x, nbit)\n",
    "print(f'{x:0{nbit}b} -> {y:0{nbit}b}')"
   ]
  },
  {
   "cell_type": "markdown",
   "metadata": {},
   "source": [
    "Let us also define a function `parity` that computes the parity bit for a given integer."
   ]
  },
  {
   "cell_type": "code",
   "execution_count": 6,
   "metadata": {},
   "outputs": [],
   "source": [
    "def parity(x):\n",
    "    ''' compute the parity bit of an integer `x` (int) '''\n",
    "    return bool(sum(int(b) for b in f'{x:b}') % 2)"
   ]
  },
  {
   "cell_type": "code",
   "execution_count": 7,
   "metadata": {},
   "outputs": [
    {
     "name": "stdout",
     "output_type": "stream",
     "text": [
      "1101011010101010 -> parity bit: 1\n"
     ]
    }
   ],
   "source": [
    "x = 0b1101011010101010\n",
    "y = parity(x)\n",
    "\n",
    "print(f'{x:0{nbit}b} -> parity bit: {y:b}')\n"
   ]
  },
  {
   "cell_type": "markdown",
   "metadata": {},
   "source": [
    "Now we can define the generator that implements the LFSR."
   ]
  },
  {
   "cell_type": "code",
   "execution_count": 8,
   "metadata": {
    "heading_collapsed": "false"
   },
   "outputs": [],
   "source": [
    "def lfsr_generator(poly, state=None, verbose=False):\n",
    "    '''\n",
    "    Generator implementing a Linear Feedback Shift Register (LFSR)\n",
    "    \n",
    "    Parameters\n",
    "    ----------\n",
    "    poly: list of int,\n",
    "        feedback polynomial expressed as list of integers corresponding to\n",
    "        the degrees of the non-zero coefficients.\n",
    "    state: int, optional (default=None),\n",
    "        shift register initial state. If None, all bits of state are set to 1.\n",
    "    verbose: bool, optional (default=False),\n",
    "        If True, the internal state is printed at each iteration\n",
    "    \n",
    "    Return\n",
    "    ------\n",
    "    bool, LFSR output bit\n",
    "    '''\n",
    "    \n",
    "    # ==== check inputs ====\n",
    "    # ==> verbose\n",
    "    if verbose:\n",
    "        def print_lfsr(state, output, feedback, length):            \n",
    "            print(f'{state:0{length}b} ({state})',\n",
    "                  f'{int(output)}  {int(feedback)}')\n",
    "    \n",
    "    # ==> poly\n",
    "    length = max(poly) # LFSR length as the max degree of the polynomial \n",
    "    poly = sum([2**p for p in poly]) >> 1  # ignoring p0 (always 1)\n",
    "    \n",
    "    # ==> state\n",
    "    outmask = 1 << (length-1)      # mask to select the output bit from state\n",
    "    statemask = (1 << length) - 1  # mask for state\n",
    "    if state is None: # default value for state is all ones\n",
    "        state = statemask\n",
    "    state = reverse(state, length) # reverse the bit order of state\n",
    "    \n",
    "    # ==== initial state ====\n",
    "    # compute output bit and feedback bit\n",
    "    output = bool(state & outmask) # get output from current state\n",
    "    feedback = parity(state & poly)  # compute feedback bit as the parity bit\n",
    "    if verbose: # print initial state\n",
    "        print(' state   b fb')\n",
    "        print_lfsr(reverse(state, length), output, feedback, length)\n",
    "    \n",
    "    # ==== infinite loop ====\n",
    "    while True:\n",
    "        state = ((state << 1) | feedback) & statemask # update state\n",
    "        output = bool(state & outmask)                # get output\n",
    "        feedback = parity(state & poly)               # update feedback bit \n",
    "        if verbose: # print current state\n",
    "            _state = reverse(state, length)\n",
    "            print_lfsr(_state, output, feedback, length)\n",
    "        \n",
    "        yield output"
   ]
  },
  {
   "cell_type": "markdown",
   "metadata": {},
   "source": [
    "As we did above, we check the implementation by replicating the reference example."
   ]
  },
  {
   "cell_type": "code",
   "execution_count": 9,
   "metadata": {
    "heading_collapsed": "false"
   },
   "outputs": [
    {
     "name": "stdout",
     "output_type": "stream",
     "text": [
      " state   b fb\n",
      "111 (7) 1  0\n",
      "011 (3) 1  1\n",
      "101 (5) 1  0\n",
      "010 (2) 0  0\n",
      "001 (1) 1  1\n",
      "100 (4) 0  1\n",
      "110 (6) 0  1\n",
      "111 (7) 1  0\n"
     ]
    }
   ],
   "source": [
    "poly = [3, 1, 0]\n",
    "state = 0x7\n",
    "niter = 7\n",
    "\n",
    "lfsr = lfsr_generator(poly, state, verbose=True)\n",
    "\n",
    "for b in islice(lfsr, niter):\n",
    "    pass"
   ]
  },
  {
   "cell_type": "markdown",
   "metadata": {},
   "source": [
    "Now, we can use the LFSR to generate a \"long\" (not really) sequence of bits."
   ]
  },
  {
   "cell_type": "code",
   "execution_count": 10,
   "metadata": {
    "heading_collapsed": "false"
   },
   "outputs": [
    {
     "name": "stdout",
     "output_type": "stream",
     "text": [
      "1111001101001000010101110110001111100110100100001010111011000111110011010010000101011101100011111001101001000010101110110001111100110100100001010111011000111110011010010000101011101100011111001101001000010101110110001111100110100100001010111011000111110011010010000101011101100011111001101001000010101110110001111100110100100001010111011000111110011010010000101011101100011111001101001000010101110110001111100110100100001010111011000111110011010010000101011101100011111001101001000010101110110001111100110100100001010111011000111110011010010000101011101100011111001101001000010101110110001111100110100100001010111011000111110011010010000101011101100011111001101001000010101110110001111100110100100001010111011000111110011010010000101011101100011111001101001000010101110110001111100110100100001010111011000111110011010010000101011101100011111001101001000010101110110001111100110100100001010111011000111110011010010000101011101100011111001101001000010101110110001111100110100100001010111011000111110011\n"
     ]
    }
   ],
   "source": [
    "nbits = 1000\n",
    "poly = [5, 2, 0]\n",
    "lfsr = lfsr_generator(poly)\n",
    "\n",
    "# iter over LFSR and store its output in a list\n",
    "bits = [b for b in islice(lfsr, nbits)]\n",
    "\n",
    "# print the list of bool as string of 0s and 1s\n",
    "print(''.join([str(int(b)) for b in bits])) "
   ]
  },
  {
   "cell_type": "markdown",
   "metadata": {},
   "source": [
    "We can notice that the 31-bits sequence `1111001101001000010101110110001` is periodically repeated. This is compliant with an LFSR with length 5 and a primitive polynomial with degree 5 in the feedback."
   ]
  },
  {
   "cell_type": "markdown",
   "metadata": {
    "heading_collapsed": "false",
    "toc-hr-collapsed": false
   },
   "source": [
    "## LFSR Iterator"
   ]
  },
  {
   "cell_type": "markdown",
   "metadata": {},
   "source": [
    "Implementing the LFSR as generator does not allow the user to access to the internal state and variables. Indeed, we needed to code a internal print that was activate by the `verbose` flag for debug.\n",
    "\n",
    "To solve this issue, we can implement the LFSR as an **iterator**, that is a class with the `__iter__` and `__next__` methods that allow to iter over it. Such solution allow the user to employ the LFSR with the same scheme used for the generator bu with the capability to access to the internal state and variables."
   ]
  },
  {
   "cell_type": "markdown",
   "metadata": {
    "heading_collapsed": "false"
   },
   "source": [
    "**Inputs**:\n",
    " - **Feedback Polynomial**: `list` of `int` representing the degrees of the non-zeros coefficients. Example: [12, 6, 4, 1, 0] represents the polynomial $x^{12}+x^6+x^4+x+1$.\n",
    " - **shift-register initial state** (optional, default all bits to 1): `int` or `list` of bits representing the LFSR initial state. Example: 0xA65 for 0b101001100101.\n",
    " \n",
    "**Attributes**:\n",
    "- `poly`: (`list` of `int`) list of the polynomial coefficients;\n",
    "- `length`: (`int`) polynomial degree and length of the shift register;\n",
    "- `state`: (`int`) LFSR state;\n",
    "- `output`: (`bool`) output bit;\n",
    "- `feedback`: (`bool`) feedback bit.\n",
    " \n",
    "**Methods**:\n",
    "- `__init__`: class constructor;\n",
    "- `__iter__`: necessary to be an iterable;\n",
    "- `__next__`: update LFSR state and returns output bit;\n",
    "- `cycle`: returns a list of bool representing the full LFSR cycle ;\n",
    "- `run_steps`: execute N LFSR steps and returns the corresponding output as list of bool (N is a input parameter, default N=1);\n",
    "- `__str__`: return a string describing the LFSR class instance.\n",
    "\n",
    "\n",
    "**Template**:\n",
    "```python\n",
    "class LFSR(object):\n",
    "    ''' class docstring '''\n",
    "\n",
    "    def __init__(self, poly, state=None):\n",
    "        ''' constructor docstring '''\n",
    "        ...\n",
    "        self.poly = ... \n",
    "        self.length = ... \n",
    "        self.state = ... \n",
    "        self.output = ... \n",
    "        self.feedback = ...\n",
    "\n",
    "    def __iter__(self): \n",
    "        return self\n",
    "\n",
    "    def __next__(self): \n",
    "        ''' next docstring ''' \n",
    "        ... \n",
    "        return self.output\n",
    "\n",
    "    def run_steps(self, N=1): \n",
    "        ''' run_steps docstring ''' \n",
    "        ... \n",
    "        return list_of_bool\n",
    "\n",
    "    def cycle(self, state=None): \n",
    "        ''' cycle docstring ''' \n",
    "        ... \n",
    "        return list_of_bool\n",
    "```"
   ]
  },
  {
   "cell_type": "markdown",
   "metadata": {},
   "source": [
    "We first define two functions to convert integers into, what we will call it, their *sparse* representation, which consist in the list of indexes corresponding to 1s in the integer binary representation. For example the integer 138 (`0b10001010`) is turned into the list `[1, 3, 7]`.\n",
    "\n",
    "This function is employed to easily pass from the integer representation of the LFSR feedback polynomial (used during computations) to the representation as list of the degrees of the non-zeor coefficients (used as inputs and outputs).\n",
    "\n",
    "We call it sparse as it reminds how sparse matrices are stored, i.e., as list of triplets comprising the row and column indexes and the corresponding value."
   ]
  },
  {
   "cell_type": "code",
   "execution_count": 11,
   "metadata": {},
   "outputs": [],
   "source": [
    "def int_to_sparse(integer):\n",
    "    ''' transform an integer into the list of indexes corresponding to 1\n",
    "    in the binary representation (sparse representation)'''\n",
    "    sparse = [i for i, b in enumerate(f'{integer:b}'[::-1]) if bool(int(b))]\n",
    "    return sparse\n",
    "\n",
    "def sparse_to_int(sparse):\n",
    "    ''' transform a list of indexes (sparse representation) in an integer whose\n",
    "    binary representation has 1s at the positions corresponding the indexes and \n",
    "    0 elsewhere '''\n",
    "    integer = sum([2**index for index in sparse])\n",
    "    return integer"
   ]
  },
  {
   "cell_type": "code",
   "execution_count": 12,
   "metadata": {},
   "outputs": [
    {
     "name": "stdout",
     "output_type": "stream",
     "text": [
      "int to sparse: 138 (0b10001010) -> [1, 3, 7]\n",
      "sparse to int: [1, 3, 7] -> 138 (0b10001010)\n"
     ]
    }
   ],
   "source": [
    "integer = 0b10001010\n",
    "\n",
    "sparse = int_to_sparse(integer)\n",
    "print(f'int to sparse: {integer} ({bin(integer)}) -> {sparse}')\n",
    "\n",
    "integer = sparse_to_int(sparse)\n",
    "print(f'sparse to int: {sparse} -> {integer} ({bin(integer)})')"
   ]
  },
  {
   "cell_type": "markdown",
   "metadata": {},
   "source": [
    "Here is the LFSR implemented as Iterator. We choose to implement both state and polynomial feedback as integers."
   ]
  },
  {
   "cell_type": "markdown",
   "metadata": {},
   "source": [
    "Note that:\n",
    "- in Python, for attributes and methods there is not the concept of **private** or **public** . It is all public and it is up to the user make a good use of the class. However, there is the convention (supported also by IDE) that attributes starting with an underscore `_` are to be considered private:\n",
    "```python\n",
    "self.state # this is public\n",
    "self._state # this is considered private (actually, it is public)\n",
    "```\n",
    "\n",
    "\n",
    "- Python meets the idea of [Uniform Access Principle](https://en.wikipedia.org/wiki/Uniform_access_principle) that states *all services offered by a module should be available through a uniform notation, which does not betray whether they are implemented through storage or through computation*. \n",
    "    - This means that `lfsr.state` and `lfsr.state = 0` are much preferred than `lfsr.get_state()` and `lfsr.set_state(0)`. \n",
    "    - If you need to wrap the accesses to the attributes inside methods (to deny setting, to check the value before setting, to return the value in a different format with respect to how it is stored internally) you can use the [decorator](https://wiki.python.org/moin/PythonDecorators) `@property` that allows you to hide a method `lfsr.set_state(0)` behind the expression `lfsr.state = 0`.\n",
    "    "
   ]
  },
  {
   "cell_type": "markdown",
   "metadata": {},
   "source": [
    "These features help in writing very readable code. \n",
    "\n",
    "**Example**: let us assume that, internally we want the LFSR state stored as an integer with bits in reverse order to allow an efficient computation for the LFSR iterations, but, externally, i.e., when the state is read, we want to return the value with bits in correct order. We can define a private attribute `_state` for computations and a public attribute `state` that hides (i.e., invokes) a **getter method** that return the private attribute inverting the bit order.\n",
    "```python\n",
    "    @property\n",
    "    def state(self):\n",
    "        return reverse(self._state, len(self))\n",
    "```\n",
    "The same principle can be employed to let the attribute `state` invoke a **setter method** that perform the inverse operation:\n",
    "```python\n",
    "    @state.setter\n",
    "    def state(self, state):\n",
    "        self._state = reverse(state & self._statemask, len(self))\n",
    "```\n",
    "Note that the decorator now is `<attribute>.setter`.\n",
    "\n",
    "Moreover, the setter method can be used to make attributes only readble and not writable. For example, we may want the LFSR length to be an only-read attribute.\n",
    "```python\n",
    "    @property\n",
    "    def length(self):\n",
    "        return self._length\n",
    "    @length.setter\n",
    "    def length(self, val):\n",
    "        raise AttributeError('Denied')\n",
    "```"
   ]
  },
  {
   "cell_type": "markdown",
   "metadata": {},
   "source": [
    "Thanks to these feature we choose:\n",
    "- `state` to be both redable and writable but setter and getter are defined in such a way to allow state to be internally stored with bits in reverse order.\n",
    "- `poly` to be only redable and internally stored as integer.\n",
    "- `length`, `output`\n",
    "- `feedback` to be both redable and writable. The user can insert the state one bit at a time and we will see that some stream ciphers exploit this possibility.\n",
    "\n"
   ]
  },
  {
   "cell_type": "code",
   "execution_count": 13,
   "metadata": {
    "heading_collapsed": "false"
   },
   "outputs": [],
   "source": [
    "class LFSR(object):\n",
    "    '''\n",
    "    Class implementing a Linear Feedback Shift Register (LFSR)\n",
    "    \n",
    "    Attributes\n",
    "    ----------\n",
    "    poly: list of int,\n",
    "        feedback polynomial expressed as list of integers corresponding to\n",
    "        the degrees of the non-zero coefficients.\n",
    "    state: int,\n",
    "        state of the shift register.\n",
    "    output: bool,\n",
    "        last shift register output,\n",
    "    length: int,\n",
    "        length of the shift register as well as  maximum degree of the feedback\n",
    "        polynomial.\n",
    "    \n",
    "    Methods\n",
    "    -------\n",
    "    run_steps(self, N=1)\n",
    "        Execute multiple LFSR steps\n",
    "    cycle(self, state=None)\n",
    "        Execute a full cycle.\n",
    "    '''\n",
    "    \n",
    "    def __init__(self, poly, state=None):\n",
    "        '''\n",
    "        Parameters\n",
    "        ----------\n",
    "        poly: list of int,\n",
    "            feedback polynomial expressed as list of integers corresponding to\n",
    "            the degrees of the non-zero coefficients.\n",
    "        state: int, optional (default=None)\n",
    "            shift register initial state.\n",
    "            If None, state is set to all ones.\n",
    "        '''\n",
    "        length = max(poly)\n",
    "        self._length = length\n",
    "        self._poly = sparse_to_int(poly) >> 1 # p0 is omitted (always 1)\n",
    "        \n",
    "        self._statemask = (1 << length) - 1\n",
    "        if state is None:\n",
    "            state = self._statemask\n",
    "        self.state = state\n",
    "        \n",
    "        self._outmask = 1 << (length-1)\n",
    "        self._output = bool(self._state & self._outmask)\n",
    "        \n",
    "        self._feedback = parity(self._state & self._poly) \n",
    "\n",
    "    # ==== state ====\n",
    "    @property\n",
    "    def state(self):\n",
    "        # state is re-reversed before being read\n",
    "        return reverse(self._state, len(self))\n",
    "    @state.setter\n",
    "    def state(self, state):\n",
    "        if not isinstance(state, int):\n",
    "            raise TypeError('input type is not supported')\n",
    "        # ensure seed is in the range [1, 2**m-1]\n",
    "        if (state < 1) or (state > len(self)):\n",
    "            state = 1 + state % (2**len(self)-2)\n",
    "        self._state = reverse(state & self._statemask, len(self))\n",
    "\n",
    "    # ==== length ====\n",
    "    @property\n",
    "    def length(self):\n",
    "        return self._length\n",
    "    @length.setter\n",
    "    def length(self, val):\n",
    "        raise AttributeError('Denied')\n",
    "    \n",
    "    # ==== poly ====\n",
    "    @property\n",
    "    def poly(self):\n",
    "        return int_to_sparse((self._poly << 1) | 1)[::-1]\n",
    "    @poly.setter\n",
    "    def poly(self, poly):\n",
    "        raise AttributeError('Denied')\n",
    "\n",
    "    # ==== output ====\n",
    "    @property\n",
    "    def output(self):\n",
    "        return self._output\n",
    "    @output.setter\n",
    "    def output(self, val):\n",
    "        raise AttributeError('Denied')\n",
    "\n",
    "    # ==== feedback ====\n",
    "    @property\n",
    "    def feedback(self):\n",
    "        return self._feedback\n",
    "    @feedback.setter\n",
    "    def feedback(self, feedback):\n",
    "        self._feedback = bool(feedback)\n",
    "    \n",
    "    \n",
    "    def __str__(self):\n",
    "        poly = ' + '.join([\n",
    "            (f'x^{d}' if d > 1 else ('x' if d==1 else '1')) \n",
    "            for d in self.poly\n",
    "        ])\n",
    "        string = ', '.join([\n",
    "            f'poly: \"{poly}\"',\n",
    "            f'state: 0x{self.state:0{(self.length+1)//4}x}',\n",
    "            f'output: {None if self.output is None else int(self.output)}'\n",
    "        ])\n",
    "        return string\n",
    "        \n",
    "    def __repr__(self):\n",
    "        return f'LSFR({str(self)})'\n",
    "    \n",
    "    def __len__(self):\n",
    "        return self.length\n",
    "    \n",
    "    def __iter__(self):\n",
    "        return self\n",
    "    \n",
    "    def __next__(self):\n",
    "        '''Execute a LFSR step and returns the output bit (bool)'''\n",
    "        self._state = ((self._state << 1) | self._feedback) & self._statemask\n",
    "        self._output = bool(self._state & self._outmask)\n",
    "        self._feedback = parity(self._state & self._poly) \n",
    "        return self._output\n",
    "    \n",
    "    def run_steps(self, n=1):\n",
    "        '''\n",
    "        Execute multiple LFSR steps.\n",
    "        \n",
    "        Parameters\n",
    "        ----------\n",
    "        n: int, optional (default=1)\n",
    "            number of steps to execute.\n",
    "        \n",
    "        Output\n",
    "        ------\n",
    "        list of bool (len=n),\n",
    "            LFSR output bit stream.\n",
    "        '''\n",
    "        return [next(self) for _ in range(n)]\n",
    "   \n",
    "    def cycle(self, state=None):\n",
    "        '''\n",
    "        Execute a full LFSR cycle (LFSR.len steps).\n",
    "        \n",
    "        Parameters\n",
    "        ----------\n",
    "        state: int or list of int or bools, optional (default=None)\n",
    "            shift register state. If None, state is kept as is.\n",
    "        \n",
    "        Output\n",
    "        ------\n",
    "        list of bool (len=2**myLFSR.len - 1),\n",
    "            LFSR output bit stream.\n",
    "        '''\n",
    "        if state is not None:\n",
    "            self.state = state\n",
    "        return self.run_steps(n=int(2**len(self)) - 1)\n"
   ]
  },
  {
   "cell_type": "markdown",
   "metadata": {},
   "source": [
    "Again, we check the implementation with the reference example. This time, we did not need to use a verbose flag to print the internal state, since all internal variable are accessible by the user."
   ]
  },
  {
   "cell_type": "code",
   "execution_count": 14,
   "metadata": {
    "heading_collapsed": "false"
   },
   "outputs": [
    {
     "name": "stdout",
     "output_type": "stream",
     "text": [
      "\n",
      " state   b fb\n",
      "010 (2)  0  0\n",
      "001 (1)  1  1\n",
      "100 (4)  0  1\n",
      "110 (6)  0  1\n",
      "111 (7)  1  0\n",
      "011 (3)  1  1\n",
      "101 (5)  1  0\n",
      "010 (2)  0  0\n"
     ]
    }
   ],
   "source": [
    "poly = [3, 1, 0]\n",
    "state = 0x7\n",
    "niter = 7\n",
    "\n",
    "def print_lfsr(lfsr):\n",
    "    print(f'{lfsr.state:0{len(lfsr)}b} ({lfsr.state:d}) ',\n",
    "          f'{int(lfsr.output):d}  {int(lfsr.feedback):d}')\n",
    "\n",
    "# create and instance of the LFSR\n",
    "lfsr = LFSR(poly, state)\n",
    "\n",
    "print('\\n state   b fb')\n",
    "print_lfsr(lfsr) # print initial state\n",
    "for b in islice(lfsr, niter):\n",
    "    print_lfsr(lfsr)"
   ]
  },
  {
   "cell_type": "markdown",
   "metadata": {},
   "source": [
    "Here is a check for the implementation of `__str__` and `__repr__` methods.\n",
    "Remind that the goal of :\n",
    "- `__str__` is to provide a readable string\n",
    "- `__repr__` is to be unambiguous"
   ]
  },
  {
   "cell_type": "code",
   "execution_count": 15,
   "metadata": {},
   "outputs": [
    {
     "name": "stdout",
     "output_type": "stream",
     "text": [
      "poly: \"x^3 + x + 1\", state: 0x2, output: 0\n"
     ]
    },
    {
     "data": {
      "text/plain": [
       "LSFR(poly: \"x^3 + x + 1\", state: 0x2, output: 0)"
      ]
     },
     "metadata": {},
     "output_type": "display_data"
    }
   ],
   "source": [
    "print(lfsr)   # print calls `__str__`\n",
    "display(lfsr) # display calls `__repr__`"
   ]
  },
  {
   "cell_type": "markdown",
   "metadata": {},
   "source": [
    "Here is a check for the implementation of the methods `cycle` and `run_steps`. Since the former calls the latter, we just check the former."
   ]
  },
  {
   "cell_type": "code",
   "execution_count": 16,
   "metadata": {},
   "outputs": [
    {
     "name": "stdout",
     "output_type": "stream",
     "text": [
      "[True, False, False, True, True, True, False]\n",
      "1001110\n"
     ]
    }
   ],
   "source": [
    "cycle = lfsr.cycle()\n",
    "print(cycle)\n",
    "print(''.join(f'{int(b)}' for b in cycle))"
   ]
  },
  {
   "cell_type": "markdown",
   "metadata": {
    "heading_collapsed": "false"
   },
   "source": [
    "## Berlekamp-Massey Algorithm"
   ]
  },
  {
   "cell_type": "markdown",
   "metadata": {},
   "source": [
    "The Berlekamp–Massey algorithm is an algorithm that finds the shortest LFSR for a given binary sequence.\n",
    "The input consists in the binary sequence and the output is the feedback polynomial characterizing the shortest LFSR able to generate that sequence."
   ]
  },
  {
   "cell_type": "markdown",
   "metadata": {},
   "source": [
    "**Pseudocode**:\n",
    "> **Input** $b = [b_0, b_1, \\dots, b_N]$ <br>\n",
    "> $P(x) \\leftarrow 1, \\quad m \\leftarrow 0 $ <br>\n",
    "> $Q(x) \\leftarrow 1, \\quad r \\leftarrow 1 $ <br>\n",
    "> **for** $\\tau = 0, 1, \\dots, N-1 $ <br>\n",
    "> $\\qquad d \\leftarrow \\oplus_{j=0}^{m} p_j \\otimes b[\\tau-j] $ <br>\n",
    "> $\\qquad $ **if** $d = 1 $ **then** <br>\n",
    "> $\\qquad \\qquad $ **if** $2m \\le \\tau $ **then** <br>\n",
    "> $\\qquad \\qquad \\qquad R(x) \\leftarrow P(x) $ <br>\n",
    "> $\\qquad \\qquad \\qquad P(x) \\leftarrow P(x) + Q(x)x^r $ <br>\n",
    "> $\\qquad \\qquad \\qquad Q(x) \\leftarrow R(x) $ <br>\n",
    "> $\\qquad \\qquad \\qquad m \\leftarrow \\tau + 1 - m $ <br>\n",
    "> $\\qquad \\qquad \\qquad r \\leftarrow 0 $ <br>\n",
    "> $\\qquad \\qquad $ **else** <br>\n",
    "> $\\qquad \\qquad \\qquad P(x) \\leftarrow P(x) + Q(x)x^r $ <br>\n",
    "> $\\qquad \\qquad $ **endif** <br>\n",
    "> $\\qquad $ **endif** <br>\n",
    "> $\\qquad r \\leftarrow r + 1 $ <br>\n",
    "> **endfor** <br>\n",
    "> **Output** $P(x) $ <br>"
   ]
  },
  {
   "cell_type": "markdown",
   "metadata": {
    "heading_collapsed": "false"
   },
   "source": [
    "**Template**:\n",
    "```python\n",
    "def berlekamp_massey(b):\n",
    "    ''' function docstring '''\n",
    "    # algorithm implementation\n",
    "    return poly\n",
    "```"
   ]
  },
  {
   "cell_type": "markdown",
   "metadata": {},
   "source": [
    "**Example**:\n",
    "\n",
    "Input: $ b = [1, 0, 1, 0, 0, 1, 1, 1] $\n",
    "\n",
    "| $\\tau$ | $b_\\tau$ | $d$ |      $P(x)$     | $m$ |    $Q(x)$   | $r$ |\n",
    "|:------:|:--------:|:---:|:---------------:|:---:|:-----------:|:---:|\n",
    "|   $-$  |    $-$   | $-$ | $ 1           $ | $0$ | $ 1       $ | $1$ |\n",
    "|   $0$  |    $1$   | $1$ | $ 1 + x       $ | $1$ | $ 1       $ | $1$ |\n",
    "|   $1$  |    $0$   | $1$ | $ 1           $ | $1$ | $ 1       $ | $2$ |\n",
    "|   $2$  |    $1$   | $1$ | $ 1 + x^2     $ | $2$ | $ 1       $ | $1$ |\n",
    "|   $3$  |    $0$   | $0$ | $ 1 + x^2     $ | $2$ | $ 1       $ | $2$ |\n",
    "|   $4$  |    $0$   | $1$ | $ 1           $ | $3$ | $ 1 + x^2 $ | $1$ |\n",
    "|   $5$  |    $1$   | $1$ | $ 1 + x + x^3 $ | $3$ | $ 1 + x^2 $ | $2$ |\n",
    "|   $6$  |    $1$   | $0$ | $ 1 + x + x^3 $ | $3$ | $ 1 + x^2 $ | $3$ |\n",
    "|   $7$  |    $1$   | $0$ | $ 1 + x + x^3 $ | $3$ | $ 1 + x^2 $ | $4$ |\n",
    "\n",
    "Output: $ P(x) = 1 + x + x^3 $"
   ]
  },
  {
   "cell_type": "markdown",
   "metadata": {},
   "source": [
    "We first define a functions to transform a bit sequence (list of bool, list of 1/0, or a string composed by only '1'/'0') into an integer."
   ]
  },
  {
   "cell_type": "code",
   "execution_count": 17,
   "metadata": {
    "heading_collapsed": "false"
   },
   "outputs": [],
   "source": [
    "def bits_to_int(bits):\n",
    "    ''' transform a bit sequence (str of 1/0 or list of bool) into an int '''\n",
    "    integer = sum(1 << i for i, bit in enumerate(bits) if bool(int(bit)))\n",
    "    return integer"
   ]
  },
  {
   "cell_type": "code",
   "execution_count": 18,
   "metadata": {},
   "outputs": [
    {
     "data": {
      "text/plain": [
       "'0b101111010110101'"
      ]
     },
     "execution_count": 18,
     "metadata": {},
     "output_type": "execute_result"
    }
   ],
   "source": [
    "bits = '101011010111101'\n",
    "integer = bits_to_int(bits)\n",
    "bin(integer)"
   ]
  },
  {
   "cell_type": "markdown",
   "metadata": {},
   "source": [
    "We choose to implement the Berlekamp-Massy algorithm by storing polynoimals $P(x)$ and $Q(x)$ as integers. Instead, the bit sequence $b$ is kept as list/string and at each iteration is transformed to an integer."
   ]
  },
  {
   "cell_type": "markdown",
   "metadata": {},
   "source": [
    "Note that, from an implementation point of view, the main steps are:\n",
    "- the computation of the discrepancy bit \n",
    "$$d \\leftarrow \\oplus_{j=0}^{m} p_j \\otimes b[\\tau-j]$$\n",
    "This operation is very similar to the combination of state and polynominal coefficients in the computation of the LFSR feedback bit.\n",
    "```python \n",
    "d = parity(P & bits_to_int(bits[t-m:t+1][::-1]))\n",
    "```\n",
    "\n",
    "\n",
    "- the update of the polynomial $P(x)$\n",
    "$$P(x) \\leftarrow P(x) + Q(x)x^r$$\n",
    "```python \n",
    "P = P ^ (Q << r)\n",
    "```\n",
    "    - Assuming $Q(x) = \\sum_{i=0}^l q_i x^i$, then $Q(x)x^r = \\sum_{i=0}^l q_i x^{r+i}$. Therefore, if $Q(x)$ is represented as `[q0, q1, ..., ql]`, $Q(x)x^r$ is `[0, ..., 0, q0, q1, ..., ql]` where the number of 0s is $r$. With the integer representation, this is translated in a left shift of `Q` by `r` positions.\n",
    "    - The $+$ operation in $GF(2^m)$ corresponds to the element-wise $+$ operation in $GF(2)$, that is the `xor`. With the integer representation the bit-wise xor is implemented with `^`."
   ]
  },
  {
   "cell_type": "markdown",
   "metadata": {},
   "source": [
    "As for the LFSR implemented as a generator, we make use of a `verbose` flag to print the internal variables for debugging purposes."
   ]
  },
  {
   "cell_type": "code",
   "execution_count": 19,
   "metadata": {
    "heading_collapsed": "false"
   },
   "outputs": [],
   "source": [
    "def berlekamp_massey(bits, verbose=False):\n",
    "    '''\n",
    "    Find the shortest LFSR for a given binary sequence.\n",
    "    \n",
    "    Parameters\n",
    "    ----------\n",
    "    bits: list/string of 0/1,\n",
    "        stream of bits.\n",
    "        \n",
    "    Return\n",
    "    ------\n",
    "    list of int,\n",
    "        linear feedback polynomial expressed as list of the exponents related\n",
    "        to the non-zero coefficients\n",
    "    '''\n",
    "    \n",
    "    # variables initialization\n",
    "    P, m = 0x1, 0\n",
    "    Q, r = 0x1, 1\n",
    "    \n",
    "    if verbose:\n",
    "        from math import log2\n",
    "        lenP = 1 + int(log2(len(b)+1))\n",
    "        print(f'  t b d {\"poly\":>{lenP}} m {\"Q\":>{lenP}} r')\n",
    "        print(f'  - - - {P:{lenP}b} 0 {Q:{lenP}b} 1')\n",
    "    \n",
    "    for t in range(len(bits)):\n",
    "        \n",
    "        # compute discrepancy\n",
    "        d = parity(P & bits_to_int(bits[t-m:t+1][::-1]))\n",
    "        \n",
    "        if d:\n",
    "            if 2*m <= t: # A                \n",
    "                P, Q = P^(Q<<r), P\n",
    "                m, r = t+1-m, 0\n",
    "            else: # B\n",
    "                P = P^(Q<<r)\n",
    "        r += 1\n",
    "        \n",
    "        if verbose:\n",
    "            print(f'{t:3d} {bits[t]} {d:d} {P:{lenP}b} {m} {Q:{lenP}b} {r}')\n",
    "            \n",
    "    # convert poly from integer to list of degree of non-zero coefficients\n",
    "    poly = int_to_sparse(P)[::-1]\n",
    "    return poly"
   ]
  },
  {
   "cell_type": "markdown",
   "metadata": {},
   "source": [
    "We can check the implementation by replicating the reference example."
   ]
  },
  {
   "cell_type": "code",
   "execution_count": 20,
   "metadata": {
    "heading_collapsed": "false"
   },
   "outputs": [
    {
     "name": "stdout",
     "output_type": "stream",
     "text": [
      "  t b d poly m    Q r\n",
      "  - - -    1 0    1 1\n",
      "  0 1 1   11 1    1 1\n",
      "  1 0 1    1 1    1 2\n",
      "  2 1 1  101 2    1 1\n",
      "  3 0 0  101 2    1 2\n",
      "  4 0 1    1 3  101 1\n",
      "  5 1 1 1011 3  101 2\n",
      "  6 1 0 1011 3  101 3\n",
      "  7 1 0 1011 3  101 4\n",
      "  8 0 0 1011 3  101 5\n",
      "  9 1 0 1011 3  101 6\n",
      "[3, 1, 0]\n"
     ]
    }
   ],
   "source": [
    "b = '1010011101'\n",
    "# b = '11101001110100111010'\n",
    "poly = berlekamp_massey(b, verbose=True)\n",
    "print(poly)"
   ]
  },
  {
   "cell_type": "markdown",
   "metadata": {},
   "source": [
    "A more deep functioning assessment can consist in generating a bit sequence with an LFSR characterized by a primitive polynomial in the feedback, and check that the Berlekamp-Massey algorithm is able to infer the LFSR polyonimal.\n",
    "\n",
    "Use LFSR with different length!"
   ]
  },
  {
   "cell_type": "code",
   "execution_count": 21,
   "metadata": {
    "heading_collapsed": "false"
   },
   "outputs": [
    {
     "name": "stdout",
     "output_type": "stream",
     "text": [
      "poly: \"x^11 + x^2 + 1\", state: 0x002, output: 0\n",
      "1000000000010101010101110111011100100111001011110010111001111011000011000111111000001100111111100001100110101001011011101000111001000001101000000011101010101100010001001010000010111010101110010001001111010111100111011001011000111101101011001001000111101000001100010101001010001000010000010101111111011100110010011110000101100101011100001000110101000001110111111100100110011110100101100100001001011111101000110011101011010011101101111001001001101000010110111111011011001101101101001001001000010111101010001100010000011111010101100111011100001101100000011100000000110101010100100010001011111010111001101110010110110000100100101011110100010011011111010010011000101111000001001101010111100010001100000101001010100010111011111011000110010010100101111011110110010011011010000111000101011000001000111111101011001100010010110101111011011100111000110100111110001011001111101101001100011101001010011101000101100010100011111011111001101100111100011110011111001111001101001101001000011101000000110111111110001100110000011110000000110000000001111111111100110011001011010010111000101110010100011010001010010000010000101010000001000101010111110111011001110010010110000101110000001001111111101001100110111100001110011111100101100110100011110001010011010111010010001101111010110110010001110000101001111110111100110001100001111100000011001010101101000100011101011111001000110010111110000100110000001011010101000111011101011000110111000001110010101001111011101001101100010110110101110001110110000011011010101101101110110110110001110001111100101001100001000011111101010011001000101101000001001000000010111111111011001100111000011110010101100101110110100011011011111000111001101011000011101101010011100010000110101111110001001100101000011110111111001110011000011010010101101111011100011000110101101011011100010010011111010000110010000001111010101001101110111100011011001010010010111010000100111010100001101110101001001110111101001110011101001111001000011000010101101010001001000101000010100010101110101110110001001110000010110000000100101010100001000100000010100000000\n",
      "[11, 2, 0]\n"
     ]
    }
   ],
   "source": [
    "# poly = [3, 1, 0]\n",
    "# poly = [4, 1, 0]\n",
    "# poly = [5, 2, 0]\n",
    "# poly = [6, 1, 0]\n",
    "# poly = [7, 1, 0]\n",
    "# poly = [8, 4, 3, 2, 0]\n",
    "# poly = [9, 4, 0]\n",
    "# poly = [10, 3, 0]\n",
    "poly = [11, 2, 0]\n",
    "# poly = [16, 12, 3, 1, 0]\n",
    "\n",
    "# create an instance of an LFSR\n",
    "lfsr = LFSR(poly)\n",
    "print(lfsr)\n",
    "\n",
    "# generate a bit sequence with length of at least one cycle\n",
    "bitstream = lfsr.cycle()\n",
    "print(''.join([str(int(b)) for b in bitstream]))\n",
    "\n",
    "# use the BM algorithm to infer the polynomial\n",
    "bm_poly = berlekamp_massey(bitstream)\n",
    "print(bm_poly)"
   ]
  },
  {
   "cell_type": "markdown",
   "metadata": {
    "heading_collapsed": "false"
   },
   "source": [
    "## Berlekamp-Massey Streaming Algorithm"
   ]
  },
  {
   "cell_type": "markdown",
   "metadata": {},
   "source": [
    "An algorithm is streaming when the input is a stream of symbols. That means the input is a sequence of items and the algorithm is applied to only one item (or a group of successive items) at a time.\n",
    "\n",
    "Since Berlekamp-Massey Algorithm may be applied to very long sequence of bits,  it may be convenient to implement it as a streaming algorithm. The streaming implementation allows for lower memory requirements as you need to store only the bits of the sequence that are significant for the identification of the LFSR polynomial.\n",
    "\n",
    "The streaming algorithm must:\n",
    "- take one bit at a time as input\n",
    "- for each input bit, it must return the polynomial corresponding to the shortest LFSR that can generate the bit sequence observed up to the last input bit."
   ]
  },
  {
   "cell_type": "markdown",
   "metadata": {},
   "source": [
    "Since streaming algorithms needs an internal state to be updated at each new incoming symbol of the stream, they cannot be implemented a normal functions. We can implement it as a class. \n",
    "\n",
    "**Template**:\n",
    "```python\n",
    "class BerlekampMassey():\n",
    "    \n",
    "    def __init__(self):\n",
    "        # do stuff\n",
    "        self.poly = ...\n",
    "        \n",
    "    def __call__(self, bit):\n",
    "        # do stuff\n",
    "        return self.poly\n",
    "```\n",
    "The special method `__call__` makes the class callable, that means you can call\n",
    "it as a function.\n",
    "```python\n",
    "berlekamp_massey = BerlekampMassey()\n",
    "\n",
    "for bit in bit_stream:\n",
    "    poly = berlekamp_massey(bit)\n",
    "```\n"
   ]
  },
  {
   "cell_type": "markdown",
   "metadata": {},
   "source": [
    "Below is the implementation of the Berlekamp-Massey algorithm as a streaming algorithm.\n",
    "\n",
    "Unlike the batch implementation, here the bits come one at a time and therefore the algorithm needs to internally store the bit sequence by appending each new incoming bit. We choose to store the bit sequence `bits` as an integer, and the new incoming bit `bit` is appended as least significant bit (LSB):\n",
    "```python\n",
    "self.bits = (self.bits << 1) | int(bit)\n",
    "```\n",
    "\n",
    "Moreover, one can notice that not all bits of the sequence are employed to determine the polynomial so we can drop them. It can be proven that the drop operation can be performed when $Q(x)$ is updated and $r$ is reset, by selection only the last $m$ bits of the sequence.\n",
    "```python \n",
    "self.bits &= (1 << self.m) - 1\n",
    "```"
   ]
  },
  {
   "cell_type": "code",
   "execution_count": 22,
   "metadata": {},
   "outputs": [],
   "source": [
    "class BerlekampMassey():\n",
    "    '''\n",
    "    Berlekamp-Massey Algorithm. \n",
    "    The algorithm finds the shortest LFSR for a given binary sequence.\n",
    "    \n",
    "    This class returns a function whose call method takes one bit at a time as \n",
    "    input and returns the feedback polynomial of the shortest LFSR capable of \n",
    "    generating the sequence of all bits received up to the last one.\n",
    "    \n",
    "    Attributes\n",
    "    ----------\n",
    "    poly: list of int,\n",
    "        feedback polynomial expressed as list of integers corresponding to\n",
    "        the degrees of the non-zero coefficients.\n",
    "    \n",
    "    Methods\n",
    "    -------\n",
    "    __call__(bit):\n",
    "        update and return the polynomial of the shortest LFSR for the observed \n",
    "        bit sequence.\n",
    "    discrepancy():\n",
    "        compute the discrepancy bit that is 0 (False) if the polynomial `poly` \n",
    "        explain the observed bit sequence, or 1 (True) otherwise.\n",
    "    '''\n",
    "    \n",
    "    def __init__(self):\n",
    "        ''' class constructor '''\n",
    "        # init algorithm's internal variables\n",
    "        self.P, self.m = 0x1, 0\n",
    "        self.Q, self.r = 0x1, 1\n",
    "        # init an empty sequence of bits\n",
    "        self.bits = 0 # self.bits = []\n",
    "        self.tau = 0\n",
    "    \n",
    "    # ==== poly ====\n",
    "    @property\n",
    "    def poly(self):\n",
    "        return int_to_sparse(self.P)[::-1]\n",
    "    @poly.setter\n",
    "    def poly(self, val):\n",
    "        raise AttributeError('Denied')\n",
    "\n",
    "    def discrepancy(self):\n",
    "        b = self.bits & ((1 << (self.m + 1)) - 1)\n",
    "        d = parity(self.P & b)\n",
    "        return d\n",
    "    \n",
    "    def __call__(self, bit):\n",
    "        '''\n",
    "        Update the feedback polynomial characterizing the shortest LFSR capable \n",
    "        of generating the sequence of all bits received.\n",
    "    \n",
    "        Parameters\n",
    "        ----------\n",
    "        bit: bool, int, or 0/1 str\n",
    "            input bit\n",
    "        \n",
    "        Return\n",
    "        ------\n",
    "        poly: list of int,\n",
    "            feedback polynomial expressed as list of integers corresponding to\n",
    "            the degrees of the non-zero coefficients.\n",
    "        '''\n",
    "        # append\n",
    "        self.bits = (self.bits << 1) | int(bit)  # self.bits.append(bit)\n",
    "        if self.discrepancy():\n",
    "            if 2*self.m <= self.tau: # A                \n",
    "                self.P, self.Q = self.P ^ (self.Q << self.r), self.P\n",
    "                self.m, self.r = self.tau + 1 - self.m, 0\n",
    "                self.bits &= (1<<self.m) - 1  # self.bits = self.bits[-self.m:]\n",
    "            else: # B\n",
    "                self.P = self.P ^ (self.Q << self.r)\n",
    "        self.r += 1\n",
    "        self.tau += 1\n",
    "        \n",
    "        return self.poly"
   ]
  },
  {
   "cell_type": "markdown",
   "metadata": {},
   "source": [
    "Again, we can assess the implementation of the algorithm by generating a sequence with an LFSR featuring a primitive polynomial and check whether the algorithm is able to determine the polynomial."
   ]
  },
  {
   "cell_type": "code",
   "execution_count": 23,
   "metadata": {},
   "outputs": [
    {
     "data": {
      "text/plain": [
       "[11, 2, 0]"
      ]
     },
     "execution_count": 23,
     "metadata": {},
     "output_type": "execute_result"
    }
   ],
   "source": [
    "# poly = [3, 1, 0]\n",
    "poly = [11, 2, 0]\n",
    "\n",
    "lfsr = LFSR(poly)\n",
    "\n",
    "berlekamp_massey = BerlekampMassey()\n",
    "for bit in islice(lfsr, 2**len(lfsr)-1):\n",
    "    poly = berlekamp_massey(bit)\n",
    "poly"
   ]
  },
  {
   "cell_type": "markdown",
   "metadata": {},
   "source": [
    "A deeper check may be performed by trying to determine the polynomial pf the LFSR generating the sequence but trying with any possible initial state."
   ]
  },
  {
   "cell_type": "code",
   "execution_count": 24,
   "metadata": {},
   "outputs": [],
   "source": [
    "import tqdm # very useful module to implement progress bars"
   ]
  },
  {
   "cell_type": "code",
   "execution_count": 25,
   "metadata": {},
   "outputs": [
    {
     "name": "stderr",
     "output_type": "stream",
     "text": [
      "100%|██████████████████████████████████████| 2046/2046 [01:30<00:00, 22.59it/s]"
     ]
    },
    {
     "name": "stdout",
     "output_type": "stream",
     "text": [
      "algorithm succeded for all possible initial states.\n"
     ]
    },
    {
     "name": "stderr",
     "output_type": "stream",
     "text": [
      "\n"
     ]
    }
   ],
   "source": [
    "# poly = [3, 1, 0]\n",
    "# poly = [9, 4, 0]\n",
    "poly = [11, 2, 0]\n",
    "\n",
    "# iter over every possible initial state for the LFSR, i.e., from 1 to 2^m-1\n",
    "for state in tqdm.tqdm(range(1, 2**max(poly)-1), ncols=79):\n",
    "    \n",
    "    # create and instance of the LFSR with the initial state \n",
    "    lfsr = LFSR(poly, state)\n",
    "    \n",
    "    # create an instance of the BM algorithm\n",
    "    berlekamp_massey = BerlekampMassey()\n",
    "    \n",
    "    # iter over the bit sequence and apply the algorithm\n",
    "    for bit in islice(lfsr, 2**max(poly)):\n",
    "        poly_ = berlekamp_massey(bit)\n",
    "        \n",
    "    # check \n",
    "    if poly_ != poly:\n",
    "        print(f'algorithm failed for initial state 0x{state:X}.')\n",
    "        break\n",
    "        \n",
    "else:\n",
    "    print('algorithm succeded for all possible initial states.')"
   ]
  }
 ],
 "metadata": {
  "kernelspec": {
   "display_name": "Python 3",
   "language": "python",
   "name": "python3"
  },
  "language_info": {
   "codemirror_mode": {
    "name": "ipython",
    "version": 3
   },
   "file_extension": ".py",
   "mimetype": "text/x-python",
   "name": "python",
   "nbconvert_exporter": "python",
   "pygments_lexer": "ipython3",
   "version": "3.8.8"
  }
 },
 "nbformat": 4,
 "nbformat_minor": 4
}
