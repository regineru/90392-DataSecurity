{
 "metadata": {
  "language_info": {
   "codemirror_mode": {
    "name": "ipython",
    "version": 3
   },
   "file_extension": ".py",
   "mimetype": "text/x-python",
   "name": "python",
   "nbconvert_exporter": "python",
   "pygments_lexer": "ipython3",
   "version": "3.8.5-final"
  },
  "orig_nbformat": 2,
  "kernelspec": {
   "name": "python3",
   "display_name": "Python 3.8.5 64-bit ('miniconda3': virtualenv)",
   "metadata": {
    "interpreter": {
     "hash": "b83a1b8810e509e0f22ffa336c1f93bbcb9495d33a31411ff1c6e3813f0d29d6"
    }
   }
  }
 },
 "nbformat": 4,
 "nbformat_minor": 2,
 "cells": [
  {
   "source": [
    "# TASK 3 - STREAMING CIPHER"
   ],
   "cell_type": "markdown",
   "metadata": {}
  },
  {
   "source": [
    "### 1. Define an object that, starting from a random bit generator, generates random bytes. "
   ],
   "cell_type": "markdown",
   "metadata": {}
  },
  {
   "cell_type": "code",
   "execution_count": 13,
   "metadata": {},
   "outputs": [],
   "source": [
    "from lfsr import LFSR\n",
    "from itertools import islice\n",
    "import random\n",
    "\n",
    "class PseudoRandomByteGenerator(object):\n",
    "    ''' class docstring '''\n",
    "\n",
    "    def __init__(self, seed=None, bit_generator=None, **kwargs):\n",
    "        ''' constructor docstring '''\n",
    "        self.bit_generator = bit_generator\n",
    "        if self.bit_generator == None:\n",
    "            self.bits = []\n",
    "            self.lfsr_inst = LFSR(kwargs['poly'], seed)\n",
    "        elif self.bit_generator == 'random':\n",
    "            random.seed(seed)\n",
    "            self.bits = 0\n",
    "\n",
    "    def __iter__(self):\n",
    "        return self\n",
    "\n",
    "    def bit_to_bytes(self, s):\n",
    "        return int(s, 2).to_bytes(len(s) // 8, byteorder='big')\n",
    "    \n",
    "    def __next__(self):\n",
    "        if self.bit_generator == None: \n",
    "            self.bits = self.lfsr_inst.run_steps(N=8)\n",
    "            self.bits = ''.join(['1' if b==True else '0' for b in self.bits])\n",
    "            byte = int(self.bits, 2)\n",
    "        elif self.bit_generator == 'random':\n",
    "            self.bits = random.genrandbits(8)\n",
    "            byte = self.bits\n",
    "        return byte"
   ]
  },
  {
   "cell_type": "code",
   "execution_count": 14,
   "metadata": {},
   "outputs": [
    {
     "output_type": "stream",
     "name": "stdout",
     "text": [
      "b'\\xe9\\xd3\\xa7N\\x9d:t\\xe9\\xd3\\xa7'\n"
     ]
    }
   ],
   "source": [
    "prbg = PseudoRandomByteGenerator(poly=[3, 1]) # iterator\n",
    "digits = [byte for byte in islice(prbg, 10)]\n",
    "print(bytes(digits)) # -> b'\\x00x\\xe7/\\xdd7\\xe1\\\\t\\xc5'"
   ]
  },
  {
   "source": [
    "### 2. Define an object implementing a Stream Cipher that, given a Pseudo Random Byte Generator and a key, can encrypt and decrypt a message. "
   ],
   "cell_type": "markdown",
   "metadata": {}
  },
  {
   "source": [
    "### 3. Define an iterator that implements the A5/1 architecture and use it as bit generator in a Stream Cipher"
   ],
   "cell_type": "markdown",
   "metadata": {}
  },
  {
   "source": [
    "### 4. Define an iterator that implements the RC4 architecture and use it in the Stream Cipher object to encrypt/decrypt a message"
   ],
   "cell_type": "markdown",
   "metadata": {}
  }
 ]
}