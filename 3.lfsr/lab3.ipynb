{
 "metadata": {
  "language_info": {
   "codemirror_mode": {
    "name": "ipython",
    "version": 3
   },
   "file_extension": ".py",
   "mimetype": "text/x-python",
   "name": "python",
   "nbconvert_exporter": "python",
   "pygments_lexer": "ipython3",
   "version": "3.8.5"
  },
  "orig_nbformat": 2,
  "kernelspec": {
   "name": "python385jvsc74a57bd0b83a1b8810e509e0f22ffa336c1f93bbcb9495d33a31411ff1c6e3813f0d29d6",
   "display_name": "Python 3.8.5 64-bit ('base': conda)"
  }
 },
 "nbformat": 4,
 "nbformat_minor": 2,
 "cells": [
  {
   "source": [
    "# TASK 3 - STREAMING CIPHER"
   ],
   "cell_type": "markdown",
   "metadata": {}
  },
  {
   "source": [
    "### 1. Define an object that, starting from a random bit generator, generates random bytes. "
   ],
   "cell_type": "markdown",
   "metadata": {}
  },
  {
   "cell_type": "code",
   "execution_count": 11,
   "metadata": {},
   "outputs": [],
   "source": [
    "from lfsr import LFSR, int_to_bin, bin_to_int\n",
    "from itertools import islice\n",
    "import random\n",
    "\n",
    "class PseudoRandomByteGenerator(object):\n",
    "    ''' class docstring '''\n",
    "\n",
    "    def __init__(self, seed=None, bit_generator=None, **kwargs):\n",
    "\n",
    "        \"\"\"\n",
    "        self.poly = kwargs['poly']\n",
    "        self.seed = seed\n",
    "        \"\"\"\n",
    "\n",
    "        \"\"\"\n",
    "        if self.seed == None: \n",
    "            self.seed = '0' * max(self.poly)\n",
    "        while len(self.seed) < max(self.poly): \n",
    "            self.seed = '0' + self.seed\n",
    "        \"\"\"\n",
    "        \n",
    "        self.bit_generator = bit_generator\n",
    "        if self.bit_generator == None:\n",
    "            self.bits = []\n",
    "            \n",
    "\n",
    "            self.lfsr_inst = LFSR(kwargs['poly'], seed)\n",
    "\n",
    "        elif self.bit_generator == 'random':\n",
    "            random.seed(seed)\n",
    "            self.bits = 0\n",
    "\n",
    "    def __iter__(self):\n",
    "        return self\n",
    "\n",
    "    def bit_to_bytes(self, s):\n",
    "        return int(s, 2).to_bytes(len(s) // 8, byteorder='big')\n",
    "    \n",
    "    def __next__(self):\n",
    "        if self.bit_generator == None: \n",
    "            self.bits = self.lfsr_inst.run_steps(N=8)   #get a list of 8 bits represented as true and false\n",
    "            self.bits = ''.join(['1' if b==True else '0' for b in self.bits])   #convert the list of bits to a string of 0 and 1\n",
    "            byte = int(self.bits, 2)\n",
    "        elif self.bit_generator == 'random':\n",
    "            self.bits = random.getrandbits(8)\n",
    "            byte = self.bits\n",
    "        return byte"
   ]
  },
  {
   "cell_type": "code",
   "execution_count": 12,
   "metadata": {},
   "outputs": [
    {
     "output_type": "stream",
     "name": "stdout",
     "text": [
      "b'\\xe9\\xd3\\xa7N\\x9d:t\\xe9\\xd3\\xa7'\n"
     ]
    }
   ],
   "source": [
    "prbg = PseudoRandomByteGenerator(poly=[3, 1]) # iterator\n",
    "digits = [byte for byte in islice(prbg, 10)]\n",
    "print(bytes(digits))"
   ]
  },
  {
   "cell_type": "code",
   "execution_count": 13,
   "metadata": {},
   "outputs": [
    {
     "output_type": "stream",
     "name": "stdout",
     "text": [
      "b'D\\x03$S:\\xda\\xab\\x95\\x0e\\x12'\n"
     ]
    }
   ],
   "source": [
    "prbg = PseudoRandomByteGenerator(bit_generator='random') # iterator\n",
    "digits = [byte for byte in islice(prbg, 10)]\n",
    "print(bytes(digits)) # -> b'\\x00x\\xe7/\\xdd7\\xe1\\\\t\\xc5'"
   ]
  },
  {
   "source": [
    "### 2. Define an object implementing a Stream Cipher that, given a Pseudo Random Byte Generator and a key, can encrypt and decrypt a message. "
   ],
   "cell_type": "markdown",
   "metadata": {}
  },
  {
   "cell_type": "code",
   "execution_count": 12,
   "metadata": {},
   "outputs": [],
   "source": [
    "class StreamCipher():\n",
    "    ''' class docstring '''\n",
    "    def __init__(self, key, prng=None, **kwargs):\n",
    "        \n",
    "        if prng is None:\n",
    "            self.byte_gen = PseudoRandomByteGenerator(seed=key, **kwargs)\n",
    "        else: \n",
    "            self.byte_gen = prng(key=key, **kwargs) \n",
    "    \n",
    "    def encrypt(self, plaintext):\n",
    "        N = len(plaintext)\n",
    "        digits = [byte for byte in islice(self.byte_gen, N)]\n",
    "        encrypted = [a ^ b for (a,b) in zip(bytes(digits), plaintext)]\n",
    "        ciphertext = bytes(encrypted)\n",
    "        return ciphertext\n",
    "    \n",
    "    def decrypt(self, ciphertext):\n",
    "        N = len(ciphertext)\n",
    "        digits = [byte for byte in islice(self.byte_gen, N)]\n",
    "        decrypted = [a ^ b for (a,b) in zip(bytes(digits), ciphertext)]\n",
    "        plaintext = bytes(encrypted)\n",
    "        return plaintext"
   ]
  },
  {
   "cell_type": "code",
   "execution_count": 13,
   "metadata": {},
   "outputs": [
    {
     "output_type": "stream",
     "name": "stdout",
     "text": [
      "b'hello world!'\nb'\\xf9\\xc7\\xdf\\xa8\\xba\\xc6\\x80\\x93\\xf5M\\x1c\\xf7'\nb'hello world!'\n"
     ]
    }
   ],
   "source": [
    "message = 'hello world!'\n",
    "key = 0x0123456789ABCDEF\n",
    "alice = StreamCipher(key, poly=[7, 1, 0])\n",
    "plaintextA = message.encode('utf-8')\n",
    "ciphertext = alice.encrypt(plaintextA)\n",
    "bob = StreamCipher(key, poly=[7, 1, 0])\n",
    "plaintextB = bob.encrypt(ciphertext)\n",
    "\n",
    "print(plaintextA) # -> b'hello world!'\n",
    "print(ciphertext) # -> b'\\x9f\\x03\\xbcf\\xfa\\xdb`\\xf6\\x17\\xce7\\x88'\n",
    "print(plaintextB) # -> b'hello world!'"
   ]
  },
  {
   "source": [
    "### 3. Define an iterator that implements the A5/1 architecture and use it as bit generator in a Stream Cipher"
   ],
   "cell_type": "markdown",
   "metadata": {}
  },
  {
   "cell_type": "code",
   "execution_count": 20,
   "metadata": {},
   "outputs": [],
   "source": [
    "class A5_1():\n",
    "\n",
    "    def __init__(self, key, frame, verbose=0):\n",
    "\n",
    "        self.lfsr1 = LFSR(poly=[19, 18, 17, 14, 0], state=0)\n",
    "        self.lfsr2 = LFSR(poly=[22, 21, 0], state=0)\n",
    "        self.lfsr3 = LFSR(poly=[23, 22, 21, 8, 0], state=0)\n",
    "        self.counter = 0\n",
    "        self.verbose = verbose\n",
    "\n",
    "        if len(bin(key)[2:]) > 64: \n",
    "            raise Exception(\"The key must be 64 bit\")\n",
    "        else: \n",
    "            self.key = int_to_bin(key, 64)[::-1]\n",
    "        \n",
    "        if len(bin(frame)[2:])>22:\n",
    "            raise Exception(\"The frame must be 22 bit\")\n",
    "        else: \n",
    "            self.frame = int_to_bin(frame, 22)[::-1]\n",
    "        \n",
    "        self.key_ins()\n",
    "        self.frame_ins()\n",
    "        self.key_mixing()\n",
    "\n",
    "    def key_ins(self):\n",
    "        for count in range(64):\n",
    "            #feedback is None\n",
    "            self.lfsr1.feedback, self.lfsr3.feedback, self.lfsr3.feedback = self.key[count]^self.lfsr1.feedback, self.key[count]^self.lfsr2.feedback, self.key[count]^self.lfsr3.feedback\n",
    "            if self.verbose == 1:\n",
    "                if count == 0: \n",
    "                    print('{:>2} {:>3} {:>10} {:>12} {:>12} {:>10}'.format('iter', 'key', 'LFSR 1', 'LFSR2', 'LFSR3', 'out'))\n",
    "                self.print_a5(count+1, mode='key')\n",
    "\n",
    "    def frame_ins(self):\n",
    "        for count in range(64):\n",
    "            self.lfsr1.feedback, self.lfsr3.feedback, self.lfsr3.feedback = self.frame[count]^self.lfsr1.feedback, self.frame[count]^self.lfsr2.feedback, self.frame[count]^self.lfsr3.feedback\n",
    "            self.__next__(key, frame=1)\n",
    "            if self.verbose == 1: \n",
    "                if count == 0: \n",
    "                    print('{:>2} {:>3} {:>10} {:>12} {:>12} {:>10}'.format('iter', 'key', 'LFSR 1', 'LFSR2', 'LFSR3', 'out'))\n",
    "                self.print_a5(count+1, mode='frame')\n",
    "    \n",
    "    def key_mixing(self):\n",
    "        for count in range(100):\n",
    "            self.__next__(key, frame=0)\n",
    "            if self.verbose == 1: \n",
    "                if count == 0: \n",
    "                    print('{:>2} {:>3} {:>10} {:>12} {:>12} {:>10}'.format('iter', 'key', 'LFSR 1', 'LFSR2', 'LFSR3', 'out'))\n",
    "                self.print_a5(count+1, mode='normal')\n",
    "    \n",
    "    def print_a5(self, count, mode): \n",
    "        state1 = bool_list_hex(self.lfsr1.state[2:])\n",
    "        state2 = bool_list_hex(self.lfsr2.state[2:])\n",
    "        state3 = bool_list_hex(self.lfsr3.state[2:])\n",
    "        if mode=='key':\n",
    "            print('{:>2} {:>3} {:>12} {:>12} {:>12} {:>12}'.format(count, self.key[count-1], state1, state2, state3, self.out))\n",
    "        elif mode == 'frame':\n",
    "                print('{:>2} {:>3} {:>12} {:>12} {:>12} {:>12}'.format(count, self.frame[count-1], state1, state2, state3, self.out))\n",
    "        elif mode == 'normal':\n",
    "                print('{:>2} {:>3} {:>12} {:>12} {:>12} {:>12}'.format(count, state1, state2, state3, self.majority, self.out))\n",
    "\n",
    "    def __iter__(self):\n",
    "        return self\n",
    "    \n",
    "    def __next__(self, key_frame=0):\n",
    "\n",
    "        if key_frame == 0:\n",
    "            self.majority = not(floor(1/2+(int(self.lfsr1.state[8])+int(self.lfsr2.state[10])+int(self.lfsr3.state[10])-1/2)/3))\n",
    "            if self.majority ^ self.lfsr1.state[8]:\n",
    "                next(self.lfsr1)\n",
    "            if self.majority ^ self.lfsr2.state[10]:\n",
    "                next(self.lfsr2)\n",
    "            if self.majority ^ self.lfsr3.state[8]:\n",
    "                next(self.lfsr3)\n",
    "        else: \n",
    "            next(self.lfsr1)\n",
    "            next(self.lfsr2)\n",
    "            next(self.lfsr3)\n",
    "        self.out = self.lfsr1.output ^ self.lfsr2.output ^ self.lfsr3.output\n",
    "        return int(self.out)\n"
   ]
  },
  {
   "cell_type": "code",
   "execution_count": 21,
   "metadata": {},
   "outputs": [
    {
     "output_type": "error",
     "ename": "TypeError",
     "evalue": "unsupported operand type(s) for ^: 'int' and 'NoneType'",
     "traceback": [
      "\u001b[0;31m---------------------------------------------------------------------------\u001b[0m",
      "\u001b[0;31mTypeError\u001b[0m                                 Traceback (most recent call last)",
      "\u001b[0;32m<ipython-input-21-ff1dc0f952d1>\u001b[0m in \u001b[0;36m<module>\u001b[0;34m\u001b[0m\n\u001b[1;32m      1\u001b[0m \u001b[0mkey\u001b[0m\u001b[0;34m,\u001b[0m \u001b[0mframe\u001b[0m \u001b[0;34m=\u001b[0m \u001b[0;36m0x0123456789ABCDEF\u001b[0m\u001b[0;34m,\u001b[0m \u001b[0;36m0x2F695A\u001b[0m\u001b[0;34m\u001b[0m\u001b[0;34m\u001b[0m\u001b[0m\n\u001b[0;32m----> 2\u001b[0;31m \u001b[0ma5\u001b[0m \u001b[0;34m=\u001b[0m \u001b[0mA5_1\u001b[0m\u001b[0;34m(\u001b[0m\u001b[0mkey\u001b[0m\u001b[0;34m,\u001b[0m \u001b[0mframe\u001b[0m\u001b[0;34m,\u001b[0m \u001b[0mverbose\u001b[0m\u001b[0;34m=\u001b[0m\u001b[0;36m1\u001b[0m\u001b[0;34m)\u001b[0m\u001b[0;34m\u001b[0m\u001b[0;34m\u001b[0m\u001b[0m\n\u001b[0m",
      "\u001b[0;32m<ipython-input-20-a9e5e5e45a6a>\u001b[0m in \u001b[0;36m__init__\u001b[0;34m(self, key, frame, verbose)\u001b[0m\n\u001b[1;32m     19\u001b[0m             \u001b[0mself\u001b[0m\u001b[0;34m.\u001b[0m\u001b[0mframe\u001b[0m \u001b[0;34m=\u001b[0m \u001b[0mint_to_bin\u001b[0m\u001b[0;34m(\u001b[0m\u001b[0mframe\u001b[0m\u001b[0;34m,\u001b[0m \u001b[0;36m22\u001b[0m\u001b[0;34m)\u001b[0m\u001b[0;34m[\u001b[0m\u001b[0;34m:\u001b[0m\u001b[0;34m:\u001b[0m\u001b[0;34m-\u001b[0m\u001b[0;36m1\u001b[0m\u001b[0;34m]\u001b[0m\u001b[0;34m\u001b[0m\u001b[0;34m\u001b[0m\u001b[0m\n\u001b[1;32m     20\u001b[0m \u001b[0;34m\u001b[0m\u001b[0m\n\u001b[0;32m---> 21\u001b[0;31m         \u001b[0mself\u001b[0m\u001b[0;34m.\u001b[0m\u001b[0mkey_ins\u001b[0m\u001b[0;34m(\u001b[0m\u001b[0;34m)\u001b[0m\u001b[0;34m\u001b[0m\u001b[0;34m\u001b[0m\u001b[0m\n\u001b[0m\u001b[1;32m     22\u001b[0m         \u001b[0mself\u001b[0m\u001b[0;34m.\u001b[0m\u001b[0mframe_ins\u001b[0m\u001b[0;34m(\u001b[0m\u001b[0;34m)\u001b[0m\u001b[0;34m\u001b[0m\u001b[0;34m\u001b[0m\u001b[0m\n\u001b[1;32m     23\u001b[0m         \u001b[0mself\u001b[0m\u001b[0;34m.\u001b[0m\u001b[0mkey_mixing\u001b[0m\u001b[0;34m(\u001b[0m\u001b[0;34m)\u001b[0m\u001b[0;34m\u001b[0m\u001b[0;34m\u001b[0m\u001b[0m\n",
      "\u001b[0;32m<ipython-input-20-a9e5e5e45a6a>\u001b[0m in \u001b[0;36mkey_ins\u001b[0;34m(self)\u001b[0m\n\u001b[1;32m     26\u001b[0m         \u001b[0;32mfor\u001b[0m \u001b[0mcount\u001b[0m \u001b[0;32min\u001b[0m \u001b[0mrange\u001b[0m\u001b[0;34m(\u001b[0m\u001b[0;36m64\u001b[0m\u001b[0;34m)\u001b[0m\u001b[0;34m:\u001b[0m\u001b[0;34m\u001b[0m\u001b[0;34m\u001b[0m\u001b[0m\n\u001b[1;32m     27\u001b[0m             \u001b[0;31m#feedback is None\u001b[0m\u001b[0;34m\u001b[0m\u001b[0;34m\u001b[0m\u001b[0;34m\u001b[0m\u001b[0m\n\u001b[0;32m---> 28\u001b[0;31m             \u001b[0mself\u001b[0m\u001b[0;34m.\u001b[0m\u001b[0mlfsr1\u001b[0m\u001b[0;34m.\u001b[0m\u001b[0mfeedback\u001b[0m\u001b[0;34m,\u001b[0m \u001b[0mself\u001b[0m\u001b[0;34m.\u001b[0m\u001b[0mlfsr3\u001b[0m\u001b[0;34m.\u001b[0m\u001b[0mfeedback\u001b[0m\u001b[0;34m,\u001b[0m \u001b[0mself\u001b[0m\u001b[0;34m.\u001b[0m\u001b[0mlfsr3\u001b[0m\u001b[0;34m.\u001b[0m\u001b[0mfeedback\u001b[0m \u001b[0;34m=\u001b[0m \u001b[0mself\u001b[0m\u001b[0;34m.\u001b[0m\u001b[0mkey\u001b[0m\u001b[0;34m[\u001b[0m\u001b[0mcount\u001b[0m\u001b[0;34m]\u001b[0m\u001b[0;34m^\u001b[0m\u001b[0mself\u001b[0m\u001b[0;34m.\u001b[0m\u001b[0mlfsr1\u001b[0m\u001b[0;34m.\u001b[0m\u001b[0mfeedback\u001b[0m\u001b[0;34m,\u001b[0m \u001b[0mself\u001b[0m\u001b[0;34m.\u001b[0m\u001b[0mkey\u001b[0m\u001b[0;34m[\u001b[0m\u001b[0mcount\u001b[0m\u001b[0;34m]\u001b[0m\u001b[0;34m^\u001b[0m\u001b[0mself\u001b[0m\u001b[0;34m.\u001b[0m\u001b[0mlfsr2\u001b[0m\u001b[0;34m.\u001b[0m\u001b[0mfeedback\u001b[0m\u001b[0;34m,\u001b[0m \u001b[0mself\u001b[0m\u001b[0;34m.\u001b[0m\u001b[0mkey\u001b[0m\u001b[0;34m[\u001b[0m\u001b[0mcount\u001b[0m\u001b[0;34m]\u001b[0m\u001b[0;34m^\u001b[0m\u001b[0mself\u001b[0m\u001b[0;34m.\u001b[0m\u001b[0mlfsr3\u001b[0m\u001b[0;34m.\u001b[0m\u001b[0mfeedback\u001b[0m\u001b[0;34m\u001b[0m\u001b[0;34m\u001b[0m\u001b[0m\n\u001b[0m\u001b[1;32m     29\u001b[0m             \u001b[0;32mif\u001b[0m \u001b[0mself\u001b[0m\u001b[0;34m.\u001b[0m\u001b[0mverbose\u001b[0m \u001b[0;34m==\u001b[0m \u001b[0;36m1\u001b[0m\u001b[0;34m:\u001b[0m\u001b[0;34m\u001b[0m\u001b[0;34m\u001b[0m\u001b[0m\n\u001b[1;32m     30\u001b[0m                 \u001b[0;32mif\u001b[0m \u001b[0mcount\u001b[0m \u001b[0;34m==\u001b[0m \u001b[0;36m0\u001b[0m\u001b[0;34m:\u001b[0m\u001b[0;34m\u001b[0m\u001b[0;34m\u001b[0m\u001b[0m\n",
      "\u001b[0;31mTypeError\u001b[0m: unsupported operand type(s) for ^: 'int' and 'NoneType'"
     ]
    }
   ],
   "source": [
    "key, frame = 0x0123456789ABCDEF, 0x2F695A\n",
    "a5 = A5_1(key, frame, verbose=1)"
   ]
  },
  {
   "cell_type": "code",
   "execution_count": null,
   "metadata": {},
   "outputs": [],
   "source": [
    "message = 'hello world!'\n",
    "key = 0x0123456789ABCDEF\n",
    "\n",
    "# create a StreamCipher instance for Alice and Bob\n",
    "# no PRNG is specified, then LFSR is employed\n",
    "alice = StreamCipher(key)\n",
    "bob = StreamCipher(key)\n",
    "\n",
    "plaintextA = message.encode('utf-8') # string to bytes\n",
    "ciphertext = alice.encrypt(plaintextA) # encryption by Alice\n",
    "plaintextB = bob.decrypt(ciphertext) # decryption by Bob\n",
    "\n",
    "print(plaintextA) # -> b'hello world!'\n",
    "print(ciphertext) # -> b'\\x9f\\x03\\xbcf\\xfa\\xdb`\\xf6\\x17\\xce7\\x88'\n",
    "print(plaintextB) # -> b'hello world!'"
   ]
  },
  {
   "source": [
    "### 4. Define an iterator that implements the RC4 architecture and use it in the Stream Cipher object to encrypt/decrypt a message"
   ],
   "cell_type": "markdown",
   "metadata": {}
  },
  {
   "cell_type": "code",
   "execution_count": null,
   "metadata": {},
   "outputs": [],
   "source": [
    "class RC4(object): \n",
    "    def __init__(self, key, drop):\n",
    "        self.key = lisy(key)\n",
    "        self.P = []\n",
    "        self.KSA()\n",
    "        \n",
    "        for i in range(drop):\n",
    "            self.__next__()\n",
    "\n",
    "    def KSA(self):\n",
    "        j = 0 \n",
    "        L = len(self.key)\n",
    "        for i in range(265):\n",
    "            self.P.append(i)\n",
    "        \n",
    "        for i in range(265):\n",
    "            print('{:3d}{:3d}{:3d}{:3d}'.format(i, j, self.P[i], self.P[j]))\n",
    "            j = (j + self.P[i] + self.key[i % L]) % 265\n",
    "            self.P[i], self.P[j] = self.P[j], self.P[i]\n",
    "        \n",
    "    def __iter__(self):\n",
    "        return self\n",
    "    \n",
    "    def __next__(self):\n",
    "        i = 0\n",
    "        j = 0\n",
    "        i = (i+1) % 265\n",
    "        j = (j+self.P[i]) % 265\n",
    "        self.P[i], self.P[j] = self.P[j], self.P[i]\n",
    "        self.K = self.P[(self.P[i]+self.P[j]) % 265]\n",
    "        return self.K"
   ]
  },
  {
   "cell_type": "code",
   "execution_count": null,
   "metadata": {},
   "outputs": [],
   "source": [
    "message = 'hello world!’\n",
    "key = b'0123456789ABCDEF'\n",
    "\n",
    "# create a StreamCipher instance for both Alice and Bob\n",
    "alice = StreamCipher(key, prng=RC4, drop=10)\n",
    "bob = StreamCipher(key, prng=RC4, drop=10)\n",
    "\n",
    "plaintextA = message.encode('utf-8') # -> b'Hello world!'\n",
    "ciphertext = alice.encrypt(plaintextA) # -> b'/\\x9e\\xf9\\x83@\\x81}\\xa9\\xd0\\xd4\\xd5\\xf4'\n",
    "plaintextB = bob.decrypt(ciphertext) # -> b'Hello world!'"
   ]
  }
 ]
}