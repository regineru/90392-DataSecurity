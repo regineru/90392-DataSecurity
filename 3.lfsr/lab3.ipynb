{
 "metadata": {
  "language_info": {
   "codemirror_mode": {
    "name": "ipython",
    "version": 3
   },
   "file_extension": ".py",
   "mimetype": "text/x-python",
   "name": "python",
   "nbconvert_exporter": "python",
   "pygments_lexer": "ipython3",
   "version": "3.8.5-final"
  },
  "orig_nbformat": 2,
  "kernelspec": {
   "name": "python3",
   "display_name": "Python 3.8.5 64-bit ('miniconda3': virtualenv)",
   "metadata": {
    "interpreter": {
     "hash": "b83a1b8810e509e0f22ffa336c1f93bbcb9495d33a31411ff1c6e3813f0d29d6"
    }
   }
  }
 },
 "nbformat": 4,
 "nbformat_minor": 2,
 "cells": [
  {
   "source": [
    "# TASK 3 - STREAMING CIPHER"
   ],
   "cell_type": "markdown",
   "metadata": {}
  },
  {
   "source": [
    "### 1. Define an object that, starting from a random bit generator, generates random bytes. "
   ],
   "cell_type": "markdown",
   "metadata": {}
  },
  {
   "cell_type": "code",
   "execution_count": 72,
   "metadata": {},
   "outputs": [],
   "source": [
    "from lfsr import LFSR\n",
    "from itertools import islice\n",
    "import random\n",
    "\n",
    "class PseudoRandomByteGenerator(object):\n",
    "    ''' class docstring '''\n",
    "\n",
    "    def __init__(self, seed=None, bit_generator=None, **kwargs):\n",
    "\n",
    "        self.poly = kwargs['poly']\n",
    "        self.seed = seed\n",
    "\n",
    "        \"\"\"\n",
    "        if self.seed == None: \n",
    "            self.seed = '0' * max(self.poly)\n",
    "        while len(self.seed) < max(self.poly): \n",
    "            self.seed = '0' + self.seed\n",
    "        \"\"\"\n",
    "        print(self.seed)\n",
    "\n",
    "        self.bit_generator = bit_generator\n",
    "        if self.bit_generator == None:\n",
    "            self.bits = []\n",
    "            self.lfsr_inst = LFSR(poly=kwargs['poly'], state=self.seed)#her er det noe feil. med 111 som seed blir lfsr_inst.s false,false,false...?\n",
    "            print(self.lfsr_inst.s)\n",
    "            print(self.lfsr_inst.p)\n",
    "        elif self.bit_generator == 'random':\n",
    "            random.seed(self.seed)\n",
    "            self.bits = 0\n",
    "\n",
    "    def __iter__(self):\n",
    "        return self\n",
    "\n",
    "    def bit_to_bytes(self, s):\n",
    "        return int(s, 2).to_bytes(len(s) // 8, byteorder='big')\n",
    "    \n",
    "    def __next__(self):\n",
    "        if self.bit_generator == None: \n",
    "            self.bits = self.lfsr_inst.run_steps(N=8)   #get a list of 8 bits represented as true and false\n",
    "            self.bits = ''.join(['1' if b==True else '0' for b in self.bits])   #convert the list of bits to a string of 0 and 1\n",
    "            byte = int(self.bits, 2)\n",
    "        elif self.bit_generator == 'random':\n",
    "            self.bits = random.getrandbits(8)\n",
    "            byte = self.bits\n",
    "        return byte"
   ]
  },
  {
   "cell_type": "code",
   "execution_count": 73,
   "metadata": {},
   "outputs": [
    {
     "output_type": "stream",
     "name": "stdout",
     "text": [
      "111\n[False, False, False]\n[True, False, True]\nb'\\x00\\x00\\x00\\x00\\x00\\x00\\x00\\x00\\x00\\x00'\n"
     ]
    }
   ],
   "source": [
    "prbg = PseudoRandomByteGenerator(seed='111', poly=[3, 1, 0]) # iterator\n",
    "digits = [byte for byte in islice(prbg, 10)]\n",
    "print(bytes(digits))"
   ]
  },
  {
   "cell_type": "code",
   "execution_count": 26,
   "metadata": {},
   "outputs": [
    {
     "output_type": "stream",
     "name": "stdout",
     "text": [
      "b'!u\\x13Tm\\xe28p\\xef\\xbd'\n"
     ]
    }
   ],
   "source": [
    "prbg = PseudoRandomByteGenerator(bit_generator='random') # iterator\n",
    "digits = [byte for byte in islice(prbg, 10)]\n",
    "print(bytes(digits)) # -> b'\\x00x\\xe7/\\xdd7\\xe1\\\\t\\xc5'"
   ]
  },
  {
   "source": [
    "### 2. Define an object implementing a Stream Cipher that, given a Pseudo Random Byte Generator and a key, can encrypt and decrypt a message. "
   ],
   "cell_type": "markdown",
   "metadata": {}
  },
  {
   "cell_type": "code",
   "execution_count": 27,
   "metadata": {},
   "outputs": [],
   "source": [
    "class StreamCipher(PseudoRandomByteGenerator):\n",
    "    ''' class docstring '''\n",
    "    def __init__(self, key, prng=None, **kwargs):\n",
    "        \n",
    "        super().__init__(seed=key, bit_generator=prng, **kwargs)\n",
    "    \n",
    "    def encrypt(self, plaintext):\n",
    "        N = len(plaintext)\n",
    "        digits = [byte for byte in islice(self.__iter__(), N)]\n",
    "        encrypted = [a ^ b for (a,b) in zip(bytes(digits), plaintext)]\n",
    "        ciphertext = bytes(encrypted)\n",
    "        return ciphertext\n",
    "    \n",
    "    def decrypt(self, ciphertext):\n",
    "        N = len(ciphertext)\n",
    "        digits = [byte for byte in islice(self.__iter__(), N)]\n",
    "        decrypted = [a ^ b for (a,b) in zip(bytes(digits), ciphertext)]\n",
    "        plaintext = bytes(encrypted)\n",
    "        return plaintext"
   ]
  },
  {
   "cell_type": "code",
   "execution_count": null,
   "metadata": {},
   "outputs": [],
   "source": [
    "message = 'hello world!'\n",
    "key = 0x0123456789ABCDEF\n",
    "alice = StreamCipher(key, poly=[7, 1, 0])\n",
    "plaintextA = message.encode('utf-8')\n",
    "ciphertext = alice.encrypt(plaintextA)\n",
    "bob = StreamCipher(key, poly[7, 1, 0])\n",
    "plaintextB = bob.encrypt(ciphertext)\n",
    "\n",
    "print(plaintextA) # -> b'hello world!'\n",
    "print(ciphertext) # -> b'\\x9f\\x03\\xbcf\\xfa\\xdb`\\xf6\\x17\\xce7\\x88'\n",
    "print(plaintextB) # -> b'hello world!'"
   ]
  },
  {
   "source": [
    "### 3. Define an iterator that implements the A5/1 architecture and use it as bit generator in a Stream Cipher"
   ],
   "cell_type": "markdown",
   "metadata": {}
  },
  {
   "source": [
    "### 4. Define an iterator that implements the RC4 architecture and use it in the Stream Cipher object to encrypt/decrypt a message"
   ],
   "cell_type": "markdown",
   "metadata": {}
  }
 ]
}