{
 "metadata": {
  "language_info": {
   "codemirror_mode": {
    "name": "ipython",
    "version": 3
   },
   "file_extension": ".py",
   "mimetype": "text/x-python",
   "name": "python",
   "nbconvert_exporter": "python",
   "pygments_lexer": "ipython3",
   "version": "3.8.5-final"
  },
  "orig_nbformat": 2,
  "kernelspec": {
   "name": "python3",
   "display_name": "Python 3.8.5 64-bit ('miniconda3': virtualenv)",
   "metadata": {
    "interpreter": {
     "hash": "b83a1b8810e509e0f22ffa336c1f93bbcb9495d33a31411ff1c6e3813f0d29d6"
    }
   }
  }
 },
 "nbformat": 4,
 "nbformat_minor": 2,
 "cells": [
  {
   "source": [
    "# Task 2 - LFSR"
   ],
   "cell_type": "markdown",
   "metadata": {}
  },
  {
   "source": [
    "### 1. Define a generator that implements an LFSR. Given a polynomial and an initial state, it generates an infinite stream of bits. "
   ],
   "cell_type": "markdown",
   "metadata": {}
  },
  {
   "cell_type": "code",
   "execution_count": 53,
   "metadata": {},
   "outputs": [
    {
     "output_type": "execute_result",
     "data": {
      "text/plain": [
       "[True, True, True, False, True, False, False, True, True, True]"
      ]
     },
     "metadata": {},
     "execution_count": 53
    }
   ],
   "source": [
    "from functools import reduce\n",
    "from operator import xor\n",
    "\n",
    "def lfsr_generator(poly, state=None):\n",
    "    ''' generator docstring'''\n",
    "\n",
    "    #check inputs\n",
    "\n",
    "    # define variables storing the internal state\n",
    "    if state == None: \n",
    "        s = [True for i in range(max(poly)+1)]\n",
    "    else: \n",
    "        s = []\n",
    "        for i in state: \n",
    "            if i==\"1\":\n",
    "                s.append(True)\n",
    "            else: \n",
    "                s.append(False)\n",
    "    #s.reverse\n",
    "    #print(\"Length of s:\" + len(s))\n",
    "\n",
    "    p = [False for i in range(max(poly)+1)]\n",
    "    for i in range(len(p)):\n",
    "        if i in poly:\n",
    "            p[i] = True\n",
    "    p.reverse()\n",
    "    p.pop()\n",
    "    #print(\"Length of p:\" + len(p))\n",
    "    #print(p)\n",
    "\n",
    "    b = []\n",
    "    while len(b) < 10: \n",
    "\n",
    "        b.append(s[0])\n",
    "        #print(\"b:\", b)\n",
    "        anded = []\n",
    "        for i in range(len(p)):\n",
    "            anded.append(s[i] and p[i])\n",
    "        fb = reduce(xor, anded)\n",
    "\n",
    "\n",
    "        s.pop(0)\n",
    "        s.append(fb)\n",
    "        #print(\"new s:\", s)\n",
    "\n",
    "    return b\n",
    "\n",
    "lfsr_generator([3,1,0], \"111\")"
   ]
  },
  {
   "source": [
    "### 2. Transform the LFSR generator in an iterator, so that it is possible to access to the internal state as an attribute of the class."
   ],
   "cell_type": "markdown",
   "metadata": {}
  },
  {
   "cell_type": "code",
   "execution_count": null,
   "metadata": {},
   "outputs": [],
   "source": [
    "classLFSR(object):''' class docstring '''\n",
    "\n",
    "    def __init__(self, poly, state=None):\n",
    "    ''' constructor docstring '''\n",
    "    #self.poly = poly \n",
    "    self.length = len(poly) \n",
    "    #self.state = ... \n",
    "    self.output = bool\n",
    "    self.feedback = bool\n",
    "\n",
    "    #p istedenfor poly\n",
    "    self.p = [False for i in range(max(poly)+1)]\n",
    "    for i in range(len(self.p)):\n",
    "        if i in poly:\n",
    "            self.p[i] = True\n",
    "    self.p.reverse()\n",
    "    self.p.pop()\n",
    "\n",
    "    #state\n",
    "    if state == None: \n",
    "        self.s = [True for i in range(max(poly)+1)]\n",
    "    else: \n",
    "        self.s = []\n",
    "        for i in state: \n",
    "            if i==\"1\":\n",
    "                self.s.append(True)\n",
    "            else: \n",
    "                self.s.append(False)\n",
    "\n",
    "    def __iter__(self): \n",
    "    return self\n",
    "\n",
    "    def __next__(self): \n",
    "        anded = []\n",
    "        for i in range(len(p)):\n",
    "            anded.append(s[i] and p[i])\n",
    "        fb = reduce(xor, anded)\n",
    "        self.output = s[0]\n",
    "        self.s.pop(0)\n",
    "        self.s.append(fb)\n",
    "    return self.output\n",
    "\n",
    "    def run_steps(self, N=1): \n",
    "        list_of_bool = []\n",
    "        for i in range(N):\n",
    "            list_of_bool.append(__next__)\n",
    "    return list_of_bool \n",
    "    \n",
    "    def cycle(self, state=None): \n",
    "        list_of_boo = []\n",
    "        run_steps(self, 5)\n",
    "        return list_of_boo\n",
    "\n"
   ]
  },
  {
   "source": [
    "### 3. Define a function that implements the Berlekamp-Massey algorithm which finds the shortest LFSR that can generate the input bit stream."
   ],
   "cell_type": "markdown",
   "metadata": {}
  },
  {
   "cell_type": "code",
   "execution_count": null,
   "metadata": {},
   "outputs": [],
   "source": [
    "defberlekamp_massey(b): \n",
    "''' function docstring '''\n",
    "# algorithm implementation\n",
    "return poly\n"
   ]
  },
  {
   "source": [
    "### 4. Transform the function implementing the Berlekamp-Massey algorithm into a class that can be applied in a streamingway."
   ],
   "cell_type": "markdown",
   "metadata": {}
  },
  {
   "cell_type": "code",
   "execution_count": null,
   "metadata": {},
   "outputs": [],
   "source": [
    "classBerlekampMassey():\n",
    "    \n",
    "    def__init__(self):\n",
    "    # do stuff\n",
    "    self.poly = ... \n",
    "    \n",
    "    def__call__(self, bit):\n",
    "    # do stuff\n",
    "    return self.poly"
   ]
  }
 ]
}