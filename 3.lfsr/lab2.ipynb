{
 "metadata": {
  "language_info": {
   "codemirror_mode": {
    "name": "ipython",
    "version": 3
   },
   "file_extension": ".py",
   "mimetype": "text/x-python",
   "name": "python",
   "nbconvert_exporter": "python",
   "pygments_lexer": "ipython3",
   "version": "3.8.5-final"
  },
  "orig_nbformat": 2,
  "kernelspec": {
   "name": "python3",
   "display_name": "Python 3.8.5 64-bit ('base': conda)",
   "metadata": {
    "interpreter": {
     "hash": "b83a1b8810e509e0f22ffa336c1f93bbcb9495d33a31411ff1c6e3813f0d29d6"
    }
   }
  }
 },
 "nbformat": 4,
 "nbformat_minor": 2,
 "cells": [
  {
   "source": [
    "# Task 2 - LFSR"
   ],
   "cell_type": "markdown",
   "metadata": {}
  },
  {
   "source": [
    "### 1. Define a generator that implements an LFSR. Given a polynomial and an initial state, it generates an infinite stream of bits. "
   ],
   "cell_type": "markdown",
   "metadata": {}
  },
  {
   "cell_type": "code",
   "execution_count": 59,
   "metadata": {},
   "outputs": [
    {
     "output_type": "stream",
     "name": "stdout",
     "text": [
      "11101001"
     ]
    }
   ],
   "source": [
    "from functools import reduce\n",
    "from operator import xor\n",
    "from itertools import islice\n",
    "\n",
    "def lfsr_generator(poly, state=None):\n",
    "\n",
    "    if state is None: \n",
    "        s = [True for i in range(max(poly)+1)]\n",
    "    else: \n",
    "        s = [i == '1' for i in state] #Gir True for i==1 ikkesant\n",
    "\n",
    "    p = [False for i in range(max(poly)+1)]\n",
    "    for i in range(len(p)):\n",
    "        if i in poly:\n",
    "            p[i] = True\n",
    "    p.reverse()\n",
    "    p.pop()\n",
    "\n",
    "    while True: \n",
    "\n",
    "        b = s[0]\n",
    "        anded = []\n",
    "        for i in range(len(p)):\n",
    "            anded.append(s[i] and p[i])\n",
    "        fb = reduce(xor, anded)\n",
    "\n",
    "        s.pop(0)\n",
    "        s.append(fb)\n",
    "        \n",
    "        yield b\n",
    "\n",
    "    #''.join([f'{bit:d}' for bit in b])\n",
    "\n",
    "lfsr = lfsr_generator([3,1,0], state=\"111\")\n",
    "for b in islice(lfsr, 8):\n",
    "    print(f'{b:d}', end='')"
   ]
  },
  {
   "source": [
    "### 1. ALternative solution"
   ],
   "cell_type": "markdown",
   "metadata": {}
  },
  {
   "cell_type": "code",
   "execution_count": 1,
   "metadata": {},
   "outputs": [],
   "source": [
    "def lfsr_generator(poly, state=None, verbose=False):\n",
    "\n",
    "    length = max(poly)  #LFSR length as the max degree of the polynomial\n",
    "    poly = [i in poly for i in range(length+1)]     #turn poly into a list of booleans\n",
    "\n",
    "    if state is None:   #default value for state is all ones (True)\n",
    "        state = [True for _ in range(length)]\n",
    "    else:   #convert integer into list of bool\n",
    "        state = [bool(int(s)) for s in (f'{state:0{length}}')[::-1]]\n",
    "\n",
    "    # === initial state ===\n",
    "    # compute output bit and feedback bit\n",
    "    output = state[0]\n",
    "    feedback = reduce(xor, compress(state[::-1], poly[1:]))\n",
    "    if verbose:     #print initial state\n",
    "        print('state    b   fb')\n",
    "        print_lfsr(state, output, feedback)\n",
    "\n",
    "    # === infinite loop ===\n",
    "    while True: \n",
    "        state = state[1:] + [feedback]\n",
    "        output = state[0]\n",
    "        feedback = reduce(xor, compress(state[::-1], poly[1:]))\n",
    "        if verbose: #print current state\n",
    "            print_lfsr(state, output, feedback)\n",
    "        \n",
    "        yield output #return current output\n",
    "\n",
    "poly = [3, 1, 0]\n",
    "state = 0x7\n",
    "lfsr = lfsr_generator(poly, state, verbose=True)\n"
   ]
  },
  {
   "source": [
    "### 2. Transform the LFSR generator in an iterator, so that it is possible to access to the internal state as an attribute of the class."
   ],
   "cell_type": "markdown",
   "metadata": {}
  },
  {
   "cell_type": "code",
   "execution_count": 25,
   "metadata": {},
   "outputs": [
    {
     "output_type": "stream",
     "name": "stdout",
     "text": [
      "[]\n"
     ]
    }
   ],
   "source": [
    "class LFSR(object):\n",
    "    ''' class docstring '''\n",
    "\n",
    "    def __init__(self, poly, state=None):\n",
    "        ''' constructor docstring '''\n",
    "\n",
    "        self.length = len(poly) \n",
    "        self.output = None\n",
    "        self.feedback = None\n",
    "\n",
    "        #self.poly = self.p\n",
    "        self.p = [False for i in range(max(poly)+1)]\n",
    "        for i in range(len(self.p)):\n",
    "            if i in poly:\n",
    "                self.p[i] = True\n",
    "        self.p.reverse()\n",
    "        self.p.pop()\n",
    "\n",
    "        #self.state = self.s\n",
    "        if state is None: \n",
    "            self.s = [True for i in range(max(poly)+1)]\n",
    "        else: \n",
    "            s = [i == '1' for i in state]\n",
    "    \n",
    "    def __iter__(self): \n",
    "        return self\n",
    "\n",
    "    def __next__(self): \n",
    "        anded = []\n",
    "        for i in range(len(self.p)):\n",
    "            anded.append(self.s[i] and self.p[i])\n",
    "        fb = reduce(xor, anded)\n",
    "        self.output = self.s[0]\n",
    "        self.s.pop(0)\n",
    "        self.s.append(fb)\n",
    "        return self.output\n",
    "\n",
    "    def run_steps(self, N=1): \n",
    "        list_of_bool = []\n",
    "        for i in range(N):\n",
    "            list_of_bool.append(self.__next__())\n",
    "        return list_of_bool \n",
    "    \n",
    "    def cycle(self, state=None): \n",
    "        N = 2^self.length-1\n",
    "        list_of_bool = self.run_steps(N)\n",
    "        return list_of_bool\n",
    "\n",
    "    def __str__(self):\n",
    "        return ''\n",
    "\n",
    "lfsr = LFSR([3, 1, 0])\n",
    "print(lfsr.cycle())\n"
   ]
  },
  {
   "source": [
    "### 3. Define a function that implements the Berlekamp-Massey algorithm which finds the shortest LFSR that can generate the input bit stream."
   ],
   "cell_type": "markdown",
   "metadata": {}
  },
  {
   "cell_type": "code",
   "execution_count": 10,
   "metadata": {},
   "outputs": [
    {
     "output_type": "stream",
     "name": "stdout",
     "text": [
      "=== Ny runde===\nt:  0\nj:  0\nanded:  [1]\nd:  1\n1st if condition\n2nd if condition\nOld P: [1]\nNew P:  [1, 1]\nj:  1\nanded:  [1, 1]\nd:  0\nj:  2\nanded:  [1, 1, 1]\nd:  1\n1st if condition\nNew P:  [[...], 0, 1, 1]\n[[...], 0, 1, 1]\n"
     ]
    }
   ],
   "source": [
    "from functools import reduce\n",
    "from operator import xor\n",
    "from itertools import islice, compress\n",
    "\n",
    "def berlekamp_massey(b): #DENNE ER IKKE RIKTIG!!!!!!\n",
    "\n",
    "    b = str(b)\n",
    "    N = len(b)\n",
    "    P = [1] #polynomial, output, list of bools\n",
    "    Q = 1 #polynomial used internally, list of bools\n",
    "    m = 0   #interger, degree of the polynomial P(x) \n",
    "    r = 1   #integer, how many bits so far, \"round number\"\n",
    "\n",
    "    for t in range(N-1):\n",
    "        print('=== Ny runde===')\n",
    "        print('t: ', t)\n",
    "        anded = []\n",
    "        \"\"\"\n",
    "        x_r = [0] * N\n",
    "        \"\"\"\n",
    "        for j in range(m+3): \n",
    "            print('j: ',j)\n",
    "            anded.append(P[j] and int(b[t-j]))\n",
    "            print('anded: ', anded)\n",
    "            d = reduce(xor, anded)\n",
    "            print('d: ', d)\n",
    "            if d == 1:\n",
    "                print('1st if condition')\n",
    "                if 2*m <= t: \n",
    "                    print('2nd if condition')\n",
    "                    R = P #save old P as R\n",
    "                    print('Old P:', P)\n",
    "                    P.insert(0, Q) #add next ledd Q to final polynomial P \n",
    "                    print('New P: ', P)\n",
    "                    \"\"\"\n",
    "                    x_r[N-r-1] = 1\n",
    "                    Qx_r = bin_to_int(Q) * bin_to_int(x_r)\n",
    "                    P_int = bin_to_int(P)\n",
    "                    P_int = np.bitwise_xor(P_int, Qx_r)\n",
    "                    P = int_to_bin(P_int, N)\n",
    "                    \"\"\"\n",
    "                    Q = R   #save Q as new old P\n",
    "                    m = t + 1 - m   \n",
    "                    r = 0\n",
    "\n",
    "                else:\n",
    "                    P.insert(0, Q)\n",
    "                    print('New P: ', P)\n",
    "                    \"\"\"\n",
    "                    x_r[N-r-1] = 1\n",
    "                    Qx_r = bin_to_int(Q) * bin_to_int(x_r)\n",
    "                    P_int = bin_to_int(P)\n",
    "                    P_int = np.bitwise_xor(P_int, Qx_r)\n",
    "\n",
    "                    P = int_to_bin(P_int, N)\n",
    "                    \"\"\"\n",
    "            else: \n",
    "                P.insert(0, 0)\n",
    "            r += 1\n",
    "        return P \n",
    "        \"\"\" \n",
    "        return P[::-1][:m+1]\n",
    "        \"\"\"\n",
    "\n",
    "print(berlekamp_massey(10100111))"
   ]
  },
  {
   "cell_type": "code",
   "execution_count": null,
   "metadata": {},
   "outputs": [],
   "source": [
    "def print_poly(polynomial): \n",
    "    if polynomial[0] == 1:\n",
    "        result = '1 + '\n",
    "    else: \n",
    "        result = ''\n",
    "    for idx,i in enumerate(polynomial[1:]):\n",
    "        if i == 1: \n",
    "            result += 'x^{}'.format(idx+1)\n",
    "            if idx != (len(polynomial)-2):\n",
    "                result += ' + '\n",
    "    return result"
   ]
  },
  {
   "cell_type": "code",
   "execution_count": 4,
   "metadata": {},
   "outputs": [
    {
     "output_type": "stream",
     "name": "stdout",
     "text": [
      "[0, 0, 0, 0, 0, 0, 0, 1]\n"
     ]
    }
   ],
   "source": [
    "from functools import reduce\n",
    "from operator import xor\n",
    "from itertools import islice, compress\n",
    "import numpy as np\n",
    "\n",
    "def berlekamp_massey(b): \n",
    "\n",
    "    N = len(b)\n",
    "    P = [0] * N \n",
    "    P[N-1] = 1\n",
    "    m = 0\n",
    "    Q = [0] * N\n",
    "    Q[N-1] = 1\n",
    "    r = 1\n",
    "\n",
    "    for t in range(N): \n",
    "        anded = []\n",
    "        x_r = [0] * N\n",
    "        for j in range(m+1):\n",
    "            P_inv = P[::-1]\n",
    "            anded.append(P_inv[j] and b[t-j])\n",
    "            d = reduce(xor, np.array(anded))\n",
    "        if d == 1: \n",
    "            if 2*m <= t: \n",
    "                R = P\n",
    "                x_r[N-r-1] = 1\n",
    "                Qx_r = bin_to_int(Q) * bin_to_int(x_r)\n",
    "                P_int = bin_to_int(P)\n",
    "                P_int = np.bitwise_xor(P_int, Qx_r)\n",
    "\n",
    "                P = int_to_bin(P_int, N)\n",
    "                Q = R\n",
    "                m = t + 1 - m\n",
    "                r = 0\n",
    "            else: \n",
    "                x_r[N-r-1] = 1\n",
    "                Qx_r = bin_to_int(Q) * bin_to_int(x_r)\n",
    "                P_int = bin_to_int(P)\n",
    "                P_int = np.bitwise_xor(P_int, Qx_r)\n",
    "\n",
    "                P = int_to_bin(P_int, N)\n",
    "        r = r+1\n",
    "    return P #[::-1][:m+1]\n",
    "\n",
    "print(berlekamp_massey('10100111'))"
   ]
  },
  {
   "source": [
    "### 4. Transform the function implementing the Berlekamp-Massey algorithm into a class that can be applied in a streamingway."
   ],
   "cell_type": "markdown",
   "metadata": {}
  },
  {
   "cell_type": "code",
   "execution_count": null,
   "metadata": {},
   "outputs": [],
   "source": [
    "class BerlekampMassey():\n",
    "\n",
    "    P(x) = \n",
    "    Q(x) = \n",
    "    m = \n",
    "    r = \n",
    "    \n",
    "    def __init__(self):\n",
    "    # do stuff\n",
    "    self.poly = ... \n",
    "    \n",
    "    def __call__(self, bit):\n",
    "    # do stuff\n",
    "    return self.poly"
   ]
  },
  {
   "source": [
    "### 4. Alternative solution"
   ],
   "cell_type": "markdown",
   "metadata": {}
  },
  {
   "cell_type": "code",
   "execution_count": null,
   "metadata": {},
   "outputs": [],
   "source": [
    "from functools import reduce\n",
    "from operator import xor\n",
    "from itertools import islice, compress\n",
    "import numpy as np\n",
    "\n",
    "class BerlekampMassey():\n",
    "    \n",
    "    def __init__(self):\n",
    "\n",
    "        self.P = [1]\n",
    "        self.m = 0\n",
    "        self.Q = [1]\n",
    "        self.r = 1\n",
    "        self.t = 0 \n",
    "        self.b = []\n",
    "        self.poly = 0\n",
    "    \n",
    "    def __call__(self, bit):\n",
    "        \n",
    "        self.append(b)\n",
    "        anded = []\n",
    "        for j in range(self.m+1):\n",
    "            P_inv = self.P[::-1]\n",
    "            anded.append(P_inv[j] and self.b[self.t-j])\n",
    "            d = reduce(xor, np.array(anded))\n",
    "        if d == 1: \n",
    "            if 2*self.m <= self.t: \n",
    "                self.R = self.P\n",
    "                x_r = [0] * (self.r+1)\n",
    "                x_r[len(x_r)-self.r-1] = 1\n",
    "                Qx_r = bin_to_int(self.Q) * bin_to_int(x_r)\n",
    "                P_int = bin_to_int(self.P)\n",
    "                P_int = np.bitwise_xor(P_int, Qx_r)\n",
    "\n",
    "                self.P = int_to_bin(P_int, len(self.b)+1)\n",
    "                self.Q = self.R\n",
    "                self.m = self.t + 1 - self.m\n",
    "                self.r = 0\n",
    "            else: \n",
    "                x_r = [0] * self.r\n",
    "                x_r[len(x_r)-self.r-1] = 1\n",
    "                Qx_r = bin_to_int(self.Q) * bin_to_int(x_r)\n",
    "                P_int = bin_to_int(self.P)\n",
    "                P_int = np.bitwise_xor(P_int, Qx_r)\n",
    "\n",
    "                P = int_to_bin(P_int, N)\n",
    "        \n",
    "        # vet ikke hva mer som skal stå her\n",
    "\n",
    "        return self.poly"
   ]
  }
 ]
}