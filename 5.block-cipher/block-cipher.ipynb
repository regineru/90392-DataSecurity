{
 "cells": [
  {
   "cell_type": "markdown",
   "metadata": {
    "Collapsed": "false"
   },
   "source": [
    "# Block Cipher"
   ]
  },
  {
   "cell_type": "markdown",
   "metadata": {
    "Collapsed": "false"
   },
   "source": [
    "Unlike Stream Ciphers that encrypt one bit at a time, Block Ciphers encrypt a **block of text**. For example, AES encrypts 128 bit blocks. \n",
    "\n",
    "Since a block cipher is suitable only for the encryption of a single block under a fixed key, a multitude of **modes of operation** have been designed to allow their repeated use in a secure way.\n",
    "\n",
    "Moreover, block ciphers may also feature as **building blocks** in other cryptographic protocols, such as universal hash functions and pseudo-random number generators.\n",
    "\n",
    "Most block cipher algorithms are obtained by iterating an invertible transformation. Each iteration is called **round** and the repeated transformation is known as **round function**.\n",
    "Usually, the round function takes different **round keys**, which are derived by expanding the original key.\n",
    "\n",
    "\n"
   ]
  },
  {
   "cell_type": "markdown",
   "metadata": {
    "Collapsed": "false"
   },
   "source": [
    "### Advanced Encryption Standard (AES)"
   ]
  },
  {
   "cell_type": "markdown",
   "metadata": {
    "Collapsed": "false"
   },
   "source": [
    "AES is a specification for the symmetric-key encryption established by the [NIST](https://www.nist.gov/) in 2001 and then adopted by the U.S. government.\n",
    "The standard comprises three block ciphers from a larger collection originally published as **Rijndael**. Each of these ciphers has a 128-bit block size, with key sizes of 128, 192 and 256 bits.\n",
    "\n",
    "Rijndael is designed to resist against all known attacks and to be fast and compact when implemented in most platforms. It is composed of a **key expansion** block and a **data path** that can be viewed as an iterated block cipher, where each iteration is called **round**. The number of rounds depends on the block (for AES fixed to 128bit) and key length.\n",
    "\n",
    "| key length | #rounds $N_r$ |\n",
    "|:----------:|:-------------:|\n",
    "|        128 |            10 |\n",
    "|        192 |            12 |\n",
    "|        256 |            14 |\n",
    "\n",
    "\n",
    "[1] *FIPS PUB 197, Advanced Encryption Standard (AES), National Institute of Standards and Technology, U.S. Department of Commerce, November 2001.*\n",
    "\n",
    "[2] *Joan Daemen and Vincent Rijmen, The Design of Rijndael, AES - The Advanced Encryption Standard, Springer-Verlag 2002 (238 pp.)*\n",
    "\n"
   ]
  },
  {
   "cell_type": "markdown",
   "metadata": {
    "Collapsed": "false"
   },
   "source": [
    "### Python Packages for Cryptography"
   ]
  },
  {
   "cell_type": "markdown",
   "metadata": {
    "Collapsed": "false"
   },
   "source": [
    "\n",
    "Here a short list of the most used libraries for Cryptography:\n",
    "- [**Pycryptodome**](https://github.com/Legrandin/pycryptodome): self contained Python package of low level cryptographic primitives. It is a fork of [PyCrypto](https://github.com/dlitz/pycrypto) that has been enhanced to add more implementations and fixes to the original library.\n",
    "- [**PyNaCl**](https://github.com/pyca/pynacl): Python binding to [libsodium](https://github.com/jedisct1/libsodium) , which is a fork of the [Networking and Cryptography library](https://nacl.cr.yp.to/). These libraries have a stated goal of improving usability, security and speed.\n",
    "- [**Cryptography**](https://github.com/pyca/cryptography): cryptography is a package which provides cryptographic recipes and primitives to Python developers. It includes both high level recipes and low level interfaces to common cryptographic algorithms such as symmetric ciphers, message digests, and key derivation functions."
   ]
  },
  {
   "cell_type": "markdown",
   "metadata": {
    "Collapsed": "false"
   },
   "source": [
    "#### Pycryptodome"
   ]
  },
  {
   "cell_type": "markdown",
   "metadata": {
    "Collapsed": "false"
   },
   "source": [
    "PyCryptodome is a self contained Python package of low level cryptographic primitives. It is organized in sub packages dedicated to solving a specific class of problems:\n",
    "\n",
    "- `Crypto.Cipher`: Modules for protecting confidentiality that is, for encrypting and decrypting data (example: AES).\n",
    "- `Crypto.Signature`: Modules for assuring authenticity , that is, for creating and verifying digital signatures of messages ( example: PKCS#1)\n",
    "- `Crypto.Hash`: Modules for creating cryptographic digests (example: SHA 256).\n",
    "- `Crypto.PublicKey`: Modules for generating, exporting or importing public keys (example: RSA or ECC)."
   ]
  },
  {
   "cell_type": "markdown",
   "metadata": {
    "Collapsed": "false"
   },
   "source": [
    "##### `Crypto.Cipher` subpackage"
   ]
  },
  {
   "cell_type": "markdown",
   "metadata": {
    "Collapsed": "false"
   },
   "source": [
    "The base API of a cipher is fairly simple:\n",
    "- You instantiate a cipher object by calling the `new()` function from the relevant cipher module. The first parameter is always the cryptographic key . You can (and sometimes must) pass additional cipher or mode specific parameters such as a nonce or a mode of operation.\n",
    "- For encrypting data, you call the `encrypt()` method of the cipher object with the plaintext. The method returns the piece of ciphertext. For most algorithms, you may call `encrypt()` multiple times (i.e. once for each piece of plaintext).\n",
    "- For decrypting data, you call the `decrypt()` method of the cipher object with the ciphertext. The method returns the piece of plaintext.\n"
   ]
  },
  {
   "cell_type": "code",
   "execution_count": 1,
   "metadata": {
    "Collapsed": "false"
   },
   "outputs": [
    {
     "name": "stdout",
     "output_type": "stream",
     "text": [
      "b'this is a secret'\n",
      "b'\\x8dk\\x84\\xcey*h\\xach\\x9b\\xd0[\\xb6pR\\x95'\n",
      "b'this is a secret'\n"
     ]
    }
   ],
   "source": [
    "from Cryptodome.Cipher import AES\n",
    "\n",
    "# Example of AES in Electronic Codebook\n",
    "key = b'0123456701234567'        # 128bit key\n",
    "aes = AES.new(key, AES.MODE_ECB) # AES instance\n",
    "\n",
    "# in ECB plaintext must have length equal to block-size (128bit)\n",
    "plaintextA = b'this is a secret' \n",
    "ciphertext = aes.encrypt(plaintextA) # encryption\n",
    "plaintextB = aes.decrypt(ciphertext) # decryption\n",
    "\n",
    "print(plaintextA) # b'this is a secret'\n",
    "print(ciphertext) # b'\\x8dk\\x84\\xcey*h\\xach\\x9b\\xd0[\\xb6pR\\x95'\n",
    "print(plaintextB) # b'this is a secret'"
   ]
  },
  {
   "cell_type": "markdown",
   "metadata": {
    "Collapsed": "false"
   },
   "source": [
    "## MonteCarlo Simulations (MCS)"
   ]
  },
  {
   "cell_type": "markdown",
   "metadata": {
    "Collapsed": "false"
   },
   "source": [
    "A Monte Carlo simulation is a statistical technique that allows for the modelling of complex situations where many random variables are involved. It uses the process of repeated random sampling to model stochastic systems and determine the odds for a variety of outcomes.\n",
    "\n",
    "The idea comes from the Law of Large Numbers that states: \n",
    "> *the average of the results obtained from a large number of trials should be close to the expected value and will tend to become closer to the expected value as more trials are performed.*\n",
    "\n",
    "Roughly speaking, If you do not know some parameters of your sistem, you can make several trials and then take the average."
   ]
  },
  {
   "cell_type": "markdown",
   "metadata": {
    "Collapsed": "false"
   },
   "source": [
    "### Estimating $\\pi$ with MCS"
   ]
  },
  {
   "cell_type": "markdown",
   "metadata": {
    "Collapsed": "false"
   },
   "source": [
    "A classical example is the estimation of $\\pi$.\n",
    "We know that $\\pi r^2$ corresponds to the area of a circle with radius $r$, so we can estimate the value of $\\pi$ as four times the ratio between the area of a square and the inscribed circle.\n",
    "\n",
    "$$ \\frac{A_{\\circ}}{A_{\\Box}} = \\frac{\\pi r^2}{(2r)^2} = \\frac{\\pi}{4} \\quad \\Rightarrow \\quad \\pi = 4 \\frac{A_{\\circ}}{A_{\\Box}} $$\n",
    "\n",
    "The ratio between the two areas can be estimate by drawing $N$ coordinates $(x,y)$ as instances of uniform random variables $x,y \\in U(0,1)$ and count how many fall into the circle with respect to the total."
   ]
  },
  {
   "cell_type": "code",
   "execution_count": 2,
   "metadata": {
    "Collapsed": "false"
   },
   "outputs": [],
   "source": [
    "%matplotlib widget\n",
    "import matplotlib.pyplot as plt\n",
    "import numpy as np\n",
    "from scipy import random\n",
    "from scipy import stats"
   ]
  },
  {
   "cell_type": "code",
   "execution_count": 3,
   "metadata": {
    "Collapsed": "false"
   },
   "outputs": [
    {
     "name": "stdout",
     "output_type": "stream",
     "text": [
      "estimate value of pi after 1000 trials: 3.208\n"
     ]
    }
   ],
   "source": [
    "random.seed(2) # set a seed for repeatablity\n",
    "\n",
    "N = 1000 # number of MonteCarlo trials\n",
    "\n",
    "# generate N pairs of random coordinates uniformely \n",
    "# distributed in the square [0,1]x[0,1]\n",
    "x, y = random.rand(2, N)\n",
    "\n",
    "# compute the distance from the origin for each pair of coordinates\n",
    "r = np.sqrt(x**2 + y**2)\n",
    "\n",
    "# count how many points lay inside the unit circle\n",
    "inside = sum(r <= 1)\n",
    "\n",
    "# estimate pi\n",
    "pi = 4*inside/N\n",
    "\n",
    "print('estimate value of pi after {} trials: {}'.format(N, pi))"
   ]
  },
  {
   "cell_type": "code",
   "execution_count": 4,
   "metadata": {
    "Collapsed": "false"
   },
   "outputs": [
    {
     "data": {
      "application/vnd.jupyter.widget-view+json": {
       "model_id": "e6fbab5d7c7a46bb9d3e2e6425145f18",
       "version_major": 2,
       "version_minor": 0
      },
      "text/plain": [
       "Canvas(toolbar=Toolbar(toolitems=[('Home', 'Reset original view', 'home', 'home'), ('Back', 'Back to previous …"
      ]
     },
     "metadata": {},
     "output_type": "display_data"
    }
   ],
   "source": [
    "# create a figure\n",
    "fig, ax = plt.subplots(figsize=(4,4))\n",
    "\n",
    "# scatter plot of the generated coordinates with different colors for\n",
    "# the points that lay inside and outside the unit circle\n",
    "ax.scatter(x, y, s=16, c=(r > 1), alpha=0.8, cmap='Paired')\n",
    "\n",
    "# plot of the unit circle circonference\n",
    "theta = np.linspace(0, np.pi/2, 100)\n",
    "ax.plot(np.cos(theta), np.sin(theta), '--k')\n",
    "\n",
    "# make the plot prettier\n",
    "ax.set(xlabel='$x$', ylabel='$y$', aspect='equal', xlim=(0, 1), ylim=(0, 1))\n",
    "ax.text(0.05, 0.1, 'N = {}, $ \\hat{{\\pi}} $ = {}'.format(N, pi))\n",
    "fig.tight_layout()\n",
    "# plt.savefig('pi_N={}.png'.format(N)) # save figure as .png"
   ]
  },
  {
   "cell_type": "markdown",
   "metadata": {
    "Collapsed": "false"
   },
   "source": [
    "plot the same figure for three different values of N."
   ]
  },
  {
   "cell_type": "code",
   "execution_count": 5,
   "metadata": {
    "Collapsed": "false"
   },
   "outputs": [
    {
     "data": {
      "application/vnd.jupyter.widget-view+json": {
       "model_id": "57005385c7294cbaa5841d39f74717bc",
       "version_major": 2,
       "version_minor": 0
      },
      "text/plain": [
       "Canvas(toolbar=Toolbar(toolitems=[('Home', 'Reset original view', 'home', 'home'), ('Back', 'Back to previous …"
      ]
     },
     "metadata": {},
     "output_type": "display_data"
    }
   ],
   "source": [
    "Ns = 100, 1000, 10000\n",
    "\n",
    "# create a figure with subplots\n",
    "fig, axs = plt.subplots(len(Ns), 1, figsize=(4, 3*len(Ns)))\n",
    "\n",
    "# x and y coordinates of the unit circle circonference\n",
    "theta = np.linspace(0, np.pi/2, 100)\n",
    "circx, circy = np.cos(theta), np.sin(theta)\n",
    "\n",
    "# a scatter plot for each value of Ns\n",
    "x, y = random.rand(2, max(Ns))\n",
    "r = np.sqrt(x**2 + y**2)\n",
    "for ax, n in zip(axs, Ns):\n",
    "    ax.scatter(x[:n], y[:n], s=16, c=(r[:n] > 1), alpha=0.8, cmap='Paired')\n",
    "    ax.plot(circx, circy, '--k')\n",
    "    ax.set(xlabel='$x$', ylabel='$y$', aspect='equal')\n",
    "    ax.set(xlim=(0, 1), ylim=(0, 1))\n",
    "    pin = 4*sum(r[:n] <= 1)/n\n",
    "    ax.text(0.05, 0.1, 'N = {}, $ \\hat{{\\pi}} $ = {}'.format(n, pin))\n",
    "\n",
    "fig.tight_layout() # automatically adjust spaces between axes and borders"
   ]
  },
  {
   "cell_type": "markdown",
   "metadata": {
    "Collapsed": "false"
   },
   "source": [
    "### MCS convergence"
   ]
  },
  {
   "cell_type": "markdown",
   "metadata": {
    "Collapsed": "false"
   },
   "source": [
    "As first attempt, we can observe how estimation error depends on the number of trials $N$. We can define the estimation error as the absolute value of the difference between the estimate and the actual value of $\\pi$\n",
    "$$ \\text{err} = |\\hat{\\pi} - \\pi| $$"
   ]
  },
  {
   "cell_type": "code",
   "execution_count": 6,
   "metadata": {},
   "outputs": [],
   "source": [
    "def is_inside(x, y):\n",
    "    ''' determine whether the point with coordinates (x, y) is inside the unit\n",
    "    circle (True) or not (False) '''\n",
    "    r = np.sqrt(x**2 + y**2)\n",
    "    return r <= 1"
   ]
  },
  {
   "cell_type": "code",
   "execution_count": 7,
   "metadata": {},
   "outputs": [],
   "source": [
    "N = 100000\n",
    "x, y = random.rand(2, N) # generate samples\n",
    "\n",
    "# compute estimate of pi for each new sample\n",
    "# pi = np.zeros(N)\n",
    "# for n, (_x, _y) in enumerate(x, y):\n",
    "#     count += is_inside(_x, _y)\n",
    "#     pi[i] = 4*count/n\n",
    "pi = 4*np.cumsum(is_inside(x, y))/(1+np.arange(N)) "
   ]
  },
  {
   "cell_type": "code",
   "execution_count": 8,
   "metadata": {
    "Collapsed": "false"
   },
   "outputs": [],
   "source": [
    "err = abs(pi - np.pi)"
   ]
  },
  {
   "cell_type": "code",
   "execution_count": 9,
   "metadata": {
    "Collapsed": "false"
   },
   "outputs": [
    {
     "data": {
      "application/vnd.jupyter.widget-view+json": {
       "model_id": "4810b9c89040432a81076f0831a5d326",
       "version_major": 2,
       "version_minor": 0
      },
      "text/plain": [
       "Canvas(toolbar=Toolbar(toolitems=[('Home', 'Reset original view', 'home', 'home'), ('Back', 'Back to previous …"
      ]
     },
     "metadata": {},
     "output_type": "display_data"
    }
   ],
   "source": [
    "fig, (ax1, ax2) = plt.subplots(2, 1, figsize=(5,3), sharex=True)\n",
    "\n",
    "n = 1+np.arange(N)\n",
    "\n",
    "ax1.axhline(np.pi, ls='--', c='k', label='$\\pi$')\n",
    "ax1.plot(n, pi, label='$\\hat{\\pi}$')\n",
    "ax1.fill_between(n,  np.pi*(1 + 1/np.sqrt(n)),  np.pi*(1 - 1/np.sqrt(n)), color='C1', alpha=0.2)\n",
    "ax1.set(ylabel='$\\hat{\\pi}$')\n",
    "\n",
    "ax2.plot(n, err, label='$|\\hat{\\pi} - \\pi|$')\n",
    "ax2.plot(n, 1/np.sqrt(n), label='$1/\\sqrt{N}$')\n",
    "ax2.set(yscale='log')\n",
    "ax2.set(xlabel='N', ylabel='$|\\hat{\\pi} - \\pi|$')\n",
    "\n",
    "for ax in (ax1, ax2):\n",
    "    ax.set(xscale='log')\n",
    "    ax.legend()\n",
    "    ax.grid(True)\n",
    "fig.tight_layout(h_pad=0)"
   ]
  },
  {
   "cell_type": "markdown",
   "metadata": {
    "Collapsed": "false"
   },
   "source": [
    "From the plots above, it is evident that, as expected, the more trials are computed the more accurate is the estimate. We can also notice that the convergence goes as $1/\\sqrt{N}$. Thus, there is a law that rules the trade-off between accuracy and number of trials."
   ]
  },
  {
   "cell_type": "markdown",
   "metadata": {
    "Collapsed": "false"
   },
   "source": [
    "## Diffusion and Confusion in AES"
   ]
  },
  {
   "cell_type": "markdown",
   "metadata": {
    "Collapsed": "false"
   },
   "source": [
    "### Diffusion"
   ]
  },
  {
   "cell_type": "markdown",
   "metadata": {
    "Collapsed": "false"
   },
   "source": [
    "- **Diffusion**: *if we change a single bit of the plaintext, then (statistically) half of the bits in the ciphertext should change.*\n",
    "\n",
    "We want to test qualitatively if AES provides diffusion. \n",
    "To do so, we can randomly draw a plaintext and a key, change a bit in the plaintext and then observe how this change affects the ciphertext.\n",
    "\n",
    "We can define $\\text{d}(y,y')$ the distance between $y$ and $y'$ as the number of bit $y'$ differs from $y$. This distance is the quantity we want to estimate by means of Monte Carlo simulation and more than its average we are interested in its **distribution**.\n",
    "\n",
    "We do not expect to find that $\\text{d}(y,y')$ is always $n/2$ (where $n$ is the number of bits in the ciphertext) but we expect to find a distribution that is concentrated around $n/2$."
   ]
  },
  {
   "cell_type": "markdown",
   "metadata": {
    "Collapsed": "false"
   },
   "source": [
    "#### single MonteCarlo Trial"
   ]
  },
  {
   "cell_type": "markdown",
   "metadata": {
    "Collapsed": "false"
   },
   "source": [
    "Firstly, we set up the code for a single simulation and we leave for a second moment the repeatition the trial for many times."
   ]
  },
  {
   "cell_type": "code",
   "execution_count": 10,
   "metadata": {
    "Collapsed": "false"
   },
   "outputs": [],
   "source": [
    "# here we define two function that will be helpful for the execution of the MCS\n",
    "\n",
    "def flip_bit(text, ibit):\n",
    "    ''' return `text` (bytes) with the bit at position `ibit` (int) flipped '''\n",
    "    # copy text in a bytesarray to allow changes\n",
    "    flipped_text = bytearray(text) \n",
    "    # flip the bit by xoring it with a 1\n",
    "    flipped_text[ibit//8] ^= 1 << (ibit%8) \n",
    "    # turn text back into bytes\n",
    "    return bytes(flipped_text)\n",
    "\n",
    "def text_distance(textA, textB):\n",
    "    ''' return the distance between `textA` (bytes) and `textB` (bytes) \n",
    "    defined as the number of bits they differ from each other '''\n",
    "    \n",
    "    # by xoring textA and textB, I get a bytes string where bits equal to 0\n",
    "    # correspond to bits that have the same value in textA and textB, while\n",
    "    # bits equal to 1 correspond to bits that are different.\n",
    "    \n",
    "    # xor textA and textB one byte at a time\n",
    "    AxorB = bytes(a ^ b for (a, b) in zip(textA, textB))\n",
    "    # counting 1s in AxorB\n",
    "    distance = sum([bin(byte).count('1') for byte in AxorB])\n",
    "    \n",
    "    return distance"
   ]
  },
  {
   "cell_type": "code",
   "execution_count": 11,
   "metadata": {
    "Collapsed": "false"
   },
   "outputs": [
    {
     "name": "stdout",
     "output_type": "stream",
     "text": [
      "original plaintext: b'\\x00\\x01\\x02\\x03\\x04\\x05\\x06\\x07\\x08\\t\\n\\x0b\\x0c\\r\\x0e\\x0f'\n",
      " flipped plaintext: b'\\x00\\x05\\x02\\x03\\x04\\x05\\x06\\x07\\x08\\t\\n\\x0b\\x0c\\r\\x0e\\x0f'\n",
      "distance between plaintexts: 1\n",
      "original ciphertext: b'\\xa5a\"\\xb57\\xc2\\xc53zw\\xd3\\x85\\xea\\x15\\xc7\\xa5'\n",
      " flipped ciphertext: b'\\x0f\\xa3\\xeeCV G\\xcd\\n\\xe6I\\x92\\x9e\\xef9\\x07'\n",
      "distance between ciphertexts: 67\n"
     ]
    }
   ],
   "source": [
    "# set a key and initiate AES cipher\n",
    "key = b'0123456789ABCDEF'\n",
    "aes = AES.new(key, AES.MODE_ECB)\n",
    "\n",
    "# set a plaintext and flip one of its bit\n",
    "x = b'\\x00\\x01\\x02\\x03\\x04\\x05\\x06\\x07\\x08\\x09\\x0A\\x0B\\x0C\\x0D\\x0E\\x0F'\n",
    "x1 = flip_bit(x, 10)\n",
    "plain_dist = text_distance(x, x1)\n",
    "\n",
    "print('original plaintext:', x)\n",
    "print(' flipped plaintext:', x1)\n",
    "print('distance between plaintexts:', plain_dist)\n",
    "\n",
    "# encrypt both plaintexts and measure their distance\n",
    "y = aes.encrypt(x)\n",
    "y1 = aes.encrypt(x1)\n",
    "cipher_dist = text_distance(y, y1)\n",
    "print('original ciphertext:', y)\n",
    "print(' flipped ciphertext:', y1)\n",
    "print('distance between ciphertexts:', cipher_dist)"
   ]
  },
  {
   "cell_type": "markdown",
   "metadata": {
    "Collapsed": "false"
   },
   "source": [
    "#### MonteCarlo simulation (fixed key length)"
   ]
  },
  {
   "cell_type": "markdown",
   "metadata": {
    "Collapsed": "false"
   },
   "source": [
    "Once the code for a single trial is ready, we can repeat it for $N$ times.\n",
    "Here we consider the case for a single key length."
   ]
  },
  {
   "cell_type": "code",
   "execution_count": 12,
   "metadata": {
    "Collapsed": "false"
   },
   "outputs": [],
   "source": [
    "def mcs_diffusion(key_length):\n",
    "    ''' perform a single trial of a MonteCarlo simulation that measure the \n",
    "    distance between two ciphertexts obtained by encrypting two plaintexts \n",
    "    that differ by only one bit by means of AES with a fixed key. \n",
    "    The key has length `key_length` bytes (int, (16, 24, 32)) '''\n",
    "    \n",
    "    # check key_length is allowed\n",
    "    assert key_length in AES.key_size\n",
    "    \n",
    "    # randomly generate a key and initiate AES cipher\n",
    "    key = bytes(random.randint(256, size=(key_length,), dtype='uint8'))\n",
    "    aes = AES.new(key, AES.MODE_ECB)\n",
    "    \n",
    "    # randomly generate a plaintext and flip a bit in a random position\n",
    "    x = bytes(random.randint(256, size=(AES.block_size,), dtype='uint8'))\n",
    "    x1 = flip_bit(x, random.randint(8*AES.block_size))\n",
    "    \n",
    "    # encrypt both plaintexts and measure their distance\n",
    "    y = aes.encrypt(x)\n",
    "    y1 = aes.encrypt(x1)\n",
    "    distance = text_distance(y, y1)\n",
    "    \n",
    "    return distance"
   ]
  },
  {
   "cell_type": "code",
   "execution_count": 13,
   "metadata": {
    "Collapsed": "false"
   },
   "outputs": [
    {
     "name": "stdout",
     "output_type": "stream",
     "text": [
      "average: 63.9713\n",
      "min, max: 39, 86\n"
     ]
    }
   ],
   "source": [
    "N = 10000 # number of MonteCarlo trials\n",
    "key_length = 16 # key length in bytes (16, 24, 32)\n",
    "\n",
    "results = np.zeros((N,), dtype=int)\n",
    "for i in range(N):\n",
    "    results[i] = mcs_diffusion(key_length)\n",
    "    \n",
    "print('average: {}'.format(np.mean(results)))\n",
    "print('min, max: {}, {}'.format(min(results), max(results)))"
   ]
  },
  {
   "cell_type": "code",
   "execution_count": 14,
   "metadata": {
    "Collapsed": "false"
   },
   "outputs": [
    {
     "data": {
      "application/vnd.jupyter.widget-view+json": {
       "model_id": "a929dd7703874f6cb72d08ba4e72a2c5",
       "version_major": 2,
       "version_minor": 0
      },
      "text/plain": [
       "Canvas(toolbar=Toolbar(toolitems=[('Home', 'Reset original view', 'home', 'home'), ('Back', 'Back to previous …"
      ]
     },
     "metadata": {},
     "output_type": "display_data"
    }
   ],
   "source": [
    "fig, ax = plt.subplots(figsize=(5,3))\n",
    "ax.hist(results, bins=np.arange(1+8*AES.block_size), density=True)[0]\n",
    "ax.set(xticks=8*np.arange(AES.block_size+1, step=2))\n",
    "ax.set(title='distance distribution', xlabel='distance', ylabel='prob.density')\n",
    "ax.grid(True)\n",
    "fig.tight_layout()"
   ]
  },
  {
   "cell_type": "markdown",
   "metadata": {
    "Collapsed": "false"
   },
   "source": [
    "As we expected, we find that $\\text{d}(y,y')$ has a distribution concentrated in $N/2=64$."
   ]
  },
  {
   "cell_type": "markdown",
   "metadata": {
    "Collapsed": "false"
   },
   "source": [
    "#### Convergence"
   ]
  },
  {
   "cell_type": "markdown",
   "metadata": {
    "Collapsed": "false"
   },
   "source": [
    "We can characterize our distribution by considering its mean and standard deviation (stdev). So we will consider these two quantities to observe the convergence."
   ]
  },
  {
   "cell_type": "code",
   "execution_count": 15,
   "metadata": {
    "Collapsed": "false"
   },
   "outputs": [],
   "source": [
    "mean = np.array([np.mean(results[:1+i]) for i in range(N)])\n",
    "stdev = np.array([np.std(results[:1+i]) for i in range(N)])"
   ]
  },
  {
   "cell_type": "code",
   "execution_count": 16,
   "metadata": {
    "Collapsed": "false"
   },
   "outputs": [
    {
     "data": {
      "application/vnd.jupyter.widget-view+json": {
       "model_id": "020f27e6e113478f920f73cdeb39e303",
       "version_major": 2,
       "version_minor": 0
      },
      "text/plain": [
       "Canvas(toolbar=Toolbar(toolitems=[('Home', 'Reset original view', 'home', 'home'), ('Back', 'Back to previous …"
      ]
     },
     "metadata": {},
     "output_type": "display_data"
    }
   ],
   "source": [
    "fig, (ax1, ax2) = plt.subplots(2, 1, figsize=(5,3), sharex=True)\n",
    "ax1.plot(1+np.arange(N), mean)\n",
    "ax1.axhline(64, ls='--', c='k')\n",
    "ax2.plot(1+np.arange(N), stdev)\n",
    "\n",
    "ax1.set(title=\"mean and stdev of d($y$, $y$')\", ylabel='mean')\n",
    "ax2.set(xlabel='N', ylabel='stdev')\n",
    "for ax in (ax1, ax2):\n",
    "    ax.set(xscale='log')\n",
    "    ax.grid(True)\n",
    "fig.tight_layout(h_pad=0)"
   ]
  },
  {
   "cell_type": "markdown",
   "metadata": {
    "Collapsed": "false"
   },
   "source": [
    "As we expected the mean approaches to $N/2$ as the number of trials increases. On the contrary, we did not have any idea about the stdev and now it is evident that its estimate tend to a value slightly below 6."
   ]
  },
  {
   "cell_type": "markdown",
   "metadata": {
    "Collapsed": "false"
   },
   "source": [
    "#### MCS for multiple key length"
   ]
  },
  {
   "cell_type": "markdown",
   "metadata": {
    "Collapsed": "false"
   },
   "source": [
    "Now we extend the analysis by considering all three values of key length allowed by the AES block cipher."
   ]
  },
  {
   "cell_type": "code",
   "execution_count": 17,
   "metadata": {
    "Collapsed": "false"
   },
   "outputs": [],
   "source": [
    "N = 10000 # number of MonteCarlo trials"
   ]
  },
  {
   "cell_type": "code",
   "execution_count": 18,
   "metadata": {
    "Collapsed": "false"
   },
   "outputs": [
    {
     "data": {
      "text/plain": [
       "{16: array([65, 73, 61, ..., 67, 65, 73]),\n",
       " 24: array([65, 67, 63, ..., 74, 69, 75]),\n",
       " 32: array([66, 59, 60, ..., 58, 61, 65])}"
      ]
     },
     "metadata": {},
     "output_type": "display_data"
    }
   ],
   "source": [
    "# building a dict where key lengths are the keys and the correspondant\n",
    "# results are the values.\n",
    "results = dict(\n",
    "    (key_length, np.array([mcs_diffusion(key_length) for _ in range(N)]))\n",
    "    for key_length in AES.key_size\n",
    ")\n",
    "\n",
    "display(results)"
   ]
  },
  {
   "cell_type": "code",
   "execution_count": 19,
   "metadata": {
    "Collapsed": "false"
   },
   "outputs": [
    {
     "name": "stdout",
     "output_type": "stream",
     "text": [
      " key length |  mean |   std | min | max \n",
      "------------|-------|-------|-----|-----\n",
      "        128 | 64.02 |  5.67 |  42 |  85\n",
      "        192 | 63.98 |  5.63 |  43 |  87\n",
      "        256 | 63.88 |  5.62 |  42 |  84\n"
     ]
    }
   ],
   "source": [
    "# print summary table\n",
    "print(' key length |  mean |   std | min | max ')\n",
    "print('------------|-------|-------|-----|-----')\n",
    "for key_length, dist in results.items():\n",
    "    print(' | '.join([\n",
    "        f'{8*key_length:11d}', \n",
    "        f'{np.mean(dist):5.2f}', f'{np.std(dist):5.2f}', \n",
    "        f'{min(dist):3d}', f'{max(dist):3d}'])\n",
    "    )"
   ]
  },
  {
   "cell_type": "code",
   "execution_count": 20,
   "metadata": {
    "Collapsed": "false"
   },
   "outputs": [
    {
     "data": {
      "application/vnd.jupyter.widget-view+json": {
       "model_id": "5be3b887648c422285f77f95adb98103",
       "version_major": 2,
       "version_minor": 0
      },
      "text/plain": [
       "Canvas(toolbar=Toolbar(toolitems=[('Home', 'Reset original view', 'home', 'home'), ('Back', 'Back to previous …"
      ]
     },
     "metadata": {},
     "output_type": "display_data"
    }
   ],
   "source": [
    "nax = len(AES.key_size)\n",
    "fig, axs = plt.subplots(nax, 1, figsize=(5, 2*nax), sharex=True, sharey=True)\n",
    "for ax, (key_length, dist) in zip(axs, results.items()):\n",
    "    \n",
    "    bins = np.arange(1 + 8*AES.block_size) - 0.5\n",
    "    ax.hist(dist, bins=bins, density=True, label='hist')[0]\n",
    "    \n",
    "    xgauss = np.arange(1 + 8*AES.block_size)\n",
    "    gauss = stats.norm(loc=np.mean(dist), scale=np.std(dist)).pdf(xgauss)\n",
    "    ax.plot(xgauss, gauss, alpha=0.7, label='gaussian fit')\n",
    "    \n",
    "    ax.set(\n",
    "        xticks=8*np.arange(AES.block_size+1, step=4),\n",
    "        ylabel='prob. density',\n",
    "    )\n",
    "    ax.text(0.1, 0.8, f'{8*key_length}bit key', transform=ax.transAxes)\n",
    "    ax.legend(loc='upper right')\n",
    "    ax.grid(True)\n",
    "\n",
    "axs[-1].set(xlabel='distance')\n",
    "fig.tight_layout(w_pad=0)"
   ]
  },
  {
   "cell_type": "markdown",
   "metadata": {
    "Collapsed": "false"
   },
   "source": [
    "### Confusion"
   ]
  },
  {
   "cell_type": "markdown",
   "metadata": {
    "Collapsed": "false"
   },
   "source": [
    "- **Confusion**: *the relationship between the key and the ciphertext must be very complicated and impossible (hard) to invert.*\n",
    "\n",
    "At bit level, it means that each bit of the ciphertext depends on several parts of the key. As a result, if a single bit is changed in the key, many bits in the ciphertext change.\n",
    "\n",
    "Again, we want to assess qualitatively confusion of AES qualitatively."
   ]
  },
  {
   "cell_type": "code",
   "execution_count": 21,
   "metadata": {
    "Collapsed": "false"
   },
   "outputs": [],
   "source": [
    "def mcs_confusion(key_length):\n",
    "    ''' perform a single trial of a MonteCarlo simulation that measure the \n",
    "    distance between two ciphertexts obtained by encrypting with AES the same \n",
    "    plaintext with two keys that differ by only one bit. \n",
    "    The key has length `key_length` bytes (int, (16, 24, 32)) '''\n",
    "    \n",
    "    # check key_length is allowed\n",
    "    assert key_length in AES.key_size\n",
    "    \n",
    "    # randomly generate a plaintext\n",
    "    x = bytes(random.randint(256, size=(AES.block_size,), dtype='uint8'))\n",
    "    \n",
    "    # randomly generate a key and initiate AES cipher\n",
    "    key = bytes(random.randint(256, size=(key_length,), dtype='uint8'))\n",
    "    aes = AES.new(key, AES.MODE_ECB)\n",
    "    # generate a second key by flipping one bit of the previous key\n",
    "    # and initiate a new AES cipher\n",
    "    key1 = flip_bit(text, random.randint(8*key_length))\n",
    "    aes1 = AES.new(key1, AES.MODE_ECB)\n",
    "    \n",
    "    # encrypt both plaintexts and measure their distance\n",
    "    y = aes.encrypt(x)\n",
    "    y1 = aes1.encrypt(x1)\n",
    "    distance = text_distance(y, y1)\n",
    "    \n",
    "    return distance"
   ]
  },
  {
   "cell_type": "code",
   "execution_count": 22,
   "metadata": {
    "Collapsed": "false"
   },
   "outputs": [],
   "source": [
    "N = 10000 # number of MonteCarlo trials"
   ]
  },
  {
   "cell_type": "code",
   "execution_count": 23,
   "metadata": {
    "Collapsed": "false"
   },
   "outputs": [
    {
     "data": {
      "text/plain": [
       "{16: array([66, 71, 67, ..., 61, 65, 54]),\n",
       " 24: array([63, 69, 55, ..., 75, 69, 56]),\n",
       " 32: array([64, 65, 64, ..., 63, 61, 70])}"
      ]
     },
     "metadata": {},
     "output_type": "display_data"
    }
   ],
   "source": [
    "results = dict(\n",
    "    (key_length, np.array([mcs_diffusion(key_length) for _ in range(N)]))\n",
    "    for key_length in AES.key_size\n",
    ")\n",
    "\n",
    "display(results)"
   ]
  },
  {
   "cell_type": "code",
   "execution_count": 24,
   "metadata": {
    "Collapsed": "false"
   },
   "outputs": [
    {
     "name": "stdout",
     "output_type": "stream",
     "text": [
      " key length |  mean |   std | min | max \n",
      "------------|-------|-------|-----|-----\n",
      "        128 | 64.00 |  5.64 |  44 |  85\n",
      "        192 | 63.94 |  5.61 |  40 |  85\n",
      "        256 | 63.97 |  5.64 |  44 |  86\n"
     ]
    }
   ],
   "source": [
    "# print summary table\n",
    "print(' key length |  mean |   std | min | max ')\n",
    "print('------------|-------|-------|-----|-----')\n",
    "for key_length, dist in results.items():\n",
    "    print(' | '.join([\n",
    "        f'{8*key_length:11d}', \n",
    "        f'{np.mean(dist):5.2f}', f'{np.std(dist):5.2f}', \n",
    "        f'{min(dist):3d}', f'{max(dist):3d}'])\n",
    "    )"
   ]
  },
  {
   "cell_type": "code",
   "execution_count": 25,
   "metadata": {
    "Collapsed": "false"
   },
   "outputs": [
    {
     "data": {
      "application/vnd.jupyter.widget-view+json": {
       "model_id": "e6349f72752e4dfabaed28f0540377db",
       "version_major": 2,
       "version_minor": 0
      },
      "text/plain": [
       "Canvas(toolbar=Toolbar(toolitems=[('Home', 'Reset original view', 'home', 'home'), ('Back', 'Back to previous …"
      ]
     },
     "metadata": {},
     "output_type": "display_data"
    }
   ],
   "source": [
    "nax = len(AES.key_size)\n",
    "fig, axs = plt.subplots(nax, 1, figsize=(5, 2*nax), sharex=True, sharey=True)\n",
    "for ax, (key_length, dist) in zip(axs, results.items()):\n",
    "    \n",
    "    bins = np.arange(1 + 8*AES.block_size) - 0.5\n",
    "    ax.hist(dist, bins=bins, density=True, label='hist')[0]\n",
    "    \n",
    "    xgauss = np.arange(1 + 8*AES.block_size)\n",
    "    gauss = stats.norm(loc=np.mean(dist), scale=np.std(dist)).pdf(xgauss)\n",
    "    ax.plot(xgauss, gauss, alpha=0.7, label='gaussian fit')\n",
    "    \n",
    "    ax.set(\n",
    "        xticks=8*np.arange(AES.block_size+1, step=4),\n",
    "        ylabel='prob. density',\n",
    "    )\n",
    "    ax.text(0.1, 0.8, f'{8*key_length}bit key', transform=ax.transAxes)\n",
    "    ax.legend(loc='upper right')\n",
    "    ax.grid(True)\n",
    "\n",
    "axs[0].set(ylabel='prob.density')\n",
    "fig.tight_layout(w_pad=0)"
   ]
  }
 ],
 "metadata": {
  "kernelspec": {
   "display_name": "Python 3",
   "language": "python",
   "name": "python3"
  },
  "language_info": {
   "codemirror_mode": {
    "name": "ipython",
    "version": 3
   },
   "file_extension": ".py",
   "mimetype": "text/x-python",
   "name": "python",
   "nbconvert_exporter": "python",
   "pygments_lexer": "ipython3",
   "version": "3.8.8"
  }
 },
 "nbformat": 4,
 "nbformat_minor": 4
}
